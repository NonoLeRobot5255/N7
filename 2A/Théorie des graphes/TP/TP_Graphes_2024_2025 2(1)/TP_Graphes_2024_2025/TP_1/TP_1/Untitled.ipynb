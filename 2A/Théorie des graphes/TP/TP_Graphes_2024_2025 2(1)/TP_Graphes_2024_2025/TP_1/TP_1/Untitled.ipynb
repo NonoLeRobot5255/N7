{
 "cells": [
  {
   "cell_type": "code",
   "execution_count": 1,
   "id": "94291012-c9a2-4b32-898f-4b821d100956",
   "metadata": {},
   "outputs": [
    {
     "name": "stderr",
     "output_type": "stream",
     "text": [
      "\n",
      "                Error: MATLAB Kernel could not communicate with MATLAB.\n",
      "                Reason: Possibly due to invalid jupyter security tokens.\n",
      "                "
     ]
    }
   ],
   "source": [
    "A = 1\n",
    "A = eye(53)"
   ]
  },
  {
   "cell_type": "code",
   "execution_count": null,
   "id": "1ae93662-9006-489c-bdb0-1cb3414bc514",
   "metadata": {},
   "outputs": [],
   "source": []
  }
 ],
 "metadata": {
  "kernelspec": {
   "display_name": "MATLAB Kernel",
   "language": "matlab",
   "name": "jupyter_matlab_kernel"
  },
  "language_info": {
   "file_extension": ".m",
   "mimetype": "text/x-matlab",
   "name": "matlab"
  }
 },
 "nbformat": 4,
 "nbformat_minor": 5
}
