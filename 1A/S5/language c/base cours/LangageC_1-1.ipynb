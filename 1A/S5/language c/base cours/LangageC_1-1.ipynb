{
 "cells": [
  {
   "cell_type": "markdown",
   "id": "electric-bobby",
   "metadata": {},
   "source": [
    "***Avant de continuer, assurez-vous d'avoir suivi la procédure pour faire fonctionner le kernel C de Jupyter (voir Moodle). La partie droite de la barre des menus de Jupyter doit ressembler à ceci :***\n",
    "\n",
    "<center><img width=\"18%\" src=\"data:image/png;base64,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\" /><center>"
   ]
  },
  {
   "cell_type": "markdown",
   "id": "arctic-broadcast",
   "metadata": {},
   "source": [
    "La matière _Langage C_ est un petit module de trois séances au sein de l'UE Analyse de Données et Automatique. Le but du module est de vous faire découvrir un autre langage impératif, et de vous introduire à un langage que vous utiliserez abondamment au second semestre, au cours de l'UE Systèmes d'Exploitation Centralisés, notamment. Elle est complétée par un autre module de 3 séances, au début du second semestre.\n",
    "\n",
    "Cette matière prend la forme de _classeurs Jupyter_, à lire/intéragir _en autonomie_ et <u>_en binôme_</u>. L'encadrant.e de TP est surtout là pour vous décoincer ou apporter des compléments sur le contenu du classeur."
   ]
  },
  {
   "cell_type": "markdown",
   "id": "narrow-observation",
   "metadata": {},
   "source": [
    "La matière Langage C est évaluée selon deux modalités :\n",
    "  1. Un \"projet\" (court) à rendre en binôme, introduit dans le troisième et dernier classeur\n",
    "  2. Un partiel, sous la forme d'un QCM de 30 minutes à correction automatique"
   ]
  },
  {
   "cell_type": "markdown",
   "id": "sound-society",
   "metadata": {},
   "source": [
    "*Ceci est le classeur numéro **1** de la matière Langage C du **1er semestre**, à réaliser dans le temps de la première séance de Langage C.*\n",
    "\n",
    "Ce premier classeur contient les points suivants :\n",
    " - Présentation du langage C\n",
    " - Bases du langage\n",
    "   + Structure de base\n",
    "   + Littéraux\n",
    "   + Variables\n",
    "   + Structures de contrôle\n",
    "   \n",
    "Il se termine avec quelques petits exercices de mise en pratique. (Ces exercices ne sont pas à rendre mais vous pouvez bien sûr les envoyer à votre encadrant.e de TP pour qu'iel y jette un oeil)."
   ]
  },
  {
   "cell_type": "markdown",
   "id": "awful-platinum",
   "metadata": {},
   "source": [
    "_Note : tout au long du classeur, vous trouverez des [liens hypertextes](https://fr.wikipedia.org/wiki/Hyperlien) indiqués en bleu ; ils mènent généralement à des compléments d'information, pour votre culture personnelle !_"
   ]
  },
  {
   "cell_type": "markdown",
   "id": "changed-glance",
   "metadata": {},
   "source": [
    "# Le langage C : présentation\n",
    "\n",
    "Le C est un langage de programmation conçu en 1972 par Dennis Ritchie des laboratoires Bell. Initialement proposé comme surcouche du langage assembleur, le C a beaucoup gagné en popularité dans les années 80. Aujourd'hui encore, ce langage est utilisé un peu partout dans le paysage informatique, [et continue d'évoluer](https://en.wikipedia.org/wiki/C23_(C_standard_revision)).\n",
    "\n",
    "Le C est un langage :\n",
    " * compilé : on utilise un compilateur pour transformer des sources C en binaire exécutable\n",
    " * impératif et structuré : un programme se compose de successions d'instructions et de structures de contrôle (boucles, conditionnelles, etc.), et peut êre découpé en sous-programmes\n",
    " * à typage statique explicite : le type des variables est donné dans le code et ne peut pas changer, et la concordance entre les types est calculée à la compilation\n",
    " \n",
    "Bien que ces caractéristiques le rapprochent de langages comme Ada, le C est un langage _bas niveau_, c'est-à-dire _très proche de la machine_. Il faut gérer la plupart des ressources soi-même (mémoire, fichiers, etc.) et on a un contrôle très fin sur le programme (taille des variables en mémoire, dialogue avec le système d'exploitation...). C'est un langage qui fait assez peu de choses « tout seul » : ce qui est écrit est exécuté, et rien de plus.\n",
    "\n",
    "Pour ces raisons, le C est très utilisé pour écrire des _drivers_, des fragments de systèmes d'exploitation, ou encore des contrôleurs de _systèmes embarqués_, où on a besoin d'être très précis sur le comportement du programme. On l'utilise aussi dans des applications à hautes performances en mémoire et en temps.\n",
    "\n",
    "Dans une [étude de 2017 comparant les performances de différents langages de programmation](https://dl.acm.org/doi/pdf/10.1145/3136014.3136031), le C se hisse sans problème sur le podium comme un des langages les plus rapides, les plus efficaces en temps, en énergie, et en mémoire !"
   ]
  },
  {
   "cell_type": "markdown",
   "id": "satisfactory-investigator",
   "metadata": {},
   "source": [
    "## Compilation et exécution\n",
    "\n",
    "Comme dit plus haut, le langage C est _compilé_. Les fichiers source ont généralement pour extension `.c`. Ils sont donnés à un _compilateur_ pour être compilés en _fichiers objets_ (`.o`). Ces fichiers objets sont rassemblés et transformés en binaire lors d'une étape appelée _édition des liens_."
   ]
  },
  {
   "cell_type": "markdown",
   "id": "premier-drilling",
   "metadata": {},
   "source": [
    "<center>\n",
    "<img width=\"55%\" src=\"data:image/svg+xml;base64,PHN2ZyB4bWxucz0iaHR0cDovL3d3dy53My5vcmcvMjAwMC9zdmciIHhtbG5zOnhsaW5rPSJodHRwOi8vd3d3LnczLm9yZy8xOTk5L3hsaW5rIiB2ZXJzaW9uPSIxLjEiIHdpZHRoPSI0NTlweCIgaGVpZ2h0PSIyNjFweCIgdmlld0JveD0iLTAuNSAtMC41IDQ1OSAyNjEiPjxkZWZzLz48Zz48cGF0aCBkPSJNIDAgMCBMIDM1IDAgTCA1MCAxNSBMIDUwIDYwIEwgMCA2MCBMIDAgMCBaIiBmaWxsPSJyZ2IoMjU1LCAyNTUsIDI1NSkiIHN0cm9rZT0icmdiKDAsIDAsIDApIiBzdHJva2UtbWl0ZXJsaW1pdD0iMTAiIHBvaW50ZXItZXZlbnRzPSJhbGwiLz48cGF0aCBkPSJNIDM1IDAgTCAzNSAxNSBMIDUwIDE1IFoiIGZpbGwtb3BhY2l0eT0iMC4wNSIgZmlsbD0iIzAwMDAwMCIgc3Ryb2tlPSJub25lIiBwb2ludGVyLWV2ZW50cz0iYWxsIi8+PHBhdGggZD0iTSAzNSAwIEwgMzUgMTUgTCA1MCAxNSIgZmlsbD0ibm9uZSIgc3Ryb2tlPSJyZ2IoMCwgMCwgMCkiIHN0cm9rZS1taXRlcmxpbWl0PSIxMCIgcG9pbnRlci1ldmVudHM9ImFsbCIvPjxwYXRoIGQ9Ik0gMCA5MCBMIDM1IDkwIEwgNTAgMTA1IEwgNTAgMTUwIEwgMCAxNTAgTCAwIDkwIFoiIGZpbGw9InJnYigyNTUsIDI1NSwgMjU1KSIgc3Ryb2tlPSJyZ2IoMCwgMCwgMCkiIHN0cm9rZS1taXRlcmxpbWl0PSIxMCIgcG9pbnRlci1ldmVudHM9ImFsbCIvPjxwYXRoIGQ9Ik0gMzUgOTAgTCAzNSAxMDUgTCA1MCAxMDUgWiIgZmlsbC1vcGFjaXR5PSIwLjA1IiBmaWxsPSIjMDAwMDAwIiBzdHJva2U9Im5vbmUiIHBvaW50ZXItZXZlbnRzPSJhbGwiLz48cGF0aCBkPSJNIDM1IDkwIEwgMzUgMTA1IEwgNTAgMTA1IiBmaWxsPSJub25lIiBzdHJva2U9InJnYigwLCAwLCAwKSIgc3Ryb2tlLW1pdGVybGltaXQ9IjEwIiBwb2ludGVyLWV2ZW50cz0iYWxsIi8+PHJlY3QgeD0iMCIgeT0iNjAiIHdpZHRoPSI1MCIgaGVpZ2h0PSIyMCIgZmlsbD0ibm9uZSIgc3Ryb2tlPSJub25lIiBwb2ludGVyLWV2ZW50cz0iYWxsIi8+PGcgdHJhbnNmb3JtPSJ0cmFuc2xhdGUoLTAuNSAtMC41KSI+PHN3aXRjaD48Zm9yZWlnbk9iamVjdCBzdHlsZT0ib3ZlcmZsb3c6IHZpc2libGU7IHRleHQtYWxpZ246IGxlZnQ7IiBwb2ludGVyLWV2ZW50cz0ibm9uZSIgd2lkdGg9IjEwMCUiIGhlaWdodD0iMTAwJSIgcmVxdWlyZWRGZWF0dXJlcz0iaHR0cDovL3d3dy53My5vcmcvVFIvU1ZHMTEvZmVhdHVyZSNFeHRlbnNpYmlsaXR5Ij48ZGl2IHhtbG5zPSJodHRwOi8vd3d3LnczLm9yZy8xOTk5L3hodG1sIiBzdHlsZT0iZGlzcGxheTogZmxleDsgYWxpZ24taXRlbXM6IHVuc2FmZSBjZW50ZXI7IGp1c3RpZnktY29udGVudDogdW5zYWZlIGNlbnRlcjsgd2lkdGg6IDQ4cHg7IGhlaWdodDogMXB4OyBwYWRkaW5nLXRvcDogNzBweDsgbWFyZ2luLWxlZnQ6IDFweDsiPjxkaXYgc3R5bGU9ImJveC1zaXppbmc6IGJvcmRlci1ib3g7IGZvbnQtc2l6ZTogMHB4OyB0ZXh0LWFsaWduOiBjZW50ZXI7IiBkYXRhLWRyYXdpby1jb2xvcnM9ImNvbG9yOiByZ2IoMCwgMCwgMCk7ICI+PGRpdiBzdHlsZT0iZGlzcGxheTogaW5saW5lLWJsb2NrOyBmb250LXNpemU6IDEycHg7IGZvbnQtZmFtaWx5OiBDb3VyaWVyIE5ldzsgY29sb3I6IHJnYigwLCAwLCAwKTsgbGluZS1oZWlnaHQ6IDEuMjsgcG9pbnRlci1ldmVudHM6IGFsbDsgd2hpdGUtc3BhY2U6IG5vcm1hbDsgb3ZlcmZsb3ctd3JhcDogbm9ybWFsOyI+dHJ1Yy5jPC9kaXY+PC9kaXY+PC9kaXY+PC9mb3JlaWduT2JqZWN0Pjx0ZXh0IHg9IjI1IiB5PSI3NCIgZmlsbD0icmdiKDAsIDAsIDApIiBmb250LWZhbWlseT0iQ291cmllciBOZXciIGZvbnQtc2l6ZT0iMTJweCIgdGV4dC1hbmNob3I9Im1pZGRsZSI+dHJ1Yy5jPC90ZXh0Pjwvc3dpdGNoPjwvZz48cmVjdCB4PSIwIiB5PSIxNTAiIHdpZHRoPSI1MCIgaGVpZ2h0PSIyMCIgZmlsbD0ibm9uZSIgc3Ryb2tlPSJub25lIiBwb2ludGVyLWV2ZW50cz0iYWxsIi8+PGcgdHJhbnNmb3JtPSJ0cmFuc2xhdGUoLTAuNSAtMC41KSI+PHN3aXRjaD48Zm9yZWlnbk9iamVjdCBzdHlsZT0ib3ZlcmZsb3c6IHZpc2libGU7IHRleHQtYWxpZ246IGxlZnQ7IiBwb2ludGVyLWV2ZW50cz0ibm9uZSIgd2lkdGg9IjEwMCUiIGhlaWdodD0iMTAwJSIgcmVxdWlyZWRGZWF0dXJlcz0iaHR0cDovL3d3dy53My5vcmcvVFIvU1ZHMTEvZmVhdHVyZSNFeHRlbnNpYmlsaXR5Ij48ZGl2IHhtbG5zPSJodHRwOi8vd3d3LnczLm9yZy8xOTk5L3hodG1sIiBzdHlsZT0iZGlzcGxheTogZmxleDsgYWxpZ24taXRlbXM6IHVuc2FmZSBjZW50ZXI7IGp1c3RpZnktY29udGVudDogdW5zYWZlIGNlbnRlcjsgd2lkdGg6IDQ4cHg7IGhlaWdodDogMXB4OyBwYWRkaW5nLXRvcDogMTYwcHg7IG1hcmdpbi1sZWZ0OiAxcHg7Ij48ZGl2IHN0eWxlPSJib3gtc2l6aW5nOiBib3JkZXItYm94OyBmb250LXNpemU6IDBweDsgdGV4dC1hbGlnbjogY2VudGVyOyIgZGF0YS1kcmF3aW8tY29sb3JzPSJjb2xvcjogcmdiKDAsIDAsIDApOyAiPjxkaXYgc3R5bGU9ImRpc3BsYXk6IGlubGluZS1ibG9jazsgZm9udC1zaXplOiAxMnB4OyBmb250LWZhbWlseTogQ291cmllciBOZXc7IGNvbG9yOiByZ2IoMCwgMCwgMCk7IGxpbmUtaGVpZ2h0OiAxLjI7IHBvaW50ZXItZXZlbnRzOiBhbGw7IHdoaXRlLXNwYWNlOiBub3JtYWw7IG92ZXJmbG93LXdyYXA6IG5vcm1hbDsiPm1hY2guYzwvZGl2PjwvZGl2PjwvZGl2PjwvZm9yZWlnbk9iamVjdD48dGV4dCB4PSIyNSIgeT0iMTY0IiBmaWxsPSJyZ2IoMCwgMCwgMCkiIGZvbnQtZmFtaWx5PSJDb3VyaWVyIE5ldyIgZm9udC1zaXplPSIxMnB4IiB0ZXh0LWFuY2hvcj0ibWlkZGxlIj5tYWNoLmM8L3RleHQ+PC9zd2l0Y2g+PC9nPjxwYXRoIGQ9Ik0gMCAxODAgTCAzNSAxODAgTCA1MCAxOTUgTCA1MCAyNDAgTCAwIDI0MCBMIDAgMTgwIFoiIGZpbGw9InJnYigyNTUsIDI1NSwgMjU1KSIgc3Ryb2tlPSJyZ2IoMCwgMCwgMCkiIHN0cm9rZS1taXRlcmxpbWl0PSIxMCIgcG9pbnRlci1ldmVudHM9ImFsbCIvPjxwYXRoIGQ9Ik0gMzUgMTgwIEwgMzUgMTk1IEwgNTAgMTk1IFoiIGZpbGwtb3BhY2l0eT0iMC4wNSIgZmlsbD0iIzAwMDAwMCIgc3Ryb2tlPSJub25lIiBwb2ludGVyLWV2ZW50cz0iYWxsIi8+PHBhdGggZD0iTSAzNSAxODAgTCAzNSAxOTUgTCA1MCAxOTUiIGZpbGw9Im5vbmUiIHN0cm9rZT0icmdiKDAsIDAsIDApIiBzdHJva2UtbWl0ZXJsaW1pdD0iMTAiIHBvaW50ZXItZXZlbnRzPSJhbGwiLz48cmVjdCB4PSIwIiB5PSIyNDAiIHdpZHRoPSI1MCIgaGVpZ2h0PSIyMCIgZmlsbD0ibm9uZSIgc3Ryb2tlPSJub25lIiBwb2ludGVyLWV2ZW50cz0iYWxsIi8+PGcgdHJhbnNmb3JtPSJ0cmFuc2xhdGUoLTAuNSAtMC41KSI+PHN3aXRjaD48Zm9yZWlnbk9iamVjdCBzdHlsZT0ib3ZlcmZsb3c6IHZpc2libGU7IHRleHQtYWxpZ246IGxlZnQ7IiBwb2ludGVyLWV2ZW50cz0ibm9uZSIgd2lkdGg9IjEwMCUiIGhlaWdodD0iMTAwJSIgcmVxdWlyZWRGZWF0dXJlcz0iaHR0cDovL3d3dy53My5vcmcvVFIvU1ZHMTEvZmVhdHVyZSNFeHRlbnNpYmlsaXR5Ij48ZGl2IHhtbG5zPSJodHRwOi8vd3d3LnczLm9yZy8xOTk5L3hodG1sIiBzdHlsZT0iZGlzcGxheTogZmxleDsgYWxpZ24taXRlbXM6IHVuc2FmZSBjZW50ZXI7IGp1c3RpZnktY29udGVudDogdW5zYWZlIGNlbnRlcjsgd2lkdGg6IDQ4cHg7IGhlaWdodDogMXB4OyBwYWRkaW5nLXRvcDogMjUwcHg7IG1hcmdpbi1sZWZ0OiAxcHg7Ij48ZGl2IHN0eWxlPSJib3gtc2l6aW5nOiBib3JkZXItYm94OyBmb250LXNpemU6IDBweDsgdGV4dC1hbGlnbjogY2VudGVyOyIgZGF0YS1kcmF3aW8tY29sb3JzPSJjb2xvcjogcmdiKDAsIDAsIDApOyAiPjxkaXYgc3R5bGU9ImRpc3BsYXk6IGlubGluZS1ibG9jazsgZm9udC1zaXplOiAxMnB4OyBmb250LWZhbWlseTogQ291cmllciBOZXc7IGNvbG9yOiByZ2IoMCwgMCwgMCk7IGxpbmUtaGVpZ2h0OiAxLjI7IHBvaW50ZXItZXZlbnRzOiBhbGw7IHdoaXRlLXNwYWNlOiBub3JtYWw7IG92ZXJmbG93LXdyYXA6IG5vcm1hbDsiPmJsYWguYzwvZGl2PjwvZGl2PjwvZGl2PjwvZm9yZWlnbk9iamVjdD48dGV4dCB4PSIyNSIgeT0iMjU0IiBmaWxsPSJyZ2IoMCwgMCwgMCkiIGZvbnQtZmFtaWx5PSJDb3VyaWVyIE5ldyIgZm9udC1zaXplPSIxMnB4IiB0ZXh0LWFuY2hvcj0ibWlkZGxlIj5ibGFoLmM8L3RleHQ+PC9zd2l0Y2g+PC9nPjxwYXRoIGQ9Ik0gNzAuNSAzNCBMIDcwLjUgMjYgTCAxMzguMDggMjYgTCAxMzguMDggMTguMDcgTCAxNDkuNSAzMCBMIDEzOC4wOCA0MS45MyBMIDEzOC4wOCAzNCBaIiBmaWxsPSJub25lIiBzdHJva2U9InJnYigwLCAwLCAwKSIgc3Ryb2tlLW1pdGVybGltaXQ9IjEwIiBwb2ludGVyLWV2ZW50cz0iYWxsIi8+PHJlY3QgeD0iNjYiIHk9IjUiIHdpZHRoPSI3MCIgaGVpZ2h0PSIyMCIgZmlsbD0ibm9uZSIgc3Ryb2tlPSJub25lIiBwb2ludGVyLWV2ZW50cz0iYWxsIi8+PGcgdHJhbnNmb3JtPSJ0cmFuc2xhdGUoLTAuNSAtMC41KSI+PHN3aXRjaD48Zm9yZWlnbk9iamVjdCBzdHlsZT0ib3ZlcmZsb3c6IHZpc2libGU7IHRleHQtYWxpZ246IGxlZnQ7IiBwb2ludGVyLWV2ZW50cz0ibm9uZSIgd2lkdGg9IjEwMCUiIGhlaWdodD0iMTAwJSIgcmVxdWlyZWRGZWF0dXJlcz0iaHR0cDovL3d3dy53My5vcmcvVFIvU1ZHMTEvZmVhdHVyZSNFeHRlbnNpYmlsaXR5Ij48ZGl2IHhtbG5zPSJodHRwOi8vd3d3LnczLm9yZy8xOTk5L3hodG1sIiBzdHlsZT0iZGlzcGxheTogZmxleDsgYWxpZ24taXRlbXM6IHVuc2FmZSBjZW50ZXI7IGp1c3RpZnktY29udGVudDogdW5zYWZlIGNlbnRlcjsgd2lkdGg6IDY4cHg7IGhlaWdodDogMXB4OyBwYWRkaW5nLXRvcDogMTVweDsgbWFyZ2luLWxlZnQ6IDY3cHg7Ij48ZGl2IHN0eWxlPSJib3gtc2l6aW5nOiBib3JkZXItYm94OyBmb250LXNpemU6IDBweDsgdGV4dC1hbGlnbjogY2VudGVyOyIgZGF0YS1kcmF3aW8tY29sb3JzPSJjb2xvcjogcmdiKDAsIDAsIDApOyAiPjxkaXYgc3R5bGU9ImRpc3BsYXk6IGlubGluZS1ibG9jazsgZm9udC1zaXplOiAxMnB4OyBmb250LWZhbWlseTogSGVsdmV0aWNhOyBjb2xvcjogcmdiKDAsIDAsIDApOyBsaW5lLWhlaWdodDogMS4yOyBwb2ludGVyLWV2ZW50czogYWxsOyBmb250LXN0eWxlOiBpdGFsaWM7IHdoaXRlLXNwYWNlOiBub3JtYWw7IG92ZXJmbG93LXdyYXA6IG5vcm1hbDsiPmNvbXBpbGF0aW9uPC9kaXY+PC9kaXY+PC9kaXY+PC9mb3JlaWduT2JqZWN0Pjx0ZXh0IHg9IjEwMSIgeT0iMTkiIGZpbGw9InJnYigwLCAwLCAwKSIgZm9udC1mYW1pbHk9IkhlbHZldGljYSIgZm9udC1zaXplPSIxMnB4IiB0ZXh0LWFuY2hvcj0ibWlkZGxlIiBmb250LXN0eWxlPSJpdGFsaWMiPmNvbXBpbGF0aW9uPC90ZXh0Pjwvc3dpdGNoPjwvZz48cGF0aCBkPSJNIDcwLjUgMTI0IEwgNzAuNSAxMTYgTCAxMzguMDggMTE2IEwgMTM4LjA4IDEwOC4wNyBMIDE0OS41IDEyMCBMIDEzOC4wOCAxMzEuOTMgTCAxMzguMDggMTI0IFoiIGZpbGw9Im5vbmUiIHN0cm9rZT0icmdiKDAsIDAsIDApIiBzdHJva2UtbWl0ZXJsaW1pdD0iMTAiIHBvaW50ZXItZXZlbnRzPSJhbGwiLz48cmVjdCB4PSI2NiIgeT0iOTUiIHdpZHRoPSI3MCIgaGVpZ2h0PSIyMCIgZmlsbD0ibm9uZSIgc3Ryb2tlPSJub25lIiBwb2ludGVyLWV2ZW50cz0iYWxsIi8+PGcgdHJhbnNmb3JtPSJ0cmFuc2xhdGUoLTAuNSAtMC41KSI+PHN3aXRjaD48Zm9yZWlnbk9iamVjdCBzdHlsZT0ib3ZlcmZsb3c6IHZpc2libGU7IHRleHQtYWxpZ246IGxlZnQ7IiBwb2ludGVyLWV2ZW50cz0ibm9uZSIgd2lkdGg9IjEwMCUiIGhlaWdodD0iMTAwJSIgcmVxdWlyZWRGZWF0dXJlcz0iaHR0cDovL3d3dy53My5vcmcvVFIvU1ZHMTEvZmVhdHVyZSNFeHRlbnNpYmlsaXR5Ij48ZGl2IHhtbG5zPSJodHRwOi8vd3d3LnczLm9yZy8xOTk5L3hodG1sIiBzdHlsZT0iZGlzcGxheTogZmxleDsgYWxpZ24taXRlbXM6IHVuc2FmZSBjZW50ZXI7IGp1c3RpZnktY29udGVudDogdW5zYWZlIGNlbnRlcjsgd2lkdGg6IDY4cHg7IGhlaWdodDogMXB4OyBwYWRkaW5nLXRvcDogMTA1cHg7IG1hcmdpbi1sZWZ0OiA2N3B4OyI+PGRpdiBzdHlsZT0iYm94LXNpemluZzogYm9yZGVyLWJveDsgZm9udC1zaXplOiAwcHg7IHRleHQtYWxpZ246IGNlbnRlcjsiIGRhdGEtZHJhd2lvLWNvbG9ycz0iY29sb3I6IHJnYigwLCAwLCAwKTsgIj48ZGl2IHN0eWxlPSJkaXNwbGF5OiBpbmxpbmUtYmxvY2s7IGZvbnQtc2l6ZTogMTJweDsgZm9udC1mYW1pbHk6IEhlbHZldGljYTsgY29sb3I6IHJnYigwLCAwLCAwKTsgbGluZS1oZWlnaHQ6IDEuMjsgcG9pbnRlci1ldmVudHM6IGFsbDsgZm9udC1zdHlsZTogaXRhbGljOyB3aGl0ZS1zcGFjZTogbm9ybWFsOyBvdmVyZmxvdy13cmFwOiBub3JtYWw7Ij5jb21waWxhdGlvbjwvZGl2PjwvZGl2PjwvZGl2PjwvZm9yZWlnbk9iamVjdD48dGV4dCB4PSIxMDEiIHk9IjEwOSIgZmlsbD0icmdiKDAsIDAsIDApIiBmb250LWZhbWlseT0iSGVsdmV0aWNhIiBmb250LXNpemU9IjEycHgiIHRleHQtYW5jaG9yPSJtaWRkbGUiIGZvbnQtc3R5bGU9Iml0YWxpYyI+Y29tcGlsYXRpb248L3RleHQ+PC9zd2l0Y2g+PC9nPjxwYXRoIGQ9Ik0gNzAuNSAyMTQgTCA3MC41IDIwNiBMIDEzOC4wOCAyMDYgTCAxMzguMDggMTk4LjA3IEwgMTQ5LjUgMjEwIEwgMTM4LjA4IDIyMS45MyBMIDEzOC4wOCAyMTQgWiIgZmlsbD0ibm9uZSIgc3Ryb2tlPSJyZ2IoMCwgMCwgMCkiIHN0cm9rZS1taXRlcmxpbWl0PSIxMCIgcG9pbnRlci1ldmVudHM9ImFsbCIvPjxyZWN0IHg9IjY2IiB5PSIxODUiIHdpZHRoPSI3MCIgaGVpZ2h0PSIyMCIgZmlsbD0ibm9uZSIgc3Ryb2tlPSJub25lIiBwb2ludGVyLWV2ZW50cz0iYWxsIi8+PGcgdHJhbnNmb3JtPSJ0cmFuc2xhdGUoLTAuNSAtMC41KSI+PHN3aXRjaD48Zm9yZWlnbk9iamVjdCBzdHlsZT0ib3ZlcmZsb3c6IHZpc2libGU7IHRleHQtYWxpZ246IGxlZnQ7IiBwb2ludGVyLWV2ZW50cz0ibm9uZSIgd2lkdGg9IjEwMCUiIGhlaWdodD0iMTAwJSIgcmVxdWlyZWRGZWF0dXJlcz0iaHR0cDovL3d3dy53My5vcmcvVFIvU1ZHMTEvZmVhdHVyZSNFeHRlbnNpYmlsaXR5Ij48ZGl2IHhtbG5zPSJodHRwOi8vd3d3LnczLm9yZy8xOTk5L3hodG1sIiBzdHlsZT0iZGlzcGxheTogZmxleDsgYWxpZ24taXRlbXM6IHVuc2FmZSBjZW50ZXI7IGp1c3RpZnktY29udGVudDogdW5zYWZlIGNlbnRlcjsgd2lkdGg6IDY4cHg7IGhlaWdodDogMXB4OyBwYWRkaW5nLXRvcDogMTk1cHg7IG1hcmdpbi1sZWZ0OiA2N3B4OyI+PGRpdiBzdHlsZT0iYm94LXNpemluZzogYm9yZGVyLWJveDsgZm9udC1zaXplOiAwcHg7IHRleHQtYWxpZ246IGNlbnRlcjsiIGRhdGEtZHJhd2lvLWNvbG9ycz0iY29sb3I6IHJnYigwLCAwLCAwKTsgIj48ZGl2IHN0eWxlPSJkaXNwbGF5OiBpbmxpbmUtYmxvY2s7IGZvbnQtc2l6ZTogMTJweDsgZm9udC1mYW1pbHk6IEhlbHZldGljYTsgY29sb3I6IHJnYigwLCAwLCAwKTsgbGluZS1oZWlnaHQ6IDEuMjsgcG9pbnRlci1ldmVudHM6IGFsbDsgZm9udC1zdHlsZTogaXRhbGljOyB3aGl0ZS1zcGFjZTogbm9ybWFsOyBvdmVyZmxvdy13cmFwOiBub3JtYWw7Ij5jb21waWxhdGlvbjwvZGl2PjwvZGl2PjwvZGl2PjwvZm9yZWlnbk9iamVjdD48dGV4dCB4PSIxMDEiIHk9IjE5OSIgZmlsbD0icmdiKDAsIDAsIDApIiBmb250LWZhbWlseT0iSGVsdmV0aWNhIiBmb250LXNpemU9IjEycHgiIHRleHQtYW5jaG9yPSJtaWRkbGUiIGZvbnQtc3R5bGU9Iml0YWxpYyI+Y29tcGlsYXRpb248L3RleHQ+PC9zd2l0Y2g+PC9nPjxwYXRoIGQ9Ik0gMTcwIDAgTCAyMDUgMCBMIDIyMCAxNSBMIDIyMCA2MCBMIDE3MCA2MCBMIDE3MCAwIFoiIGZpbGw9InJnYigyNTUsIDI1NSwgMjU1KSIgc3Ryb2tlPSJyZ2IoMCwgMCwgMCkiIHN0cm9rZS1taXRlcmxpbWl0PSIxMCIgcG9pbnRlci1ldmVudHM9ImFsbCIvPjxwYXRoIGQ9Ik0gMjA1IDAgTCAyMDUgMTUgTCAyMjAgMTUgWiIgZmlsbC1vcGFjaXR5PSIwLjA1IiBmaWxsPSIjMDAwMDAwIiBzdHJva2U9Im5vbmUiIHBvaW50ZXItZXZlbnRzPSJhbGwiLz48cGF0aCBkPSJNIDIwNSAwIEwgMjA1IDE1IEwgMjIwIDE1IiBmaWxsPSJub25lIiBzdHJva2U9InJnYigwLCAwLCAwKSIgc3Ryb2tlLW1pdGVybGltaXQ9IjEwIiBwb2ludGVyLWV2ZW50cz0iYWxsIi8+PHBhdGggZD0iTSAxNzAgOTAgTCAyMDUgOTAgTCAyMjAgMTA1IEwgMjIwIDE1MCBMIDE3MCAxNTAgTCAxNzAgOTAgWiIgZmlsbD0icmdiKDI1NSwgMjU1LCAyNTUpIiBzdHJva2U9InJnYigwLCAwLCAwKSIgc3Ryb2tlLW1pdGVybGltaXQ9IjEwIiBwb2ludGVyLWV2ZW50cz0iYWxsIi8+PHBhdGggZD0iTSAyMDUgOTAgTCAyMDUgMTA1IEwgMjIwIDEwNSBaIiBmaWxsLW9wYWNpdHk9IjAuMDUiIGZpbGw9IiMwMDAwMDAiIHN0cm9rZT0ibm9uZSIgcG9pbnRlci1ldmVudHM9ImFsbCIvPjxwYXRoIGQ9Ik0gMjA1IDkwIEwgMjA1IDEwNSBMIDIyMCAxMDUiIGZpbGw9Im5vbmUiIHN0cm9rZT0icmdiKDAsIDAsIDApIiBzdHJva2UtbWl0ZXJsaW1pdD0iMTAiIHBvaW50ZXItZXZlbnRzPSJhbGwiLz48cmVjdCB4PSIxNzAiIHk9IjYwIiB3aWR0aD0iNTAiIGhlaWdodD0iMjAiIGZpbGw9Im5vbmUiIHN0cm9rZT0ibm9uZSIgcG9pbnRlci1ldmVudHM9ImFsbCIvPjxnIHRyYW5zZm9ybT0idHJhbnNsYXRlKC0wLjUgLTAuNSkiPjxzd2l0Y2g+PGZvcmVpZ25PYmplY3Qgc3R5bGU9Im92ZXJmbG93OiB2aXNpYmxlOyB0ZXh0LWFsaWduOiBsZWZ0OyIgcG9pbnRlci1ldmVudHM9Im5vbmUiIHdpZHRoPSIxMDAlIiBoZWlnaHQ9IjEwMCUiIHJlcXVpcmVkRmVhdHVyZXM9Imh0dHA6Ly93d3cudzMub3JnL1RSL1NWRzExL2ZlYXR1cmUjRXh0ZW5zaWJpbGl0eSI+PGRpdiB4bWxucz0iaHR0cDovL3d3dy53My5vcmcvMTk5OS94aHRtbCIgc3R5bGU9ImRpc3BsYXk6IGZsZXg7IGFsaWduLWl0ZW1zOiB1bnNhZmUgY2VudGVyOyBqdXN0aWZ5LWNvbnRlbnQ6IHVuc2FmZSBjZW50ZXI7IHdpZHRoOiA0OHB4OyBoZWlnaHQ6IDFweDsgcGFkZGluZy10b3A6IDcwcHg7IG1hcmdpbi1sZWZ0OiAxNzFweDsiPjxkaXYgc3R5bGU9ImJveC1zaXppbmc6IGJvcmRlci1ib3g7IGZvbnQtc2l6ZTogMHB4OyB0ZXh0LWFsaWduOiBjZW50ZXI7IiBkYXRhLWRyYXdpby1jb2xvcnM9ImNvbG9yOiByZ2IoMCwgMCwgMCk7ICI+PGRpdiBzdHlsZT0iZGlzcGxheTogaW5saW5lLWJsb2NrOyBmb250LXNpemU6IDEycHg7IGZvbnQtZmFtaWx5OiBDb3VyaWVyIE5ldzsgY29sb3I6IHJnYigwLCAwLCAwKTsgbGluZS1oZWlnaHQ6IDEuMjsgcG9pbnRlci1ldmVudHM6IGFsbDsgd2hpdGUtc3BhY2U6IG5vcm1hbDsgb3ZlcmZsb3ctd3JhcDogbm9ybWFsOyI+dHJ1Yy5vPC9kaXY+PC9kaXY+PC9kaXY+PC9mb3JlaWduT2JqZWN0Pjx0ZXh0IHg9IjE5NSIgeT0iNzQiIGZpbGw9InJnYigwLCAwLCAwKSIgZm9udC1mYW1pbHk9IkNvdXJpZXIgTmV3IiBmb250LXNpemU9IjEycHgiIHRleHQtYW5jaG9yPSJtaWRkbGUiPnRydWMubzwvdGV4dD48L3N3aXRjaD48L2c+PHJlY3QgeD0iMTcwIiB5PSIxNTAiIHdpZHRoPSI1MCIgaGVpZ2h0PSIyMCIgZmlsbD0ibm9uZSIgc3Ryb2tlPSJub25lIiBwb2ludGVyLWV2ZW50cz0iYWxsIi8+PGcgdHJhbnNmb3JtPSJ0cmFuc2xhdGUoLTAuNSAtMC41KSI+PHN3aXRjaD48Zm9yZWlnbk9iamVjdCBzdHlsZT0ib3ZlcmZsb3c6IHZpc2libGU7IHRleHQtYWxpZ246IGxlZnQ7IiBwb2ludGVyLWV2ZW50cz0ibm9uZSIgd2lkdGg9IjEwMCUiIGhlaWdodD0iMTAwJSIgcmVxdWlyZWRGZWF0dXJlcz0iaHR0cDovL3d3dy53My5vcmcvVFIvU1ZHMTEvZmVhdHVyZSNFeHRlbnNpYmlsaXR5Ij48ZGl2IHhtbG5zPSJodHRwOi8vd3d3LnczLm9yZy8xOTk5L3hodG1sIiBzdHlsZT0iZGlzcGxheTogZmxleDsgYWxpZ24taXRlbXM6IHVuc2FmZSBjZW50ZXI7IGp1c3RpZnktY29udGVudDogdW5zYWZlIGNlbnRlcjsgd2lkdGg6IDQ4cHg7IGhlaWdodDogMXB4OyBwYWRkaW5nLXRvcDogMTYwcHg7IG1hcmdpbi1sZWZ0OiAxNzFweDsiPjxkaXYgc3R5bGU9ImJveC1zaXppbmc6IGJvcmRlci1ib3g7IGZvbnQtc2l6ZTogMHB4OyB0ZXh0LWFsaWduOiBjZW50ZXI7IiBkYXRhLWRyYXdpby1jb2xvcnM9ImNvbG9yOiByZ2IoMCwgMCwgMCk7ICI+PGRpdiBzdHlsZT0iZGlzcGxheTogaW5saW5lLWJsb2NrOyBmb250LXNpemU6IDEycHg7IGZvbnQtZmFtaWx5OiBDb3VyaWVyIE5ldzsgY29sb3I6IHJnYigwLCAwLCAwKTsgbGluZS1oZWlnaHQ6IDEuMjsgcG9pbnRlci1ldmVudHM6IGFsbDsgd2hpdGUtc3BhY2U6IG5vcm1hbDsgb3ZlcmZsb3ctd3JhcDogbm9ybWFsOyI+bWFjaC5vPC9kaXY+PC9kaXY+PC9kaXY+PC9mb3JlaWduT2JqZWN0Pjx0ZXh0IHg9IjE5NSIgeT0iMTY0IiBmaWxsPSJyZ2IoMCwgMCwgMCkiIGZvbnQtZmFtaWx5PSJDb3VyaWVyIE5ldyIgZm9udC1zaXplPSIxMnB4IiB0ZXh0LWFuY2hvcj0ibWlkZGxlIj5tYWNoLm88L3RleHQ+PC9zd2l0Y2g+PC9nPjxwYXRoIGQ9Ik0gMTcwIDE4MCBMIDIwNSAxODAgTCAyMjAgMTk1IEwgMjIwIDI0MCBMIDE3MCAyNDAgTCAxNzAgMTgwIFoiIGZpbGw9InJnYigyNTUsIDI1NSwgMjU1KSIgc3Ryb2tlPSJyZ2IoMCwgMCwgMCkiIHN0cm9rZS1taXRlcmxpbWl0PSIxMCIgcG9pbnRlci1ldmVudHM9ImFsbCIvPjxwYXRoIGQ9Ik0gMjA1IDE4MCBMIDIwNSAxOTUgTCAyMjAgMTk1IFoiIGZpbGwtb3BhY2l0eT0iMC4wNSIgZmlsbD0iIzAwMDAwMCIgc3Ryb2tlPSJub25lIiBwb2ludGVyLWV2ZW50cz0iYWxsIi8+PHBhdGggZD0iTSAyMDUgMTgwIEwgMjA1IDE5NSBMIDIyMCAxOTUiIGZpbGw9Im5vbmUiIHN0cm9rZT0icmdiKDAsIDAsIDApIiBzdHJva2UtbWl0ZXJsaW1pdD0iMTAiIHBvaW50ZXItZXZlbnRzPSJhbGwiLz48cmVjdCB4PSIxNzAiIHk9IjI0MCIgd2lkdGg9IjUwIiBoZWlnaHQ9IjIwIiBmaWxsPSJub25lIiBzdHJva2U9Im5vbmUiIHBvaW50ZXItZXZlbnRzPSJhbGwiLz48ZyB0cmFuc2Zvcm09InRyYW5zbGF0ZSgtMC41IC0wLjUpIj48c3dpdGNoPjxmb3JlaWduT2JqZWN0IHN0eWxlPSJvdmVyZmxvdzogdmlzaWJsZTsgdGV4dC1hbGlnbjogbGVmdDsiIHBvaW50ZXItZXZlbnRzPSJub25lIiB3aWR0aD0iMTAwJSIgaGVpZ2h0PSIxMDAlIiByZXF1aXJlZEZlYXR1cmVzPSJodHRwOi8vd3d3LnczLm9yZy9UUi9TVkcxMS9mZWF0dXJlI0V4dGVuc2liaWxpdHkiPjxkaXYgeG1sbnM9Imh0dHA6Ly93d3cudzMub3JnLzE5OTkveGh0bWwiIHN0eWxlPSJkaXNwbGF5OiBmbGV4OyBhbGlnbi1pdGVtczogdW5zYWZlIGNlbnRlcjsganVzdGlmeS1jb250ZW50OiB1bnNhZmUgY2VudGVyOyB3aWR0aDogNDhweDsgaGVpZ2h0OiAxcHg7IHBhZGRpbmctdG9wOiAyNTBweDsgbWFyZ2luLWxlZnQ6IDE3MXB4OyI+PGRpdiBzdHlsZT0iYm94LXNpemluZzogYm9yZGVyLWJveDsgZm9udC1zaXplOiAwcHg7IHRleHQtYWxpZ246IGNlbnRlcjsiIGRhdGEtZHJhd2lvLWNvbG9ycz0iY29sb3I6IHJnYigwLCAwLCAwKTsgIj48ZGl2IHN0eWxlPSJkaXNwbGF5OiBpbmxpbmUtYmxvY2s7IGZvbnQtc2l6ZTogMTJweDsgZm9udC1mYW1pbHk6IENvdXJpZXIgTmV3OyBjb2xvcjogcmdiKDAsIDAsIDApOyBsaW5lLWhlaWdodDogMS4yOyBwb2ludGVyLWV2ZW50czogYWxsOyB3aGl0ZS1zcGFjZTogbm9ybWFsOyBvdmVyZmxvdy13cmFwOiBub3JtYWw7Ij5ibGFoLm88L2Rpdj48L2Rpdj48L2Rpdj48L2ZvcmVpZ25PYmplY3Q+PHRleHQgeD0iMTk1IiB5PSIyNTQiIGZpbGw9InJnYigwLCAwLCAwKSIgZm9udC1mYW1pbHk9IkNvdXJpZXIgTmV3IiBmb250LXNpemU9IjEycHgiIHRleHQtYW5jaG9yPSJtaWRkbGUiPmJsYWgubzwvdGV4dD48L3N3aXRjaD48L2c+PHBhdGggZD0iTSAyMzcuNTMgMzMuMTggTCAyNDMuMTggMjcuNTMgTCAyOTQuNCA3OC43NCBMIDMwMCA3My4xMyBMIDI5OS42NSA4OS42NSBMIDI4My4xMyA5MCBMIDI4OC43NCA4NC40IFoiIGZpbGw9Im5vbmUiIHN0cm9rZT0icmdiKDAsIDAsIDApIiBzdHJva2UtbWl0ZXJsaW1pdD0iMTAiIHBvaW50ZXItZXZlbnRzPSJhbGwiLz48cGF0aCBkPSJNIDI0MC41IDEyNCBMIDI0MC41IDExNiBMIDI3OC4wOCAxMTYgTCAyNzguMDggMTA4LjA3IEwgMjg5LjUgMTIwIEwgMjc4LjA4IDEzMS45MyBMIDI3OC4wOCAxMjQgWiIgZmlsbD0ibm9uZSIgc3Ryb2tlPSJyZ2IoMCwgMCwgMCkiIHN0cm9rZS1taXRlcmxpbWl0PSIxMCIgcG9pbnRlci1ldmVudHM9ImFsbCIvPjxwYXRoIGQ9Ik0gMjQzLjE4IDIxMi40NyBMIDIzNy41MyAyMDYuODIgTCAyODguNzQgMTU1LjYgTCAyODMuMTMgMTUwIEwgMjk5LjY1IDE1MC4zNSBMIDMwMCAxNjYuODcgTCAyOTQuNCAxNjEuMjYgWiIgZmlsbD0ibm9uZSIgc3Ryb2tlPSJyZ2IoMCwgMCwgMCkiIHN0cm9rZS1taXRlcmxpbWl0PSIxMCIgcG9pbnRlci1ldmVudHM9ImFsbCIvPjxyZWN0IHg9IjI5NSIgeT0iOTUuMjUiIHdpZHRoPSI0OS41IiBoZWlnaHQ9IjQ5LjUiIGZpbGw9Im5vbmUiIHN0cm9rZT0ibm9uZSIgcG9pbnRlci1ldmVudHM9ImFsbCIvPjxwYXRoIGQ9Ik0gMzE5Ljc1IDEyOC43OCBDIDMxNC45MSAxMjguNzggMzEwLjk3IDEyNC44NCAzMTAuOTcgMTIwIEMgMzEwLjk3IDExNS4xNiAzMTQuOTEgMTExLjIyIDMxOS43NSAxMTEuMjIgQyAzMjQuNTkgMTExLjIyIDMyOC41MyAxMTUuMTYgMzI4LjUzIDEyMCBDIDMyOC41MyAxMjQuODQgMzI0LjU5IDEyOC43OCAzMTkuNzUgMTI4Ljc4IFogTSAzMTkuNzUgMTA4Ljk3IEMgMzEzLjY3IDEwOC45NyAzMDguNzIgMTEzLjkyIDMwOC43MiAxMjAgQyAzMDguNzIgMTI2LjA4IDMxMy42NyAxMzEuMDMgMzE5Ljc1IDEzMS4wMyBDIDMyNS44MyAxMzEuMDMgMzMwLjc4IDEyNi4wOCAzMzAuNzggMTIwIEMgMzMwLjc4IDExMy45MiAzMjUuODMgMTA4Ljk3IDMxOS43NSAxMDguOTcgWiBNIDM0Mi4yNSAxMjQuMjEgTCAzMzguMjggMTI0LjIxIEMgMzM3Ljc3IDEyNC4yMSAzMzcuMzMgMTI0LjU1IDMzNy4yIDEyNS4wNCBDIDMzNi43OCAxMjYuNjEgMzM2LjExIDEyNy43NSAzMzUuMzQgMTI5LjA2IEMgMzM1LjA5IDEyOS41IDMzNS4xNiAxMzAuMDYgMzM1LjUyIDEzMC40MyBMIDMzOC4zMiAxMzMuMjEgTCAzMzIuOTMgMTM4LjU3IEwgMzMwLjEyIDEzNS43OCBDIDMyOS43NiAxMzUuNDIgMzI5LjIgMTM1LjM1IDMyOC43NiAxMzUuNiBMIDMyOC41MSAxMzUuNzUgQyAzMjcuMTkgMTM2LjUxIDMyNi4yNCAxMzcuMDcgMzI0LjggMTM3LjQ0IEMgMzI0LjMxIDEzNy41OCAzMjMuOTYgMTM4LjAyIDMyMy45NiAxMzguNTMgTCAzMjMuOTYgMTQyLjUgTCAzMTUuNTQgMTQyLjUgTCAzMTUuNTQgMTM4LjUzIEMgMzE1LjU0IDEzOC4wMiAzMTUuMiAxMzcuNTggMzE0LjcgMTM3LjQ1IEMgMzEzLjE2IDEzNy4wNCAzMTIuMDQgMTM2LjQyIDMxMC42NCAxMzUuNiBDIDMxMC4yIDEzNS4zNCAzMDkuNjMgMTM1LjQxIDMwOS4yNyAxMzUuNzggTCAzMDYuNDkgMTM4LjU4IEwgMzAxLjE0IDEzMy4xOCBMIDMwMy45MyAxMzAuMzcgQyAzMDQuMjggMTMwLjAxIDMwNC4zNiAxMjkuNDYgMzA0LjEgMTI5LjAyIEwgMzAzLjk4IDEyOC44MSBDIDMwMy4yMSAxMjcuNDcgMzAyLjY1IDEyNi41IDMwMi4yNiAxMjUuMDUgQyAzMDIuMTQgMTI0LjU1IDMwMS42OSAxMjQuMjEgMzAxLjE4IDEyNC4yMSBMIDI5Ny4yNSAxMjQuMjEgTCAyOTcuMjUgMTE1Ljc5IEwgMzAxLjIyIDExNS43OSBDIDMwMS43MiAxMTUuNzkgMzAyLjE3IDExNS40NSAzMDIuMyAxMTQuOTUgQyAzMDIuNzIgMTEzLjM4IDMwMy4zNiAxMTIuMjEgMzA0LjE1IDExMC44NiBDIDMwNC40MSAxMTAuNDIgMzA0LjM0IDEwOS44NiAzMDMuOTcgMTA5LjQ5IEwgMzAxLjE3IDEwNi43IEwgMzA2LjU2IDEwMS4zMyBMIDMwOS4zNyAxMDQuMTMgQyAzMDkuNzMgMTA0LjQ5IDMxMC4yOSAxMDQuNTYgMzEwLjczIDEwNC4zMSBMIDMxMC45MyAxMDQuMTkgQyAzMTIuMjcgMTAzLjQxIDMxMy4yNSAxMDIuODUgMzE0LjcgMTAyLjQ2IEMgMzE1LjE5IDEwMi4zMyAzMTUuNTQgMTAxLjg5IDMxNS41NCAxMDEuMzcgTCAzMTUuNTQgOTcuNSBMIDMyMy45NiA5Ny41IEwgMzIzLjk2IDEwMS40NSBDIDMyMy45NiAxMDEuOTYgMzI0LjMgMTAyLjQgMzI0Ljc5IDEwMi41MyBDIDMyNi4yMiAxMDIuOTIgMzI3LjE4IDEwMy40OCAzMjguNSAxMDQuMjYgTCAzMjguNjkgMTA0LjM4IEMgMzI5LjE0IDEwNC42NCAzMjkuNyAxMDQuNTcgMzMwLjA2IDEwNC4yIEwgMzMyLjggMTAxLjQyIEwgMzM4LjA5IDEwNi43OCBMIDMzNS4zMyAxMDkuNTggQyAzMzQuOTggMTA5Ljk0IDMzNC45MSAxMTAuNDkgMzM1LjE2IDExMC45MyBDIDMzNS45NSAxMTIuMzEgMzM2LjU3IDExMy4zOSAzMzYuOTggMTE0Ljk1IEMgMzM3LjExIDExNS40NCAzMzcuNTUgMTE1Ljc5IDMzOC4wNyAxMTUuNzkgTCAzNDIuMjUgMTE1Ljc5IFogTSAzNDIuMzkgMTEzLjU0IEwgMzM4LjkxIDExMy41NCBDIDMzOC41MyAxMTIuNDIgMzM4LjA2IDExMS41IDMzNy41MyAxMTAuNTUgTCAzMzkuNzkgMTA4LjI2IEMgMzQwLjYgMTA3LjQ1IDM0MC42IDEwNi4xMiAzMzkuNzkgMTA1LjMgTCAzMzQuMyA5OS43NCBDIDMzMy41IDk4LjkzIDMzMi4xIDk4LjkzIDMzMS4zIDk5Ljc0IEwgMzI5LjA4IDEwMS45OSBDIDMyOC4xNiAxMDEuNDYgMzI3LjI5IDEwMC45OSAzMjYuMjEgMTAwLjYyIEwgMzI2LjIxIDk3LjM2IEMgMzI2LjIxIDk2LjIgMzI1LjI2IDk1LjI1IDMyNC4xIDk1LjI1IEwgMzE1LjQgOTUuMjUgQyAzMTQuMjQgOTUuMjUgMzEzLjI5IDk2LjIgMzEzLjI5IDk3LjM2IEwgMzEzLjI5IDEwMC41NCBDIDMxMi4xOSAxMDAuOTEgMzExLjI5IDEwMS4zOSAzMTAuMzUgMTAxLjkzIEwgMzA4LjA1IDk5LjY0IEMgMzA3LjIzIDk4LjgyIDMwNS45IDk4LjgyIDMwNS4wOCA5OS42NCBMIDI5OS40OCAxMDUuMjEgQyAyOTkuMDggMTA1LjYxIDI5OC44NiAxMDYuMTQgMjk4Ljg2IDEwNi43IEMgMjk4Ljg2IDEwNy4yNyAyOTkuMDggMTA3LjggMjk5LjQ4IDEwOC4yIEwgMzAxLjc4IDExMC40OCBDIDMwMS4yNCAxMTEuNDQgMzAwLjc1IDExMi40IDMwMC4zOCAxMTMuNTQgTCAyOTcuMTEgMTEzLjU0IEMgMjk1Ljk1IDExMy41NCAyOTUgMTE0LjQ5IDI5NSAxMTUuNjUgTCAyOTUgMTI0LjM1IEMgMjk1IDEyNS41MSAyOTUuOTUgMTI2LjQ2IDI5Ny4xMSAxMjYuNDYgTCAzMDAuMzQgMTI2LjQ2IEMgMzAwLjcxIDEyNy41NiAzMDEuMTkgMTI4LjQ2IDMwMS43MyAxMjkuNCBMIDI5OS40NCAxMzEuNyBDIDI5OC42MyAxMzIuNTIgMjk4LjYzIDEzMy44NSAyOTkuNDQgMTM0LjY3IEwgMzA1IDE0MC4yNiBDIDMwNS4zOSAxNDAuNjYgMzA1LjkzIDE0MC44OCAzMDYuNDkgMTQwLjg4IEwgMzA2LjQ5IDE0MC44OCBDIDMwNy4wNiAxNDAuODggMzA3LjU5IDE0MC42NiAzMDcuOTkgMTQwLjI2IEwgMzEwLjI2IDEzNy45OCBDIDMxMS4yMyAxMzguNTMgMzEyLjE3IDEzOSAzMTMuMjkgMTM5LjM3IEwgMzEzLjI5IDE0Mi42NCBDIDMxMy4yOSAxNDMuOCAzMTQuMjQgMTQ0Ljc1IDMxNS40IDE0NC43NSBMIDMyNC4xIDE0NC43NSBDIDMyNS4yNiAxNDQuNzUgMzI2LjIxIDE0My44IDMyNi4yMSAxNDIuNjQgTCAzMjYuMjEgMTM5LjM3IEMgMzI3LjMxIDEzOSAzMjguMiAxMzguNTIgMzI5LjE0IDEzNy45OCBMIDMzMS40NCAxNDAuMjcgQyAzMzIuMjYgMTQxLjA4IDMzMy41OSAxNDEuMDggMzM0LjQxIDE0MC4yNyBMIDM0MC4wMSAxMzQuNzEgQyAzNDAuNDEgMTM0LjMxIDM0MC42MyAxMzMuNzcgMzQwLjYzIDEzMy4yMSBDIDM0MC42MyAxMzIuNjQgMzQwLjQxIDEzMi4xMSAzNDAuMDEgMTMxLjcxIEwgMzM3LjcyIDEyOS40NCBDIDMzOC4yNSAxMjguNTIgMzM4Ljc0IDEyNy41OSAzMzkuMTIgMTI2LjQ2IEwgMzQyLjM5IDEyNi40NiBDIDM0My41NSAxMjYuNDYgMzQ0LjUgMTI1LjUxIDM0NC41IDEyNC4zNSBMIDM0NC41IDExNS42NSBDIDM0NC41IDExNC40OSAzNDMuNTUgMTEzLjU0IDM0Mi4zOSAxMTMuNTQgWiIgZmlsbD0iIzIzMmYzZCIgc3Ryb2tlPSJub25lIiBwb2ludGVyLWV2ZW50cz0iYWxsIi8+PHBhdGggZD0iTSAzNTQuNSAxMjQgTCAzNTQuNSAxMTYgTCAzODIuMDggMTE2IEwgMzgyLjA4IDEwOC4wNyBMIDM5My41IDEyMCBMIDM4Mi4wOCAxMzEuOTMgTCAzODIuMDggMTI0IFoiIGZpbGw9Im5vbmUiIHN0cm9rZT0icmdiKDAsIDAsIDApIiBzdHJva2UtbWl0ZXJsaW1pdD0iMTAiIHBvaW50ZXItZXZlbnRzPSJhbGwiLz48aW1hZ2UgeD0iNDAzLjUiIHk9IjkyLjUiIHdpZHRoPSI1NCIgaGVpZ2h0PSI1NCIgeGxpbms6aHJlZj0iZGF0YTppbWFnZS9wbmc7YmFzZTY0LGlWQk9SdzBLR2dvQUFBQU5TVWhFVWdBQUFJQUFBQUNBQ0FZQUFBRERQbUhMQUFBRTdrbEVRVlI0WHUyYlcyTGJNQXdFazFPM1IyaFAzVGh1ZnFPaE00UkFTdHRmQ2dTd080UWVUdC9mOHUvV0NyemZ1dnMwL3hZQWJnNUJBQWdBTjFmZzV1MW5BZ1NBbXl0dzgvWXpBUUtBVnVDZjN1SGFHL3g5dFBkNzFSWm5USUFBd080dUMwRUFZUE5tWGJFa0JBRmdscjFqK3l3SFFRQVlNMjdtVlV0QkVBQm1XanUrMXpJUUJJQngwMlpmdVFRRUFXQzJyYS90MXc3QkdRRE15UEdhck9kZS9ldVI3bzlJMlFyQkRIUG9POENNSEVMZlUwSzNoV0NHT1FIZ1AyTmJRaEFBNWc2STdTQUlBSE1CMkc0U0JJRDVBR3dGUVFDb0FXQWJDQUpBSFFCYlFCQUFhZ0ZZSG9JQVVBL0EwaEFFZ0hNQVdCYUNBSEFlQUV0Q0VBRE9CV0E1Q0FMQStRQXNCVUVBNkFGZ0dRZ0NRQjhBUzBDd0FnRDBhNksxaUhxMCtXbC9xdC8rZ0tUeXErQ3Z6a2hBeWtIeEpDQ3RWK2VuL2FrK093bFVmaFVjQUo0S3pORFFRS0R5cStBQU1CV0FuMEtnUEZUQkFXQTZBRCtCUUhtb2dnTkFDUUN2UXFBOFZNRUJvQXlBVnlCUUhxcmdBRkFLd0NnRXlrTVZmQklBVkNPOVJsSTh2YVpWNzkrYTM0cnpXYndWcUR1KzFRQktQa0hmd3hRQmdCMndnSEtHNHl0Szh3Y0F0cWZVQUU2dkoyd213SURJUjVjRUFCRFFDdFFkVDN6WSttaC9XaS9ObjFzQXllOGZjamxEbmdIVWJhcjBoRlEvaFEvUVVkcGZKZ0E3VUdvQXA4OURJRUZhYlZEMS9zUkFhWDRTbDRyTGg2QjVmdy93bmRZQm9QZ3RoQ0F2TllDU1Z6K0RaQUt3QXdHZytBUmFnVzA4SVZDOWYyditUQUNTUDk4QlVDRjdRcnJqcVVGYkgrMVA2Nlg1ZDVnQUpCQ3RVNDhrTU8xUDY1U2Y0cWsrdGI4Sy9xcmNGa2p4SkJDdFU0L2QrYWwrcW8vNlU1OVpxYmd6dmdPTTFIQjBEUWxFQWxmbnAvMnBQdW92QU1pM0dES0kxcFZCK1E1QTh2STZHVUFuakRNY1gwSDVhWCtxVCsydmd2TU1RTjQ5MTYzR0FXQkk1dTh2SWdOSVlKaytBS3h1UUFDUWlKT0FCSUJNZi9ud1VuMW5tRk5hNE9YdDVRWkw5UTBBYkVEM0ZRR2cyNEhtL0FHZzJZRHU5QUdnMjRIbS9BR2cyWUR1OUFHZzI0SG0vSmNIZ0Jvay9lMmJqTTNmWFovcVh3VXY4bHVBN1NFQUVNS3dUZ0tTUVJSUDVkSCtGRy96MC83VjlhbjlWWEFtQUhuL1hMY2FFNkJxZnhVY0FBTEFwd0tXVUlvbmxTM0VObjkzZmFwL0Zad0pRTjduRmpCeUQ3UW4wRUpzOHhNRjFmV3AvVlh3cEFsQUFwSkJ0Z2U3djQxdjdkK0tOK01ab0ZXQUU1NWhyTWFsZ05uaUFvQi9DRzQ5QUFIQUcxaDZRaWRNcUVQQUFrQUFvQW1FNjF1ZmdBa25iT3YrTXdFeUFmQ0Uwd1ZibjRCTUFMS1gxd1BBc1VaMnlwYnFhNHZMYTZDL2hkQVJDd0Nna0lYWUNtempBd0Fvc0xyQXE5ZVg3d0RGZ0FXQXhVZDA5WWdOQUFHZ2RNcVdBbVlmb1BJV2tMZUE5ajhKb3hGUGtOTUpvLzFwbmZKVFBOV245bGZCWDVYYkFpbWVCS0oxNnJFN1A5VlA5VkYvcGZlbkdiY0FhcEFFb25VU3FEcy8xVS8xVVg4QlFMNEdra0cwcmd4NmJCNEFTR0g1RmtJQ3kvVDVqeUYwQXJvTjZNNVBnRkY5cEc5dUFia0ZmSytBb2lkdkFYUjRuK3RXNDh0UGdDRVZiM3hSQUxpeCtUTmVzNWQvQnJpNXY5aCtKZ0JLZE8wTEFzQzEvY1h1QWdCS2RPMExBc0MxL2NYdUFnQktkTzBMdGdmZzJ2YjBkNmMrTktuZ3dTK0IvUkpkdXdMbG9Rb09BRXVRcFR4VXdRRWdBSXg4cWx4Q3BRc1hvUTZ4Q3M0RVdBSXI1YUVLRGdBQklMZUFmZ2JVSVZiQi9iMm5BcXRBQUxBS2JoNGZBRFkzMEpZZkFLeUNtOGNIZ00wTnRPVUhBS3ZnNXZFQllITURiZmtCd0NxNGVmd0hUQXFJa1BuRjBQa0FBQUFBU1VWT1JLNUNZSUk9IiBwcmVzZXJ2ZUFzcGVjdFJhdGlvPSJub25lIi8+PHJlY3QgeD0iNDA0IiB5PSIxNDciIHdpZHRoPSI1MCIgaGVpZ2h0PSIyMCIgZmlsbD0ibm9uZSIgc3Ryb2tlPSJub25lIiBwb2ludGVyLWV2ZW50cz0iYWxsIi8+PGcgdHJhbnNmb3JtPSJ0cmFuc2xhdGUoLTAuNSAtMC41KSI+PHN3aXRjaD48Zm9yZWlnbk9iamVjdCBzdHlsZT0ib3ZlcmZsb3c6IHZpc2libGU7IHRleHQtYWxpZ246IGxlZnQ7IiBwb2ludGVyLWV2ZW50cz0ibm9uZSIgd2lkdGg9IjEwMCUiIGhlaWdodD0iMTAwJSIgcmVxdWlyZWRGZWF0dXJlcz0iaHR0cDovL3d3dy53My5vcmcvVFIvU1ZHMTEvZmVhdHVyZSNFeHRlbnNpYmlsaXR5Ij48ZGl2IHhtbG5zPSJodHRwOi8vd3d3LnczLm9yZy8xOTk5L3hodG1sIiBzdHlsZT0iZGlzcGxheTogZmxleDsgYWxpZ24taXRlbXM6IHVuc2FmZSBjZW50ZXI7IGp1c3RpZnktY29udGVudDogdW5zYWZlIGNlbnRlcjsgd2lkdGg6IDQ4cHg7IGhlaWdodDogMXB4OyBwYWRkaW5nLXRvcDogMTU3cHg7IG1hcmdpbi1sZWZ0OiA0MDVweDsiPjxkaXYgc3R5bGU9ImJveC1zaXppbmc6IGJvcmRlci1ib3g7IGZvbnQtc2l6ZTogMHB4OyB0ZXh0LWFsaWduOiBjZW50ZXI7IiBkYXRhLWRyYXdpby1jb2xvcnM9ImNvbG9yOiByZ2IoMCwgMCwgMCk7ICI+PGRpdiBzdHlsZT0iZGlzcGxheTogaW5saW5lLWJsb2NrOyBmb250LXNpemU6IDEycHg7IGZvbnQtZmFtaWx5OiBDb3VyaWVyIE5ldzsgY29sb3I6IHJnYigwLCAwLCAwKTsgbGluZS1oZWlnaHQ6IDEuMjsgcG9pbnRlci1ldmVudHM6IGFsbDsgd2hpdGUtc3BhY2U6IG5vcm1hbDsgb3ZlcmZsb3ctd3JhcDogbm9ybWFsOyI+YmluYWlyZTwvZGl2PjwvZGl2PjwvZGl2PjwvZm9yZWlnbk9iamVjdD48dGV4dCB4PSI0MjkiIHk9IjE2MSIgZmlsbD0icmdiKDAsIDAsIDApIiBmb250LWZhbWlseT0iQ291cmllciBOZXciIGZvbnQtc2l6ZT0iMTJweCIgdGV4dC1hbmNob3I9Im1pZGRsZSI+YmluYWlyZTwvdGV4dD48L3N3aXRjaD48L2c+PHJlY3QgeD0iMjk0LjUiIHk9IjE2NyIgd2lkdGg9IjUwIiBoZWlnaHQ9IjMwLjUiIGZpbGw9Im5vbmUiIHN0cm9rZT0ibm9uZSIgcG9pbnRlci1ldmVudHM9ImFsbCIvPjxnIHRyYW5zZm9ybT0idHJhbnNsYXRlKC0wLjUgLTAuNSkiPjxzd2l0Y2g+PGZvcmVpZ25PYmplY3Qgc3R5bGU9Im92ZXJmbG93OiB2aXNpYmxlOyB0ZXh0LWFsaWduOiBsZWZ0OyIgcG9pbnRlci1ldmVudHM9Im5vbmUiIHdpZHRoPSIxMDAlIiBoZWlnaHQ9IjEwMCUiIHJlcXVpcmVkRmVhdHVyZXM9Imh0dHA6Ly93d3cudzMub3JnL1RSL1NWRzExL2ZlYXR1cmUjRXh0ZW5zaWJpbGl0eSI+PGRpdiB4bWxucz0iaHR0cDovL3d3dy53My5vcmcvMTk5OS94aHRtbCIgc3R5bGU9ImRpc3BsYXk6IGZsZXg7IGFsaWduLWl0ZW1zOiB1bnNhZmUgY2VudGVyOyBqdXN0aWZ5LWNvbnRlbnQ6IHVuc2FmZSBjZW50ZXI7IHdpZHRoOiA0OHB4OyBoZWlnaHQ6IDFweDsgcGFkZGluZy10b3A6IDE4MnB4OyBtYXJnaW4tbGVmdDogMjk2cHg7Ij48ZGl2IHN0eWxlPSJib3gtc2l6aW5nOiBib3JkZXItYm94OyBmb250LXNpemU6IDBweDsgdGV4dC1hbGlnbjogY2VudGVyOyIgZGF0YS1kcmF3aW8tY29sb3JzPSJjb2xvcjogcmdiKDAsIDAsIDApOyAiPjxkaXYgc3R5bGU9ImRpc3BsYXk6IGlubGluZS1ibG9jazsgZm9udC1zaXplOiAxMnB4OyBmb250LWZhbWlseTogSGVsdmV0aWNhOyBjb2xvcjogcmdiKDAsIDAsIDApOyBsaW5lLWhlaWdodDogMS4yOyBwb2ludGVyLWV2ZW50czogYWxsOyBmb250LXN0eWxlOiBpdGFsaWM7IHdoaXRlLXNwYWNlOiBub3JtYWw7IG92ZXJmbG93LXdyYXA6IG5vcm1hbDsiPjxkaXY+w6lkaXRpb248L2Rpdj48ZGl2PmRlcyBsaWVuczxiciAvPjwvZGl2PjwvZGl2PjwvZGl2PjwvZGl2PjwvZm9yZWlnbk9iamVjdD48dGV4dCB4PSIzMjAiIHk9IjE4NiIgZmlsbD0icmdiKDAsIDAsIDApIiBmb250LWZhbWlseT0iSGVsdmV0aWNhIiBmb250LXNpemU9IjEycHgiIHRleHQtYW5jaG9yPSJtaWRkbGUiIGZvbnQtc3R5bGU9Iml0YWxpYyI+w6lkaXRpb24uLi48L3RleHQ+PC9zd2l0Y2g+PC9nPjwvZz48c3dpdGNoPjxnIHJlcXVpcmVkRmVhdHVyZXM9Imh0dHA6Ly93d3cudzMub3JnL1RSL1NWRzExL2ZlYXR1cmUjRXh0ZW5zaWJpbGl0eSIvPjxhIHRyYW5zZm9ybT0idHJhbnNsYXRlKDAsLTUpIiB4bGluazpocmVmPSJodHRwczovL3d3dy5kaWFncmFtcy5uZXQvZG9jL2ZhcS9zdmctZXhwb3J0LXRleHQtcHJvYmxlbXMiIHRhcmdldD0iX2JsYW5rIj48dGV4dCB0ZXh0LWFuY2hvcj0ibWlkZGxlIiBmb250LXNpemU9IjEwcHgiIHg9IjUwJSIgeT0iMTAwJSI+VGV4dCBpcyBub3QgU1ZHIC0gY2Fubm90IGRpc3BsYXk8L3RleHQ+PC9hPjwvc3dpdGNoPjwvc3ZnPg==\" />\n",
    "</center>"
   ]
  },
  {
   "cell_type": "markdown",
   "id": "controlling-clothing",
   "metadata": {},
   "source": [
    "_Il existe un très grand nombre de compilateurs pour le C. Nous utiliserons `gcc` ([the GNU C Compiler](https://gcc.gnu.org/)) car c'est celui qu'on trouve par défaut sur les machines Linux, et aussi parce qu'il est open source et gratuit._\n",
    "\n",
    "Un _fichier source_ est un fichier texte non-formaté qui contient du code. Les fichiers source C ont pour extension `.c` (ou `.h` pour les modules). On peut éditer un fichier `.c` avec un éditeur textuel de base : SublimeText, vim, gedit... (**pas** LibreOffice ou autre).\n",
    "    \n",
    "Pour compiler un fichier source `.c` en fichier objet `.o`, on utilise la commande suivante (dans un terminal) :\n",
    "```\n",
    "gcc -c truc.c -o truc.o\n",
    "```\n",
    "\n",
    "(`-c` indique à GCC qu'il faut <u>c</u>ompiler le fichier, `-o` donne le nom de la sortie (<u>o</u>utput))\n",
    "\n",
    "Le compilateur accepte diverses options, notamment pour contrôler le niveau d'analyse du compilateur. Nous recommandons *très très vivement* de compiler avec les options `-Wall` et `-Wextra`, qui indiquent au compilateur d'analyser le code en profondeur pour deviner des situations potentiellement erronées (qu'il remontera sous forme de messages d'avertissement ou *warnings*).\n",
    "```\n",
    "gcc -Wall -Wextra -c bidule.c -o bidule.o\n",
    "```\n",
    "    \n",
    "Pour l'éditeur de lien, on utilise aussi GCC. La commande pour créer un exécutable (ici, `mon_programme`) à partir d'un ensemble d'objets est la suivante :\n",
    "    \n",
    "```\n",
    "gcc truc.o machin.o bidule.o -o mon_programme\n",
    "```\n",
    "\n",
    "_(notez l'absence de l'option `-c`)_\n",
    "\n",
    "On peut ensuite lancer l'exécutable créé en faisant `./mon_programme` dans le terminal.\n",
    "    \n",
    "<br>\n",
    "\n",
    "Lorsqu'un programme ne contient _qu'un seul fichier source_, on peut demander à GCC de le compiler et de le lier en une seule commande :\n",
    "\n",
    "```\n",
    "gcc machin.c -o mon_programme\n",
    "```"
   ]
  },
  {
   "cell_type": "markdown",
   "id": "variable-narrow",
   "metadata": {},
   "source": [
    "## Utilisation du notebook\n",
    "\n",
    "Une partie importante de cette UE se déroulera sur **Jupyter**. C'est lui qui prend en charge la compilation ; en fait, il se charge tout seul d'appeler GCC, de récupérer le programme (ou les erreurs !) puis de l'exécuter.\n",
    "    \n",
    "Jupyter fait compiler et exécute le programme résultant à chaque fois que l'on appuie sur \"Exécuter\" (ou en faisant Ctrl+Entrer) lorsqu'on est dans une cellule contenant du code (on se \"place\" dans une cellule en cliquant dessus). Essayez donc d'exécuter le code ci-dessous :"
   ]
  },
  {
   "cell_type": "code",
   "execution_count": 24,
   "id": "authorized-birthday",
   "metadata": {},
   "outputs": [
    {
     "name": "stdout",
     "output_type": "stream",
     "text": [
      "Le langage C c'est fantastique !\n"
     ]
    }
   ],
   "source": [
    "#include <stdio.h>\n",
    "\n",
    "int main() {\n",
    "    puts(\"Le langage C c'est fantastique !\");\n",
    "    return 0;\n",
    "}"
   ]
  },
  {
   "cell_type": "markdown",
   "id": "generous-bankruptcy",
   "metadata": {},
   "source": [
    "Lorsque le code est erroné, Jupyter nous remonte les erreurs du compilateur. On aura plus qu'à corriger le code, et relancer la cellule.\n",
    "\n",
    "Essayez de compiler/lancer le code ci-dessous :"
   ]
  },
  {
   "cell_type": "code",
   "execution_count": 6,
   "id": "drawn-juice",
   "metadata": {
    "scrolled": true
   },
   "outputs": [
    {
     "name": "stderr",
     "output_type": "stream",
     "text": [
      "/tmp/tmp18173kd6.c: In function ‘main’:\n",
      "/tmp/tmp18173kd6.c:4:53: error: expected ‘;’ before ‘return’\n",
      "    4 |     puts(\"Je crois qu'il manque un point-virgule !\")\n",
      "      |                                                     ^\n",
      "      |                                                     ;\n",
      "    5 |     return 0;\n",
      "      |     ~~~~~~                                           \n",
      "[C kernel] GCC exited with code 1, the executable will not be executed"
     ]
    }
   ],
   "source": [
    "#include <stdio.h>\n",
    "\n",
    "int main() {\n",
    "    puts(\"Je crois qu'il manque un point-virgule !\")\n",
    "    return 0;\n",
    "}"
   ]
  },
  {
   "cell_type": "markdown",
   "id": "prescription-crowd",
   "metadata": {},
   "source": [
    "*Excepté lorsque c'est explicitement demandé, vous pouvez réaliser toutes les manipes et exercices de cette UE dans le Jupyter. Vous pouvez bien sûr les réaliser en dehors, en copiant-collant le code dans un fichier source et en le compilant à la main.*"
   ]
  },
  {
   "cell_type": "markdown",
   "id": "mysterious-device",
   "metadata": {},
   "source": [
    "**Note :** certaines cellules contiennent des directives spéciales à leur début (qu'on reconnaît car elles commencent par `//%`) qui permettent de configurer le compilateur utilisé par Jupyter. Ces directives permettent notamment de donner accès à des modules spéciaux pour l'affichage et les tests.\n",
    "\n",
    "Vérifiez que vous pouvez bien exécuter le bloc de code suivant. Si ce n'est pas le cas, c'est probablement que vous n'avez pas tout récupéré de Moodle !"
   ]
  },
  {
   "cell_type": "code",
   "execution_count": 1,
   "id": "regular-matthew",
   "metadata": {},
   "outputs": [
    {
     "name": "stdout",
     "output_type": "stream",
     "text": [
      "Hello world!\n"
     ]
    }
   ],
   "source": [
    "//%cflags: -I.\n",
    "//%ldflags: -L. -lt\n",
    "#include <stdio.h>\n",
    "#include <stdlib.h>\n",
    "#include \"affichage.h\"\n",
    "#include \"tests.h\"\n",
    "\n",
    "int main() {\n",
    "    INITIALIZE_TESTS();\n",
    "    afficher_nl(\"Hello world!\");\n",
    "    return 0;\n",
    "}"
   ]
  },
  {
   "cell_type": "markdown",
   "id": "mineral-addition",
   "metadata": {},
   "source": [
    "**Notez que votre classeur est _personnel_ (et pas partagé). Il ne faut donc surtout pas hésiter à triturer le code, ajouter des cellules (icône en forme de `+` en haut de la page) et les éditer (double-click sur une cellule), exécuter et ré-exécuter le code !**"
   ]
  },
  {
   "cell_type": "markdown",
   "id": "interim-flood",
   "metadata": {},
   "source": [
    "# Bases du langage\n",
    "\n",
    "Après cette introduction, passons aux choses sérieuses. Dans cette section, nous allons voir les bases du langage, qui devraient vous permettre d'écrire de petits algorithmes.\n",
    "\n",
    "Dans les classeurs suivants, nous verrons quelques concepts un peu plus avancés qui permettent d'attaquer de vrais sujets, et au semestre prochain nous nous plongerons dans des sujets plus techniques autour de la mémoire.\n",
    "\n",
    "<br>\n",
    "\n",
    "_Note : dans la suite, nous utiliserons principalement le petit module `affichage`, qui est un module développé en interne pour simplifier l'affichage d'expressions. La documentation du module est disponible sur Moodle._"
   ]
  },
  {
   "cell_type": "markdown",
   "id": "looking-approach",
   "metadata": {},
   "source": [
    "## Structure générale\n",
    "\n",
    "Un fichier source en C se compose principalement de _sous-programmes_. Parmi ces sous-programmes, il y en a un spécial qui s'appelle `main` : c'est le programme principal, la procédure qui sera appelée par le système lorsqu'on exécutera le programme ! (à noter qu'un programme doit présenter _exactement **une**_ fonction principale).\n",
    "\n",
    "**Les instructions du programme doivent se trouver dans un sous-programme** (incluant `main`). Seules des _déclarations_ et potentiellement des _déclarations-affectations_ peuvent se trouver en dehors de sous-programmes, nous verrons cela plus tard.\n",
    "\n",
    "En plus du code C, un fichier peut faire référence à un _module_, à l'aide de la commande spéciale `#include`. Cette commande est suivie du nom de la spécification du module (`xxx.h`), entre chevrons si c'est une bibliothèque globale, et entre guillemets si c'est un fichier utilisateur/local (nous verrons plus tard dans l'UE comment définir ses propres modules)."
   ]
  },
  {
   "cell_type": "code",
   "execution_count": 1,
   "id": "beginning-mailman",
   "metadata": {},
   "outputs": [
    {
     "name": "stdout",
     "output_type": "stream",
     "text": [
      "Instruction 1\n",
      "Instruction 2\n"
     ]
    }
   ],
   "source": [
    "//%cflags: -I.\n",
    "/* \n",
    "Un exemple de source C, contenant un programme principal.\n",
    "*/\n",
    "#include <stdlib.h> // Module \"stdlib\" de la librairie standard de C\n",
    "#include <stdio.h> // Module \"stdio\" d'une bibliothèque globale au système\n",
    "#include \"affichage.h\" // Module \"affichage\" fourni localement\n",
    "\n",
    "int main() { // Mon programme principal\n",
    "    puts(\"Instruction 1\"); // Le sous-programme \"puts\" affiche la chaîne de caractère donnée\n",
    "    puts(\"Instruction 2\");\n",
    "    return 0;\n",
    "}"
   ]
  },
  {
   "cell_type": "markdown",
   "id": "northern-wireless",
   "metadata": {},
   "source": [
    "Au passage, notez la syntaxe pour les commentaires : `// ...` pour les commentaires sur une ligne, et `/* ... */` pour les commentaires sur plusieurs lignes (ou au milieu du code) !"
   ]
  },
  {
   "cell_type": "markdown",
   "id": "bronze-coast",
   "metadata": {},
   "source": [
    "En C, les accolades (`{` et `}`) délimitent ce que l'on appelle un _bloc_. Nous verrons plus tard plusieurs utilisations de ces bloc. En attendant, rappelez-vous que accolades = bloc.\n",
    "\n",
    "Bien sûr, il est possible d'écrire des blocs dans d'autres blocs, avec autant d'imbrication que nécessaire. On remarquera, notamment, qu'un sous-programme définit un bloc."
   ]
  },
  {
   "cell_type": "code",
   "execution_count": 4,
   "id": "affiliated-estimate",
   "metadata": {},
   "outputs": [
    {
     "name": "stdout",
     "output_type": "stream",
     "text": [
      "Début du bloc main\n",
      "Début d'un bloc imbriqué\n",
      "À l'interieur du bloc dans le bloc dans le bloc\n",
      "Fin du bloc imbriqué\n",
      "Fin du bloc main\n"
     ]
    }
   ],
   "source": [
    "#include <stdlib.h>\n",
    "#include <stdio.h>\n",
    "\n",
    "int main() { // Le bloc main\n",
    "    puts(\"Début du bloc main\");\n",
    "    {\n",
    "        puts(\"Début d'un bloc imbriqué\");\n",
    "        {\n",
    "            puts(\"À l'interieur du bloc dans le bloc dans le bloc\");\n",
    "        }\n",
    "        puts(\"Fin du bloc imbriqué\");\n",
    "    }\n",
    "    puts(\"Fin du bloc main\");\n",
    "    return 0;\n",
    "}"
   ]
  },
  {
   "cell_type": "markdown",
   "id": "developmental-prototype",
   "metadata": {},
   "source": [
    "Vous remarquerez que les blocs n'entravent pas l'exécution du code. Les instructions s'exécutent à la suite (comme dans tout bon langage impératif !).\n",
    "\n",
    "<br>\n",
    "\n",
    "**Note :** en C la convention est d'ajouter un niveau d'indentation à chaque début de bloc, et d'en retirer un à la fin du bloc (de sorte que les éléments d'un sous-bloc soient plus à droite que les éléments du bloc englobant). Les éléments d'un même bloc doivent être indentés au même niveau. En général, on indente en utilisant quatre espaces."
   ]
  },
  {
   "cell_type": "markdown",
   "id": "recorded-minister",
   "metadata": {},
   "source": [
    "## Littéraux et expressions\n",
    "\n",
    "Le langage C propose un certain nombre d'opérateurs usuels, qui permettent de construire des expressions complexes.\n",
    "\n",
    "### Nombres\n",
    "\n",
    " - nombres entiers : une suite de chiffres (`0`, `13`, `716287`)\n",
    " - nombres flottants : une suite de chiffres avec un point (`0.123`), ou notation scientifique (`1.723e-6`)\n",
    " - nombres entiers en _hexadécimal_ (= base seize) : une suite de chiffres ou de lettres entre A et F, précédé de `0x` (`0x1234ABCD`)\n",
    " - nombres entiers en _octal_ (= base huit) : suite de chiffres entre 0 et 7 commençant par un `0` (`00`, `0123`, `0777`)\n",
    " - `a + b` : addition\n",
    " - `a - b` : soustraction\n",
    " - `- a` : opposé\n",
    " - `a * b` : multiplication\n",
    " - `a / b` : division\n",
    " - `a % b` : modulo (= reste de la division euclidienne de `a` par `b`); attention ça ne marche que sur les entiers !\n",
    "\n",
    "Les priorités respectives de ces opérateurs sont celles habituelles (`-` unaire > `*`, `/`, `%` > `+`, `-`) et on peut utiliser des parenthèses. À noter par ailleurs que tous ces opérateurs sont associatifs (à droite)."
   ]
  },
  {
   "cell_type": "code",
   "execution_count": 2,
   "id": "alpha-copyright",
   "metadata": {},
   "outputs": [
    {
     "name": "stdout",
     "output_type": "stream",
     "text": [
      "3 + 5 = 8\n",
      "2023 % 17 = 0\n",
      "1 + 2 + 3 + 4 + 5 = 15\n",
      "3.0 * 2.0 = 6.000000\n",
      "- 1e-4 * (2.1 + 3.001e2) / 0.01 = -3.022000\n",
      "2.0 * 3.0 * 4.0 / 2.0 = 12.000000\n",
      "0x1316 = 1316\n",
      "0x3756FAB = 3756fab\n",
      "0xAB - 0x30 - 0x02 = 121\n"
     ]
    }
   ],
   "source": [
    "//%cflags: -I .\n",
    "#include \"affichage.h\"\n",
    "\n",
    "int main() {\n",
    "    afficher_entier(3 + 5);\n",
    "    afficher_entier(2023 % 17);\n",
    "    afficher_entier(1 + 2 + 3 + 4 + 5);\n",
    "    afficher_flottant(3.0 * 2.0);\n",
    "    afficher_flottant(- 1e-4 * (2.1 + 3.001e2) / 0.01);\n",
    "    afficher_flottant(2.0 * 3.0 * 4.0 / 2.0);\n",
    "    afficher_hexa(0x1316);      // Affiche sous forme hexadécimale\n",
    "    afficher_hexa(0x3756FAB);\n",
    "    afficher_entier(0xAB - 0x30 - 0x02);         // Affiche en base 10\n",
    "    return 0;\n",
    "}"
   ]
  },
  {
   "cell_type": "markdown",
   "id": "seasonal-locking",
   "metadata": {},
   "source": [
    "### Booléens\n",
    "\n",
    "Le langage C n'a pas de \"vrais\" booléens. En fait, on considère que le nombre 0 correspond à _faux_, et tout ce qui n'est pas 0 est _vrai_.\n",
    "\n",
    "Dans la pratique, un module (`stdbool`) permet d'avoir un alias de type `bool` et des constantes `true` et `false`, mais ce n'est pas pareil qu'avoir un vrai type pour les booléens.\n",
    "\n",
    "On peut composer les booléens de la façon suivante :\n",
    "\n",
    " - `a && b` : conjonction, `a` et `b` sont vrais\n",
    " - `a || b` : disjonction, `a` ou `b` (ou les deux) sont vrais\n",
    " - `!a` : négation\n",
    "\n",
    "Les priorités sont celles usuelles (`!` > `&&` > `||`) et on peut utiliser des parenthèses."
   ]
  },
  {
   "cell_type": "code",
   "execution_count": 6,
   "id": "spectacular-banking",
   "metadata": {},
   "outputs": [
    {
     "name": "stdout",
     "output_type": "stream",
     "text": [
      "true = vrai\n",
      "false = faux\n",
      "1 = vrai\n",
      "3.726 = vrai\n",
      "-5 = vrai\n",
      "0 = faux\n",
      "true || false = vrai\n",
      "true && true = vrai\n",
      "!true = faux\n",
      "!true && (true || false || true) = faux\n",
      "true = 1\n",
      "false = 0\n",
      "true + true = 2\n",
      "2 * 3 = vrai\n",
      "4 / 5 = faux\n"
     ]
    }
   ],
   "source": [
    "//%cflags: -I .\n",
    "#include <stdbool.h>     // Pour avoir true et false\n",
    "#include \"affichage.h\"\n",
    "\n",
    "int main() {\n",
    "    afficher_booleen(true);\n",
    "    afficher_booleen(false);\n",
    "    afficher_booleen(1);\n",
    "    afficher_booleen(3.726);\n",
    "    afficher_booleen(-5);\n",
    "    afficher_booleen(0);\n",
    "    afficher_booleen(true || false);\n",
    "    afficher_booleen(true && true);\n",
    "    afficher_booleen(!true);\n",
    "    afficher_booleen(!true && (true || false || true));\n",
    "    // Preuve que les booléens sont des entiers...\n",
    "    afficher_entier(true);\n",
    "    afficher_entier(false);\n",
    "    afficher_entier(true + true); // Ne jamais faire ça dans du vrai code !!\n",
    "    afficher_booleen(2 * 3); // 2 * 3 == 6 différent de 0 donc vrai\n",
    "    afficher_booleen(4 / 5); // 4 / 5 == 0 donc faux\n",
    "    return 0;\n",
    "}"
   ]
  },
  {
   "cell_type": "markdown",
   "id": "italian-gravity",
   "metadata": {},
   "source": [
    "### Comparaison\n",
    "\n",
    "Les opérateurs de comparaison marchent sur les nombres principalement. Ils renvoient des booléens, et peuvent donc être composés pour former des prédicats complexes.\n",
    "\n",
    "  - `a == b` : égalité, `a` et `b` ont exactement la même valeur\n",
    "  - `a != b` : différence\n",
    "  - `a <= b` : `a` inférieur ou égal à `b`\n",
    "  - `a < b`  : `a` inférieur strictement à `b`\n",
    "  - `a >= b` : `a` supérieur ou égal à `b`\n",
    "  - `a > b`  : `a` supérieur strictement à `b`\n",
    "\n",
    "Les opérateurs de comparaison ne sont pas associatifs (`a <= b <= c` ne fonctionne pas). Ils sont moins prioritaires que les opérateurs sur les entiers, et plus que ceux sur les booléens, ce qui facilite l'écriture de prédicats complexes sans parenthèses."
   ]
  },
  {
   "cell_type": "code",
   "execution_count": 41,
   "id": "finnish-phenomenon",
   "metadata": {},
   "outputs": [
    {
     "name": "stdout",
     "output_type": "stream",
     "text": [
      "3 <= 5 = vrai\n",
      "2 + 6 == 8 = vrai\n",
      "2 <= 6 / 2 && 6 / 3 < 3 = vrai\n",
      "7.11 < 2.293 = faux\n",
      "7.0e-4 < -3.1e-3 = faux\n"
     ]
    }
   ],
   "source": [
    "//%cflags: -I .\n",
    "#include \"affichage.h\"\n",
    "\n",
    "int main() {\n",
    "    afficher_booleen(3 <= 5);\n",
    "    afficher_booleen(2 + 6 == 8);\n",
    "    afficher_booleen(2 <= 6 / 2 && 6 / 3 < 3); // (2 <= (6 / 2)) && ((6 / 3) < 3)\n",
    "    afficher_booleen(7.11 < 2.293);\n",
    "    afficher_booleen(7.0e-4 < -3.1e-3);\n",
    "}"
   ]
  },
  {
   "cell_type": "markdown",
   "id": "recorded-highlight",
   "metadata": {},
   "source": [
    "[Pour des raisons un peu techniques](https://en.wikipedia.org/wiki/IEEE_754), il faut toujours se méfier lorsque l'on compare des flotants : des nombres flottants qui ont \"l'air\" égaux ne le sont pas forcément...\n",
    "\n",
    "En fait, un nombre flottant étant la représentation _finie_ d'un concept mathématique _infini_, il ne peut s'agir que d'une approximation. Autrement dit, **les nombres et les calculs flottants sont toujours un petit peu faux.**\n",
    "\n",
    "Ce imprécisions passent globalement inaperçues, mais peuvent se cumuler et devenir problématiques. Cela rend notamment l'_égalité_ peu fiable."
   ]
  },
  {
   "cell_type": "code",
   "execution_count": 5,
   "id": "careful-variation",
   "metadata": {},
   "outputs": [
    {
     "name": "stdout",
     "output_type": "stream",
     "text": [
      "x = 0.1000000015\n",
      "y = 0.2000000030\n",
      "x + y == 0.3 = faux\n",
      "x + y = 0.3000000119\n",
      "\n",
      "x * y = 0.020000\n",
      "x * y == 0.02 = faux\n",
      "x * y = 0.0200000014\n"
     ]
    }
   ],
   "source": [
    "//%cflags: -I .\n",
    "#include \"affichage.h\"\n",
    "\n",
    "int main() {\n",
    "    float x = 0.1;\n",
    "    float y = 0.2;\n",
    "    afficher_flottant_precis(x, 10); // Afficher 10 décimales\n",
    "    afficher_flottant_precis(y, 10);\n",
    "    afficher_booleen(x + y == 0.3);  // 0.1 + 0.2 == 0.3, normalement...\n",
    "    afficher_flottant_precis(x + y, 10);\n",
    "    \n",
    "    nouvelle_ligne();\n",
    "    \n",
    "    afficher_flottant(x * y);\n",
    "    afficher_booleen(x * y == 0.02); // 0.1 * 0.2 == 0.02, normalement...\n",
    "    afficher_flottant_precis(x * y, 10);\n",
    "    return 0;\n",
    "}"
   ]
  },
  {
   "cell_type": "markdown",
   "id": "social-adelaide",
   "metadata": {},
   "source": [
    "**En règle générale, on n'utilise _jamais_ l'égalité sur les flottants.**\n",
    "\n",
    "À la place de $x == y$, on écrit plutôt une condition du type \"$x$ est _suffisamment proche_ de $y$\" : $|x - y| < \\epsilon$, $\\epsilon$ fixé et dépendant de la précision des flottants (assez souvent $10^{-6}$, vous verrez ça plus en détail dans vos UE de mathématiques appliquées)."
   ]
  },
  {
   "cell_type": "code",
   "execution_count": 2,
   "id": "southwest-missile",
   "metadata": {},
   "outputs": [
    {
     "name": "stdout",
     "output_type": "stream",
     "text": [
      "x * y = 0.020000\n",
      "fabs(x * y - 0.02) < 1e-6 = vrai\n"
     ]
    }
   ],
   "source": [
    "//%cflags: -I . -lm\n",
    "#include <math.h>       // Fonction fabs pour la valeur absolue\n",
    "#include \"affichage.h\"\n",
    "\n",
    "int main() {\n",
    "    float x = 0.1;\n",
    "    float y = 0.2;\n",
    "    afficher_flottant(x * y);\n",
    "    afficher_booleen(fabs(x * y - 0.02) < 1e-6);\n",
    "    return 0;\n",
    "}"
   ]
  },
  {
   "cell_type": "markdown",
   "id": "brazilian-orleans",
   "metadata": {},
   "source": [
    "### Caractères et chaînes de caractères\n",
    "\n",
    "Le C permet d'écrire des caractères comme littéraux. Les caractères sont délimités par des apostrophes (_simple quotes_, `'`) : `'a'`, `'6'`, etc. Pour avoir le caractère \"apsotrophe\", il faut _l'échapper_ avec un _backslash_ (`\\`, Alt Gr + 8 sur un clavier AZERTY standard) : `'\\''`. De même, pour avoir le caractère _backslash_, il faut l'échapper aussi : `'\\\\'`.\n",
    "\n",
    "À noter que C ne reconnaît que les caractères du [jeu de caractères ASCII](https://fr.wikipedia.org/wiki/American_Standard_Code_for_Information_Interchange). Cela exclue donc un certain nombre de caractères (notamment certaines lettres accentuées... et les emojis 🙁).\n",
    "\n",
    "Dans la pratique, les caractères en C sont en fait _des entiers_. Cela signifie que l'on peut les utiliser dans des expressions (avec `+`, `-`, `<=`, ...), avec parcimonie bien sûr."
   ]
  },
  {
   "cell_type": "code",
   "execution_count": 1,
   "id": "stuck-noise",
   "metadata": {},
   "outputs": [
    {
     "name": "stdout",
     "output_type": "stream",
     "text": [
      "'a' = a\n",
      "'0' = 0\n",
      "'\\'' = '\n",
      "'\\\\' = \\\n",
      "'z' = 122\n",
      "'a' + 1 = b\n",
      "'C' - 2 = A\n",
      "'g' > 'a' = vrai\n",
      "'B' > 'a' = faux\n"
     ]
    }
   ],
   "source": [
    "//%cflags: -I .\n",
    "#include \"affichage.h\"\n",
    "\n",
    "int main() {\n",
    "    afficher_carac('a');\n",
    "    afficher_carac('0');\n",
    "    afficher_carac('\\'');\n",
    "    afficher_carac('\\\\');\n",
    "    afficher_entier('z');\n",
    "    afficher_carac('a' + 1);\n",
    "    afficher_carac('C' - 2);\n",
    "    afficher_booleen('g' > 'a');\n",
    "    // Attention l'encodage rend parfois les choses peu intuitives\n",
    "    afficher_booleen('B' > 'a');\n",
    "}"
   ]
  },
  {
   "cell_type": "markdown",
   "id": "successful-mineral",
   "metadata": {},
   "source": [
    "Il existe d'autres caractères \"spéciaux\", fort utiles. Par exemple :\n",
    "\n",
    " - `\\n` affiche un _retour à la ligne_\n",
    " - `\\t` affiche une _tabulation_"
   ]
  },
  {
   "cell_type": "markdown",
   "id": "incorrect-general",
   "metadata": {},
   "source": [
    "Le C permet aussi d'écrire des _chaînes de caractères_ comme littéraux, délimitées par des guillemets `\"`. Nous reviendrons plus tard sur la nature exacte d'une chaîne de caractères lorsque nous verrons les tableaux.\n",
    "\n",
    "Une chaîne de caractère peut contenir divers caractères spéciaux, qui commencent avec un backslash (`\\\\`, `\\n`, `\\t`, `\\\"`...)."
   ]
  },
  {
   "cell_type": "code",
   "execution_count": 10,
   "id": "heavy-trade",
   "metadata": {},
   "outputs": [
    {
     "name": "stdout",
     "output_type": "stream",
     "text": [
      "\"Ma chaîne de caractères\" = Ma chaîne de caractères\n",
      "\"Une chaîne\\n\\tde caractères\\n\\t\\tsur plusieurs lignes\" = \n",
      "Une chaîne\n",
      "\tde caractères\n",
      "\t\tsur plusieurs lignes\n",
      "\"Des backslash \\\\, des guillemets \\\", \" \"des simple quote ' (pas besoin d'échapper celui là !)'\" = \n",
      "Des backslash \\, des guillemets \", des simple quote ' (pas besoin d'échapper celui là !)'\n"
     ]
    }
   ],
   "source": [
    "//%cflags: -I .\n",
    "#include \"affichage.h\"\n",
    "\n",
    "int main() {\n",
    "    afficher_chaine(\"Ma chaîne de caractères\");\n",
    "    afficher_chaine_nl(\"Une chaîne\\n\\tde caractères\\n\\t\\tsur plusieurs lignes\");\n",
    "    afficher_chaine_nl(\"Des backslash \\\\, des guillemets \\\", \" // On peut écrire une chaîne sur plusieurs lignes !\n",
    "       \"des simple quote ' (pas besoin d'échapper celui là !)'\");\n",
    "}"
   ]
  },
  {
   "cell_type": "markdown",
   "id": "present-creation",
   "metadata": {},
   "source": [
    "À noter que le C n'a pas d'opérateurs particuliers pour manipuler les chaînes. En particulier, il n'est pas trivial de les concaténer, de les comparer, etc."
   ]
  },
  {
   "cell_type": "markdown",
   "id": "subjective-canadian",
   "metadata": {},
   "source": [
    "## Variables et types\n",
    "\n",
    "Le C permet de déclarer des _variables_. Une variable est un emplacement mémoire associé à un nom, qui permet de stocker une donnée. Une déclaration de variable prend la forme\n",
    "```c\n",
    "<type> <nom>;\n",
    "```\n",
    "\n",
    "Une fois déclarée, on peut _affecter_ une variable avec le symbole `=` :\n",
    "```c\n",
    "<nom> = <expression>;\n",
    "```\n",
    "\n",
    "Le C nous laisse aussi réaliser simultanément la déclaration _et_ l'affectation de la variable, dans une instruction que l'on appelle _déclaration-affectation_ :\n",
    "```c\n",
    "<type> <nom> = <expression>;\n",
    "```\n",
    "\n",
    "Le nom d'une variable se compose de chiffres, lettres et underscore (`_`), et doit commencer par une lettre ou un underscore. Par convention, les variables locales commencent généralement par une minuscule ou un underscore.\n",
    "\n",
    "Le type d'une variable peut être un type utilisateur (abordé plus tard dans l'UE) ou l'un des types dits _primitifs_ du C, à savoir :\n",
    " * Un caractère (`char`)\n",
    " * Un entier court, normal ou long (`short`, `int`, `long`), potentiellement non-signé (`unsigned`)\n",
    " * Un flottant simple ou double précision (`float`, `double`)\n",
    " * Un booléen (`bool`)\n",
    " * Un pointeur ou un tableau (vu plus tard)\n",
    "\n",
    "Une fois déclarée, une variable peut s'utiliser comme n'importe quel autre élément dans des expressions (calculs, appels de sous-programmes, etc.). Le type de la variable détermine ce que l'on a le droit de faire avec, et donne des indications au compilateur sur les comportements attendus des instructions."
   ]
  },
  {
   "cell_type": "code",
   "execution_count": 1,
   "id": "measured-malpractice",
   "metadata": {},
   "outputs": [
    {
     "name": "stdout",
     "output_type": "stream",
     "text": [
      "variable_entiere = 5\n",
      "variable_reelle = 3.627380e-09\n",
      "non_signe = 2789\n",
      "z = 5.000000\n",
      "a = a\n",
      "b = b\n",
      "c = c\n",
      "d = d\n"
     ]
    }
   ],
   "source": [
    "//%cflags: -I.\n",
    "#include \"affichage.h\"\n",
    "\n",
    "int main() {\n",
    "    int variable_entiere;\n",
    "    variable_entiere = 5;\n",
    "    afficher_entier(variable_entiere);\n",
    "    \n",
    "    double variable_reelle = 3.62738e-9;\n",
    "    afficher_scientifique(variable_reelle);\n",
    "    \n",
    "    unsigned int non_signe = 2789;\n",
    "    afficher_entier_ns(non_signe);\n",
    "    \n",
    "    // On peut déclarer plusieurs variables de même type à la fois !\n",
    "    double x, y, z;\n",
    "    x = 1.0;\n",
    "    y = 2.0;\n",
    "    z = x * x + y * y;\n",
    "    afficher_flottant(z);\n",
    "    \n",
    "    // Certaines déclarations peuvent être des affectations\n",
    "    char a = 'a', b, c = 'c', d;\n",
    "    b = a + 1;\n",
    "    d = c + 1;\n",
    "    afficher_carac(a);\n",
    "    afficher_carac(b);\n",
    "    afficher_carac(c);\n",
    "    afficher_carac(d);\n",
    "}"
   ]
  },
  {
   "cell_type": "markdown",
   "id": "dependent-binding",
   "metadata": {},
   "source": [
    "On notera que, contrairement à ADA ou Fortran, le C nous laisse déclarer des variables au beau milieu d'un bloc. *Pour des raisons de lisibilité, il faut essayer d'éviter de déclarer les variables à n'importe quel moment.*\n",
    "\n",
    "Une bonne pratique est de déclarer les variables dont on a besoin dans le bloc au début dudit bloc."
   ]
  },
  {
   "cell_type": "markdown",
   "id": "proprietary-newman",
   "metadata": {},
   "source": [
    "**Attention : une variable déclarée sans être affectée contient une valeur _indéfinie_.** Le compilateur _n'initialise pas les variables_, donc ce qu'elles contiennent est complètement aléatoire.\n",
    "\n",
    "Par exemple, exécutez plusieurs fois ce code :"
   ]
  },
  {
   "cell_type": "code",
   "execution_count": 10,
   "id": "approved-sleeve",
   "metadata": {
    "scrolled": true
   },
   "outputs": [
    {
     "name": "stdout",
     "output_type": "stream",
     "text": [
      "a = 0\n",
      "b = 0\n",
      "c = 0\n",
      "d = 0.000000\n",
      "e = -8368724377600.000000\n"
     ]
    }
   ],
   "source": [
    "//%cflags: -I.\n",
    "#include \"affichage.h\"\n",
    "\n",
    "int main() {\n",
    "    int a, b, c;\n",
    "    float d, e;\n",
    "    \n",
    "    afficher_entier(a);\n",
    "    afficher_entier(b);\n",
    "    afficher_entier(c);\n",
    "    afficher_flottant(d);\n",
    "    afficher_flottant(e); // Il y a de fortes chances que cette variable varie beaucoup\n",
    "}"
   ]
  },
  {
   "cell_type": "markdown",
   "id": "consecutive-brown",
   "metadata": {},
   "source": [
    "Vous l'aurez compris, la bonne pratique est de **toujours initialiser ses variables**, même si c'est avec un 0."
   ]
  },
  {
   "cell_type": "markdown",
   "id": "tutorial-pastor",
   "metadata": {},
   "source": [
    "### Affectation-opération\n",
    "\n",
    "Il est très courant dans un programme que l'on veuille mettre à jour la valeur d'une variable à partir de sa valeur actuelle (exemple typique : _incrémenter_ une variable). Le langage C met à disposition des opérateurs combinés qui réalisent à la fois l'affectation et le calcul : les affectations-opérations.\n",
    "\n",
    "Tous les opérateurs (arithmétiques) ont une version avec affectation, qui réalise la composition de la valeur de la variable avec l'opérande (dans ce sens là) :\n",
    " * `a += 2` => `a = a + 2`\n",
    " * `a -= 2` => `a = a - 2`\n",
    " * `a *= 2` => `a = a * 2`\n",
    " * `a /= 2` => `a = a / 2`\n",
    " * `a %= 2` => `a = a % 2`"
   ]
  },
  {
   "cell_type": "code",
   "execution_count": 36,
   "id": "israeli-wallet",
   "metadata": {},
   "outputs": [
    {
     "name": "stdout",
     "output_type": "stream",
     "text": [
      "a1 = 5\n",
      "a2 = 5\n",
      "\n",
      "a1 = 25\n",
      "a2 = 25\n",
      "\n",
      "b1 = -5.000000\n",
      "b2 = -5.000000\n",
      "\n",
      "b1 = -0.625000\n",
      "b2 = -0.625000\n"
     ]
    }
   ],
   "source": [
    "//%cflags: -I .\n",
    "#include \"affichage.h\"\n",
    "\n",
    "int main() {\n",
    "    int a1 = 0, a2 = 0;\n",
    "    a1 += 5; a2 = a2 + 5;\n",
    "    afficher_entier(a1); afficher_entier(a2);\n",
    "    nouvelle_ligne();\n",
    "    \n",
    "    a1 *= 2 + 3; a2 = a2 * (2 + 3); // La partie droite est une expression !\n",
    "    afficher_entier(a1); afficher_entier(a2);\n",
    "    nouvelle_ligne();\n",
    "    \n",
    "    float b1 = 0.0, b2 = 0.0; // Ça marche aussi sur les flottants\n",
    "    b1 -= 5.0; b2 = b2 - 5.0;\n",
    "    afficher_flottant(b1); afficher_flottant(b2);\n",
    "    nouvelle_ligne();\n",
    "    b1 /= 3.0 - b1; b2 = b2 / (3.0 - b2);\n",
    "    afficher_flottant(b1); afficher_flottant(b2);\n",
    "    \n",
    "    return 0;\n",
    "}"
   ]
  },
  {
   "cell_type": "markdown",
   "id": "outdoor-physiology",
   "metadata": {},
   "source": [
    "Les opérations d'ajouter et de retirer 1 à un entier sont tellement communes qu'elles ont le droit à leur propre opérateur. Il s'agit de :\n",
    " * l'_incrémentation_, `a++` ou `++a`, équivalent à `a += 1`\n",
    " * la _décrémentation_, `a--` ou `--a`, équivalent à `a -= 1`"
   ]
  },
  {
   "cell_type": "code",
   "execution_count": 31,
   "id": "equal-writing",
   "metadata": {},
   "outputs": [
    {
     "name": "stdout",
     "output_type": "stream",
     "text": [
      "a = 1\n",
      "a = 2\n",
      "a = 1\n"
     ]
    }
   ],
   "source": [
    "//%cflags: -I .\n",
    "#include \"affichage.h\"\n",
    "\n",
    "int main() {\n",
    "    int a = 0;\n",
    "    a++;\n",
    "    afficher_entier(a);\n",
    "    ++a;\n",
    "    afficher_entier(a);\n",
    "    a--;\n",
    "    afficher_entier(a);\n",
    "    \n",
    "    return 0;\n",
    "}"
   ]
  },
  {
   "cell_type": "markdown",
   "id": "subjective-processor",
   "metadata": {},
   "source": [
    "**Note :** il y a une différence subtile entre `a++` et `++a` (et similairement avec `--`) même si au final les deux variantes font la même chose. Cette différence est dans la _valeur_ retournée : en fait, toutes les affectations-opérations retournent une valeur. Pour `a++` (et `a--`) il s'agit de la valeur de `a` _avant_ l'opération ; pour toutes les autre instructions, c'est la valeur _après_."
   ]
  },
  {
   "cell_type": "code",
   "execution_count": 33,
   "id": "adolescent-memphis",
   "metadata": {
    "scrolled": true
   },
   "outputs": [
    {
     "name": "stdout",
     "output_type": "stream",
     "text": [
      "a = 2\n",
      "b = 2\n",
      "\n",
      "a = 3\n",
      "c = 2\n",
      "\n",
      "a = 4\n",
      "d = 4\n"
     ]
    }
   ],
   "source": [
    "//%cflags: -I .\n",
    "#include \"affichage.h\"\n",
    "\n",
    "int main() {\n",
    "    int a = 0;\n",
    "    int b = (a += 2);\n",
    "    afficher_entier(a);\n",
    "    afficher_entier(b);\n",
    "    nouvelle_ligne();\n",
    "    \n",
    "    int c = a++;\n",
    "    afficher_entier(a);\n",
    "    afficher_entier(c);\n",
    "    nouvelle_ligne();\n",
    "    \n",
    "    int d = ++a;\n",
    "    afficher_entier(a);\n",
    "    afficher_entier(d);\n",
    "    \n",
    "    return 0;\n",
    "}"
   ]
  },
  {
   "cell_type": "markdown",
   "id": "acknowledged-modeling",
   "metadata": {},
   "source": [
    "#### Petit exercice : un programme de calcul\n",
    "\n",
    "Écrire dans la cellule ci-dessous le programme de calcul suivant :\n",
    " * Soit $a$ un entier quelconque\n",
    " * Je pose $b = 3 \\times a$\n",
    " * Je pose $c = a / 2$\n",
    " * J'incrémente $b$ ($b$ vaut maintenant $b + 1$)\n",
    " * Je multiplie $c$ par $b$ et je mets la valeur dans $c$\n",
    " * Je divise $c$ par $a$ et je mets la valeur dans $a$\n",
    " * J'affiche $a$"
   ]
  },
  {
   "cell_type": "code",
   "execution_count": 1,
   "id": "twelve-baltimore",
   "metadata": {},
   "outputs": [
    {
     "name": "stdout",
     "output_type": "stream",
     "text": [
      "a = 2121\n"
     ]
    }
   ],
   "source": [
    "//%cflags: -I .\n",
    "#include \"affichage.h\"\n",
    "\n",
    "int main() {\n",
    "    int a = 2121; /* À modifier pour tester le programme de calcul */\n",
    "    \n",
    "    /* À COMPLÉTER */\n",
    "    \n",
    "    afficher_entier(a);\n",
    "}"
   ]
  },
  {
   "cell_type": "markdown",
   "id": "controlled-alexander",
   "metadata": {},
   "source": [
    "### Portée et masquage\n",
    "\n",
    "On dit qu'une variable est _accessible_ à un endroit donné du programme si on peut y faire référence dans une instruction à cet endroit. Par exemple :\n",
    "```c\n",
    "int a = 5;\n",
    "afficher_entier(a + 3);\n",
    "afficher_entier(b * 2);\n",
    "int b = 3;\n",
    "\n",
    "```\n",
    "\n",
    "Dans le programme ci-dessus, la variable `a` est bien accessible pour la deuxième instruction : le compilateur n'affichera pas d'erreur. La variable `b` en revanche n'est _pas_ accessible pour la troisième instruction : le compilateur affichera une erreur (du type `<variable> undeclared`, variable non-déclarée).\n",
    "\n",
    "La _portée_ d'une variable est _l'ensemble des endroits où elle est accessible_. Pour déterminer la portée d'une variable, le langage C obéit à une seule règle très simple :\n",
    "> La portée d'une variable commence à sa déclaration, et termine à **la fin du _bloc_ dans laquelle\n",
    "> elle a été déclarée**\n",
    "\n",
    "Exemple :"
   ]
  },
  {
   "cell_type": "code",
   "execution_count": 10,
   "id": "defensive-taste",
   "metadata": {},
   "outputs": [
    {
     "name": "stdout",
     "output_type": "stream",
     "text": [
      "b = 200\n"
     ]
    }
   ],
   "source": [
    "//%cflags: -I .\n",
    "#include \"affichage.h\"\n",
    "\n",
    "int main() {\n",
    "    int a; // Début de la portée de a\n",
    "    a = 3;\n",
    "    int b; // Début de la portée de b\n",
    "    b = a + 2;\n",
    "    {\n",
    "        int c; // Début de la portée de c\n",
    "        c = a + b; // Légal : a, b et c sont accessibles dans le bloc imbriqué !\n",
    "        {\n",
    "            int d; // Début de la portée de d\n",
    "            d = c * b;\n",
    "            c = d;\n",
    "        } // Fin de la portée de d\n",
    "        a = c * b; // Toujours légal : a, b et c sont encore accessibles\n",
    "    } // Fin de la portée de c\n",
    "    b = a; // Légal : a et b sont accessibles\n",
    "    afficher_entier(b);\n",
    "    return 0;\n",
    "    // Fin de la portée de a et de b\n",
    "}"
   ]
  },
  {
   "cell_type": "markdown",
   "id": "civic-surge",
   "metadata": {},
   "source": [
    "Contre-exemple qui donne des erreurs :"
   ]
  },
  {
   "cell_type": "code",
   "execution_count": 12,
   "id": "manufactured-disaster",
   "metadata": {},
   "outputs": [
    {
     "name": "stderr",
     "output_type": "stream",
     "text": [
      "/tmp/tmpp5ynsnzo.c: In function ‘main’:\n",
      "/tmp/tmpp5ynsnzo.c:6:9: error: ‘b’ undeclared (first use in this function)\n",
      "    6 |     a = b; // Illégal : b pas encore défini\n",
      "      |         ^\n",
      "/tmp/tmpp5ynsnzo.c:6:9: note: each undeclared identifier is reported only once for each function it appears in\n",
      "/tmp/tmpp5ynsnzo.c:17:13: error: ‘d’ undeclared (first use in this function)\n",
      "   17 |         b = d; // Illégal : d n'est *plus* défini !\n",
      "      |             ^\n",
      "/tmp/tmpp5ynsnzo.c:20:9: error: ‘c’ undeclared (first use in this function)\n",
      "   20 |     b = c; // Illégal : c n'est plus définit !\n",
      "      |         ^\n",
      "[C kernel] GCC exited with code 1, the executable will not be executed"
     ]
    }
   ],
   "source": [
    "//%cflags: -I .\n",
    "#include \"affichage.h\"\n",
    "\n",
    "int main() {\n",
    "    int a; // Début de la portée de a\n",
    "    a = b; // Illégal : b pas encore défini\n",
    "    int b; // Début de la portée de b\n",
    "    b = a + 2;\n",
    "    {\n",
    "        int c; // Début de la portée de c\n",
    "        c = a + b;\n",
    "        {\n",
    "            int d; // Début de la portée de d\n",
    "            d = c * b;\n",
    "            c = d; // Une variable accessible peut être à gauche ou à droite d'une affectation !\n",
    "        } // Fin de la portée de d\n",
    "        b = d; // Illégal : d n'est *plus* défini !\n",
    "        a = c * b; // Toujours légal : a, b et c sont encore accessibles\n",
    "    } // Fin de la portée de c\n",
    "    b = c; // Illégal : c n'est plus définit !\n",
    "    afficher_entier(b);\n",
    "    return 0;\n",
    "    // Fin de la portée de a et de b\n",
    "}"
   ]
  },
  {
   "cell_type": "markdown",
   "id": "attached-master",
   "metadata": {},
   "source": [
    "Le langage C autorise de déclarer des variables de même nom (et de type identique ou différent), _à condition de ne pas être dans le même bloc_.\n",
    "\n",
    "On dit que la variable déclarée dans un bloc qui a le même nom qu'une variable dans un bloc englobant _masque_ cette variable. La variable qui masque est à considérer comme une nouvelle variable qui n'a rien à voir avec la variable masquée : son évolution est différente, son utilisation est différente...\n",
    "\n",
    "À la fin du bloc, la variable \"masquante\" devient hors de portée : le nom de la variable fait alors bien référence à l'ancienne variable, dont la valeur n'a pas bougé !\n",
    "\n",
    "Par exemple :"
   ]
  },
  {
   "cell_type": "code",
   "execution_count": 19,
   "id": "external-parameter",
   "metadata": {},
   "outputs": [
    {
     "name": "stdout",
     "output_type": "stream",
     "text": [
      "a = 3\n",
      "a = $\n",
      "a = 3\n"
     ]
    }
   ],
   "source": [
    "//%cflags: -I .\n",
    "#include \"affichage.h\"\n",
    "\n",
    "int main() {\n",
    "    int a = 3;\n",
    "    afficher_entier(a);\n",
    "    {\n",
    "        char a = '$'; // Masquage\n",
    "        afficher_carac(a); // Le a ici est celui de la deuxième déclaration\n",
    "    }\n",
    "    afficher_entier(a); // Le a ici est bien celui de la première déclaration\n",
    "    return 0;\n",
    "}"
   ]
  },
  {
   "cell_type": "markdown",
   "id": "unusual-participant",
   "metadata": {},
   "source": [
    "Attention, on n'a pas le droit de déclarer des variables de même nom au même niveau :"
   ]
  },
  {
   "cell_type": "code",
   "execution_count": 20,
   "id": "discrete-diabetes",
   "metadata": {},
   "outputs": [
    {
     "name": "stderr",
     "output_type": "stream",
     "text": [
      "/tmp/tmpj221v83f.c: In function ‘main’:\n",
      "/tmp/tmpj221v83f.c:6:10: error: conflicting types for ‘a’\n",
      "    6 |     char a = 'a';\n",
      "      |          ^\n",
      "/tmp/tmpj221v83f.c:5:9: note: previous definition of ‘a’ was here\n",
      "    5 |     int a = 3;\n",
      "      |         ^\n",
      "[C kernel] GCC exited with code 1, the executable will not be executed"
     ]
    }
   ],
   "source": [
    "//%cflags: -I .\n",
    "#include \"affichage.h\"\n",
    "\n",
    "int main() {\n",
    "    int a = 3;\n",
    "    char a = 'a';\n",
    "    return 0;\n",
    "}"
   ]
  },
  {
   "cell_type": "markdown",
   "id": "unusual-integral",
   "metadata": {},
   "source": [
    "À noter que, tant qu'elle est masquée, la variable est _complètement inaccessible_ !"
   ]
  },
  {
   "cell_type": "markdown",
   "id": "medium-institute",
   "metadata": {},
   "source": [
    "Le C autorise la déclaration(-affectation) de variables en dehors de tout bloc. La portée de la variable est alors tout le code entre sa déclaration et _la fin du fichier_. Une telle variable est dite **globale**, car accessible de partout."
   ]
  },
  {
   "cell_type": "code",
   "execution_count": 3,
   "id": "powered-lesson",
   "metadata": {},
   "outputs": [
    {
     "name": "stdout",
     "output_type": "stream",
     "text": [
      "globale = 127\n",
      "globale = 128\n",
      "f1 = 121.000000\n",
      "f2 = 157.000000\n"
     ]
    }
   ],
   "source": [
    "//%cflags: -I .\n",
    "#include \"affichage.h\"\n",
    "\n",
    "int globale = 127;\n",
    "float f1 = 35.0, f2 = 36.0;\n",
    "\n",
    "int main() {\n",
    "    afficher_entier(globale);\n",
    "    globale++;\n",
    "    afficher_entier(globale);\n",
    "    \n",
    "    float f1 = 121.0; // Masquage\n",
    "    afficher_flottant(f1);\n",
    "    \n",
    "    f2 = f1 + f2;\n",
    "    afficher_flottant(f2);\n",
    "    \n",
    "    // afficher_flottant(f3); // f3 hors portée\n",
    "}\n",
    "\n",
    "float f3 = 11.0;\n",
    "\n"
   ]
  },
  {
   "cell_type": "markdown",
   "id": "failing-killer",
   "metadata": {},
   "source": [
    "Attention, il est interdit d'écrire des _instructions_ en dehors d'un bloc. Notamment, on ne peut pas déclarer-affecter une variable globale avec une expression non constante."
   ]
  },
  {
   "cell_type": "code",
   "execution_count": 5,
   "id": "regulated-sacramento",
   "metadata": {},
   "outputs": [
    {
     "name": "stderr",
     "output_type": "stream",
     "text": [
      "/tmp/tmpfkws7llj.c:5:10: error: initializer element is not constant\n",
      "    5 | char y = x + 1; // Error: initializer element is not constant\n",
      "      |          ^\n",
      "[C kernel] GCC exited with code 1, the executable will not be executed"
     ]
    }
   ],
   "source": [
    "//%cflags: -I .\n",
    "#include \"affichage.h\"\n",
    "\n",
    "char x = 'x';\n",
    "char y = x + 1; // Error: initializer element is not constant\n",
    "\n",
    "int main() {\n",
    "    afficher_carac(x);\n",
    "}"
   ]
  },
  {
   "cell_type": "markdown",
   "id": "biological-mineral",
   "metadata": {},
   "source": [
    "### Transtypage\n",
    "\n",
    "Le typage de C est statique (= connu à l'exécution), mais en même temps assez flexible. On peut sans problème demander au compilateur d'interpréter des expressions qui contiennent des éléments de types différents."
   ]
  },
  {
   "cell_type": "code",
   "execution_count": null,
   "id": "thorough-harmony",
   "metadata": {},
   "outputs": [],
   "source": [
    "//%cflags: -I .\n",
    "#include \"affichage.h\"\n",
    "\n",
    "int main() {\n",
    "    afficher_flottant(3 + 2.0); // 3 : entier, 2.0 : flottant, type attendu de l'expression : flottant\n",
    "    int x = 5 + 'a';            // 5 : entier, 'a' : caractère, type attendu de l'expression : entier\n",
    "    afficher_entier(x); \n",
    "    afficher_entier(3 + 2.0);\n",
    "    afficher_entier(2.0 + 3);\n",
    "    return 0;\n",
    "}"
   ]
  },
  {
   "cell_type": "markdown",
   "id": "interracial-delay",
   "metadata": {},
   "source": [
    "On peut demander explicitement au compilateur de convertir une valeur dans un type donné en indiquant le type entre parenthèses avant l'expression ou la sous-expression. Ou parle de conversion _explicite_."
   ]
  },
  {
   "cell_type": "code",
   "execution_count": 9,
   "id": "theoretical-amazon",
   "metadata": {},
   "outputs": [
    {
     "name": "stdout",
     "output_type": "stream",
     "text": [
      "((float) 3) + 2.0 = 5.000000\n",
      "x = 102\n",
      "3 + ((int) 2.0) = 5\n",
      "((int) 2.0) + 3 = 5\n"
     ]
    }
   ],
   "source": [
    "//%cflags: -I .\n",
    "#include \"affichage.h\"\n",
    "\n",
    "int main() {\n",
    "    afficher_flottant(((float) 3) + 2.0); // 3 : entier converti en flottant, 2.0 : flottant\n",
    "    int x = 5 + ((int) 'a');              // 5 : entier, 'a' : caractère converti en entier\n",
    "    afficher_entier(x);\n",
    "    afficher_entier(3 + ((int) 2.0));     // On convertit 2.0 en entier\n",
    "    afficher_entier(((int) 2.0) + 3);\n",
    "    return 0;\n",
    "}"
   ]
  },
  {
   "cell_type": "markdown",
   "id": "pacific-newsletter",
   "metadata": {},
   "source": [
    "La bonne pratique en C est **d'éviter à tout prix les conversions implicites**. Comme on le voit dans l'exemple précédent, le résultat n'est pas toujours très intuitif, et potentiellement gravement erroné."
   ]
  },
  {
   "cell_type": "markdown",
   "id": "southern-yesterday",
   "metadata": {},
   "source": [
    "## Structures de contrôle\n",
    "\n",
    "Comme la plupart des langages, le langage C offre diverses _structures de contrôle_ pour écrire des programmes complexes. Ces structures fonctionnent _exactement comme en Ada_, avec simplement une syntaxe légèrement différente."
   ]
  },
  {
   "cell_type": "markdown",
   "id": "compound-overhead",
   "metadata": {},
   "source": [
    "### Conditionnelles (Si-Alors-Sinon/`if-then-else`)\n",
    "\n",
    "La structure conditionnelle permet d'exécuter du code que si la condition donnée est vraie :"
   ]
  },
  {
   "cell_type": "code",
   "execution_count": 22,
   "id": "offshore-helicopter",
   "metadata": {},
   "outputs": [
    {
     "name": "stdout",
     "output_type": "stream",
     "text": [
      "Non a ne vaut pas 0\n"
     ]
    }
   ],
   "source": [
    "#include <stdio.h>\n",
    "\n",
    "int main() {\n",
    "    int a = 5; // <- essayer d'autres valeurs\n",
    "    \n",
    "    if (a == 0) { // Code exécuté si a est égal à 0\n",
    "        puts(\"Oui a vaut 0\");\n",
    "    } else {\n",
    "        puts(\"Non a ne vaut pas 0\");\n",
    "    }\n",
    "    return 0;\n",
    "}"
   ]
  },
  {
   "cell_type": "markdown",
   "id": "heated-marsh",
   "metadata": {},
   "source": [
    "La condition est donnée entre parenthèses (obligatoires), et peut être composée comme les expressions booléennes. La spécificité de C (que tout ce qui est 0 est `false` et tout le reste est `true`) est aussi valable ici."
   ]
  },
  {
   "cell_type": "code",
   "execution_count": 7,
   "id": "loved-trance",
   "metadata": {},
   "outputs": [
    {
     "name": "stdout",
     "output_type": "stream",
     "text": [
      "a est divisible par 17 et finit par un 3\n",
      "b est 'A' ou 'B'\n",
      "c ne vaut pas 0\n"
     ]
    }
   ],
   "source": [
    "#include <stdio.h>\n",
    "\n",
    "int main() {\n",
    "    int a = 2023; // <- essayer d'autres valeurs\n",
    "    \n",
    "    if (a % 17 == 0 && a % 10 == 3) {\n",
    "        puts(\"a est divisible par 17 et finit par un 3\");\n",
    "    } else {\n",
    "        puts(\"a n'est pas divisible par 17 ou ne finit pas par un 3\");\n",
    "    }\n",
    "    \n",
    "    char b = 'A'; // <- essayer d'autres valeurs\n",
    "    \n",
    "    if (b - 'A' && b - 'B') { // Implicitement : b - 'A' != 0 && b - 'B' != 0 (pas très beau)\n",
    "        puts(\"Ni b - 'A' ni b - 'B' ne valent 0\");\n",
    "    } else {\n",
    "        puts(\"b est 'A' ou 'B'\");\n",
    "    }\n",
    "    \n",
    "    float c = 1.0; // <- essayer d'autres valeurs\n",
    "    \n",
    "    if (!c) { // Implicitement : !(c == 0.0) (vraiment pas beau, et potentiellement dangereux...)\n",
    "        puts(\"c vaut 0\");\n",
    "    } else {\n",
    "        puts(\"c ne vaut pas 0\");\n",
    "    }\n",
    "    \n",
    "    return 0;\n",
    "}"
   ]
  },
  {
   "cell_type": "markdown",
   "id": "prescription-gateway",
   "metadata": {},
   "source": [
    "On peut écrire une conditionnelle sans bloc `else` (bloc _sinon_), ce qui est équivalent à avoir un bloc _sinon_ vide. Bien sûr, on rappelle qu'il est une _bonne pratique_ de toujours avoir un bloc _sinon_, quitte à ce qu'il soit vide."
   ]
  },
  {
   "cell_type": "code",
   "execution_count": 8,
   "id": "built-olympus",
   "metadata": {},
   "outputs": [
    {
     "name": "stdout",
     "output_type": "stream",
     "text": [
      "Je m'affiche\n",
      "Je m'affiche\n"
     ]
    }
   ],
   "source": [
    "#include <stdio.h>\n",
    "\n",
    "int main() {\n",
    "    int a = 0; // <- essayer d'autres valeurs\n",
    "    \n",
    "    if (a == 0) {\n",
    "        puts(\"Je m'affiche\");\n",
    "    }\n",
    "    // Code absolument équivalent en terme d'exécution\n",
    "    if (a == 0) {\n",
    "        puts(\"Je m'affiche\");\n",
    "    } else {}\n",
    "    \n",
    "    return 0;\n",
    "}"
   ]
  },
  {
   "cell_type": "markdown",
   "id": "proper-killing",
   "metadata": {},
   "source": [
    "Pour éviter d'imbriquer les conditionnelles, on peut définir des blocs _sinon si_ (`else if`) présentant une condition, et qui sont exécutés si la condition est vraie _et qu'aucun autre bloc avant n'a été exécuté_.\n",
    "\n",
    "Dans une structure si-alors-sinon-si-alors-...-sinon, il n'y a donc toujours qu'**un seul bloc** qui est exécuté, le premier dont la condition s'évalue à vraie, ou alors le bloc _sinon_ si aucune condition n'est satisfaite (il ne peut y en avoir qu'un seul)."
   ]
  },
  {
   "cell_type": "code",
   "execution_count": 24,
   "id": "pressed-subscriber",
   "metadata": {},
   "outputs": [
    {
     "name": "stdout",
     "output_type": "stream",
     "text": [
      "a divisible par 3\n"
     ]
    }
   ],
   "source": [
    "#include <stdio.h>\n",
    "\n",
    "int main() {\n",
    "    int a = 21;  // <- essayer d'autres valeurs\n",
    "    \n",
    "    if (a % 3 == 0) {\n",
    "        puts(\"a divisible par 3\");\n",
    "    } else if (a % 2 == 0) {\n",
    "        puts(\"a divisible par 2\");\n",
    "    } else if (a % 6 == 0) { // Ce code est inaccessible (= jamais exécuté)\n",
    "        puts(\"a divisible par 6\");\n",
    "    } else {\n",
    "        puts(\"a divisible par aucun entier connu\");\n",
    "    }\n",
    "    \n",
    "    return 0;\n",
    "}"
   ]
  },
  {
   "cell_type": "markdown",
   "id": "uniform-terrorist",
   "metadata": {},
   "source": [
    "On notera que l'instruction `if`/`else if`/`else` est suivie _d'une pair d'accolades_ ; donc les blocs d'une conditionnelle sont bien des blocs \"comme les autres\", qui obéissent aux même règles en termes de portée et de masquage !"
   ]
  },
  {
   "cell_type": "code",
   "execution_count": 37,
   "id": "ready-titanium",
   "metadata": {},
   "outputs": [
    {
     "name": "stdout",
     "output_type": "stream",
     "text": [
      "y = a\n",
      "z = *\n",
      "z = *\n"
     ]
    }
   ],
   "source": [
    "//%cflags: -I .\n",
    "#include \"affichage.h\"\n",
    "\n",
    "int main() {\n",
    "    char z = '*'; // <- essayer d'autres valeurs\n",
    "    \n",
    "    if (z == '*') {\n",
    "        char y = 'a'; // Variable locale, inaccessible en dehors du bloc\n",
    "        afficher_carac(y);\n",
    "        afficher_carac(z); // z accessible dans bloc imbriqué\n",
    "    } else {\n",
    "        char z = '$'; // Masquage de z\n",
    "        afficher_carac(z);\n",
    "    }\n",
    "    // afficher_carac(y); // y n'est pas accessible en dehors du bloc !\n",
    "    afficher_carac(z); // Ce z correspond au z de la première déclaration\n",
    "    \n",
    "    return 0;\n",
    "}"
   ]
  },
  {
   "cell_type": "markdown",
   "id": "deluxe-affair",
   "metadata": {},
   "source": [
    "#### Petit exercice : calculer maximum et minimum\n",
    "\n",
    "Compléter la cellule ci-dessous pour que le code calcule le minimum et le maximum des trois valeurs `a`, `b` et `c`, stockés (respectivement) dans les variables `min` et `max`."
   ]
  },
  {
   "cell_type": "code",
   "execution_count": 9,
   "id": "polish-treasurer",
   "metadata": {},
   "outputs": [
    {
     "name": "stdout",
     "output_type": "stream",
     "text": [
      "min = 0.000000\n",
      "max = -7120231555986124706277522145280.000000\n"
     ]
    }
   ],
   "source": [
    "//%cflags: -I .\n",
    "#include \"affichage.h\"\n",
    "\n",
    "int main() {\n",
    "    // Variables d'entrée de l'algo (à changer pour tester)\n",
    "    float a = 121.785;\n",
    "    float b = -13.8;\n",
    "    float c = 0.01;\n",
    "    \n",
    "    float min, max;\n",
    "    \n",
    "    /* À COMPLÉTER */\n",
    "    \n",
    "    // Affichage\n",
    "    afficher_flottant(min);\n",
    "    afficher_flottant(max);\n",
    "}"
   ]
  },
  {
   "cell_type": "markdown",
   "id": "reliable-destiny",
   "metadata": {},
   "source": [
    "### Cas (`switch`-`case`)\n",
    "\n",
    "La structure `switch`-`case` permet d'exécuter un bloc de code en fonction de la valeur que prend une expression. C'est une structure pratique quand on doit enchaîner des blocs conditionnels où la condition est une simple égalité. C'est aussi pratique pour les types \"finis\" (voir plus loin sur les types utilisateurs)."
   ]
  },
  {
   "cell_type": "code",
   "execution_count": 8,
   "id": "heard-greece",
   "metadata": {},
   "outputs": [
    {
     "name": "stdout",
     "output_type": "stream",
     "text": [
      "x est 0\n"
     ]
    }
   ],
   "source": [
    "//%cflags: -I .\n",
    "#include \"affichage.h\"\n",
    "\n",
    "int main() {\n",
    "    int x = 0; // <- essayer d'autres valeurs\n",
    "    \n",
    "    switch(x) {\n",
    "        case 0:\n",
    "            afficher_nl(\"x est 0\");\n",
    "            break;\n",
    "        case 1:\n",
    "            afficher_nl(\"x est 1\");\n",
    "            break;\n",
    "        case 2:\n",
    "            afficher_nl(\"x est 2\");\n",
    "            break;\n",
    "        default:\n",
    "            afficher_nl(\"x est hors limite\");\n",
    "    }\n",
    "    \n",
    "    return 0;\n",
    "}"
   ]
  },
  {
   "cell_type": "markdown",
   "id": "perceived-publisher",
   "metadata": {},
   "source": [
    "On donne la valeur à laquelle comparer l'expression après le mot-clef `case`. Le code dans chaque bloc `case` doit terminer par l'instruction spéciale `break`, qui interrompt le flot d'exécution et sort du `switch`. Le bloc `default` est exécuté si aucun cas ne correspond à la variable (il joue le rôle de bloc `else`).\n",
    "\n",
    "À noter que les instructions après un `break` ne sont jamais exécutées. Inversement, s'il n'y a pas de `break`, le programme continue et rentre dans le bloc `case` suivant (on appelle ça un _fall-through_)."
   ]
  },
  {
   "cell_type": "code",
   "execution_count": 11,
   "id": "northern-bleeding",
   "metadata": {
    "scrolled": true
   },
   "outputs": [
    {
     "name": "stdout",
     "output_type": "stream",
     "text": [
      "premier cas\n",
      "deuxième cas\n"
     ]
    }
   ],
   "source": [
    "//%cflags: -I .\n",
    "#include \"affichage.h\"\n",
    "\n",
    "int main() {\n",
    "    char c = 'a'; // <- essayer d'autres valeurs\n",
    "    \n",
    "    switch(c) {\n",
    "        case 'a':\n",
    "            afficher_nl(\"premier cas\");\n",
    "            // pas de break = fall-through\n",
    "        case 'b':\n",
    "            afficher_nl(\"deuxième cas\");\n",
    "            break;\n",
    "            afficher_nl(\"code inaccessible\");\n",
    "        case 'c':\n",
    "            afficher_nl(\"troisième cas\");\n",
    "            // pas de break\n",
    "        default:\n",
    "            afficher_nl(\"cas par défaut\");\n",
    "    }\n",
    "    \n",
    "    return 0;\n",
    "}"
   ]
  },
  {
   "cell_type": "markdown",
   "id": "future-decline",
   "metadata": {},
   "source": [
    "Même s'il est optionnel, c'est une bonne pratique d'avoir un bloc `default`, quitte à ce qu'il soit vide."
   ]
  },
  {
   "cell_type": "markdown",
   "id": "professional-right",
   "metadata": {},
   "source": [
    "### Boucles \"Tant Que\" et \"Faire-Tant Que\" (`while`/`do`-`while`)\n",
    "\n",
    "La boucle \"Tant Que\" permet de répeter une action tant qu'une condition est vraie"
   ]
  },
  {
   "cell_type": "code",
   "execution_count": 4,
   "id": "organized-briefs",
   "metadata": {
    "scrolled": true
   },
   "outputs": [
    {
     "name": "stdout",
     "output_type": "stream",
     "text": [
      "i = 5\n",
      "i = 10\n",
      "i = 15\n",
      "i = 20\n",
      "i = 25\n",
      "i = 30\n",
      "i = 35\n",
      "i = 40\n",
      "i = 45\n",
      "i = 50\n",
      "Fini.\n"
     ]
    }
   ],
   "source": [
    "//%cflags: -I .\n",
    "#include <stdio.h>\n",
    "#include \"affichage.h\"\n",
    "\n",
    "int main() {\n",
    "    int i = 5;\n",
    "    \n",
    "    while (i % 11 != 0) {\n",
    "        afficher_entier(i);\n",
    "        i = i + 5;\n",
    "    }\n",
    "    \n",
    "    puts(\"Fini.\");\n",
    "    \n",
    "    return 0;\n",
    "}"
   ]
  },
  {
   "cell_type": "markdown",
   "id": "regional-agent",
   "metadata": {},
   "source": [
    "Comme pour la conditionnelle, la condition obéit aux mêmes règles que les booléens, et ce qui suit la boucle est un bloc, qui se comporte donc comme n'importe quel autre bloc."
   ]
  },
  {
   "cell_type": "code",
   "execution_count": 17,
   "id": "touched-longer",
   "metadata": {},
   "outputs": [
    {
     "name": "stdout",
     "output_type": "stream",
     "text": [
      "d = a\n",
      "d = b\n",
      "d = c\n",
      "d = d\n",
      "Fini.\n"
     ]
    }
   ],
   "source": [
    "//%cflags: -I .\n",
    "#include <stdio.h>\n",
    "#include \"affichage.h\"\n",
    "\n",
    "int main() {\n",
    "    char c = 'A';\n",
    "    char d = 'Z';\n",
    "    while (c - 'E') { // Implicitement : c - 'E' != 0\n",
    "        char d = c + 32; // Masquage de d\n",
    "        afficher_carac(d);\n",
    "        c++;\n",
    "    }\n",
    "    \n",
    "    puts(\"Fini.\");\n",
    "    \n",
    "    return 0;\n",
    "}"
   ]
  },
  {
   "cell_type": "markdown",
   "id": "caroline-religion",
   "metadata": {},
   "source": [
    "Comme en Ada, il existe une version alternative du _Tant Que_ où l'on fait une itération avant de tester la condition : le _Faire-Tant Que_ (`do`-`while`)."
   ]
  },
  {
   "cell_type": "code",
   "execution_count": 18,
   "id": "ruled-position",
   "metadata": {
    "scrolled": true
   },
   "outputs": [
    {
     "name": "stdout",
     "output_type": "stream",
     "text": [
      "i = 1\n",
      "i = 2\n",
      "i = 4\n",
      "i = 8\n",
      "i = 16\n",
      "i = 32\n",
      "i = 64\n",
      "Fini.\n"
     ]
    }
   ],
   "source": [
    "//%cflags: -I .\n",
    "#include <stdio.h>\n",
    "#include <stdbool.h>\n",
    "#include \"affichage.h\"\n",
    "\n",
    "int main() {\n",
    "    bool continuer = false;\n",
    "    int i = 1;\n",
    "    do {\n",
    "        afficher_entier(i);\n",
    "        i *= 2;\n",
    "        continuer = (i < 65);\n",
    "    } while (continuer);\n",
    "    \n",
    "    puts(\"Fini.\");\n",
    "    \n",
    "    return 0;\n",
    "}"
   ]
  },
  {
   "cell_type": "markdown",
   "id": "single-reducing",
   "metadata": {},
   "source": [
    "#### Petit exercice : division euclidienne\n",
    "\n",
    "Compléter la cellule ci-dessous pour réaliser la division euclidienne de $a$ par $b$ avec l'algorithme des soustractions successives :\n",
    "  1. Soient $a$ et $b$, avec $a \\geq 0$ et $b > 0$\n",
    "  2. Soient $q = 0$ et $r = a$\n",
    "  3. Tant que $r \\geq b$, faire :\n",
    "    1. Incrémenter $q$\n",
    "    2. Mettre à jour $r$ avec $r - b$\n",
    "  4. Afficher $q$ et $r$ (on doit avoir $a = q \\times b + r$ et $0 \\leq r < b$"
   ]
  },
  {
   "cell_type": "code",
   "execution_count": 10,
   "id": "owned-amino",
   "metadata": {},
   "outputs": [
    {
     "name": "stdout",
     "output_type": "stream",
     "text": [
      "q = 0\n",
      "r = 0\n"
     ]
    }
   ],
   "source": [
    "//%cflags: -I .\n",
    "#include \"affichage.h\"\n",
    "\n",
    "int main() {\n",
    "    // Variables d'entrée du programme (à faire varier pour tester)\n",
    "    int a = 2023,\n",
    "        b = 11;\n",
    "        \n",
    "    int q, r;\n",
    "    \n",
    "    /* À COMPLÉTER */\n",
    "    \n",
    "    afficher_entier(q);\n",
    "    afficher_entier(r);\n",
    "}"
   ]
  },
  {
   "cell_type": "markdown",
   "id": "defensive-turkish",
   "metadata": {},
   "source": [
    "### Boucles _Pour_ (`for`)\n",
    "\n",
    "La boucle _Pour_ permet de répéter des instructions en faisant progresser des variables. En C, la boucle _Pour_ a la syntaxe suivante :\n",
    "```c\n",
    "for (<affectation(s) initiale(s)> ; <condition> ; <affectation(s) fin itération>) {\n",
    "    <corps>\n",
    "}\n",
    "```\n",
    "\n",
    "La boucle `for` commence par exécuter les instructions pour l'affectation initiale, puis répète le corps de la boucle tant que la condition est vraie, en exécutant les instructions de fin d'itération à la fin de chaque itération."
   ]
  },
  {
   "cell_type": "code",
   "execution_count": 38,
   "id": "acting-laser",
   "metadata": {},
   "outputs": [
    {
     "name": "stdout",
     "output_type": "stream",
     "text": [
      "a = 3\n",
      "a = 6\n",
      "a = 12\n",
      "a = 24\n",
      "a = 48\n",
      "Fini.\n"
     ]
    }
   ],
   "source": [
    "//%cflags: -I .\n",
    "#include <stdio.h>\n",
    "#include \"affichage.h\"\n",
    "\n",
    "int main() {\n",
    "    int a = 25;\n",
    "    for (a = 3; a <= 48; a *= 2) {\n",
    "        afficher_entier(a);\n",
    "    }\n",
    "    \n",
    "    puts(\"Fini.\");\n",
    "    \n",
    "    return 0;\n",
    "}"
   ]
  },
  {
   "cell_type": "markdown",
   "id": "embedded-bridges",
   "metadata": {},
   "source": [
    "À noter que C est très très laxiste sur ce qu'on peut mettre dans une boucle `for`. Ci-dessous, des exemples variés de choses étranges qu'on peut faire."
   ]
  },
  {
   "cell_type": "code",
   "execution_count": 6,
   "id": "structured-novelty",
   "metadata": {
    "scrolled": false
   },
   "outputs": [
    {
     "name": "stdout",
     "output_type": "stream",
     "text": [
      "a = 0\n",
      "b = 0\n",
      "a = 1\n",
      "b = 5\n",
      "a = 2\n",
      "b = 10\n",
      "a = 3\n",
      "b = 15\n",
      "a = 4\n",
      "b = 20\n",
      "a = 5\n",
      "b = 25\n",
      "\n",
      "c = 0\n",
      "c = 2\n",
      "c = 4\n",
      "c = 6\n",
      "c = 8\n",
      "\n",
      "x = 0.000000000000\n",
      "x = 1.000000000000\n",
      "x = 0.500000000000\n",
      "x = 0.666666666667\n",
      "x = 0.600000000000\n",
      "x = 0.625000000000\n",
      "x = 0.615384615385\n",
      "x = 0.619047619048\n",
      "x = 0.617647058824\n",
      "x = 0.618181818182\n",
      "x = 0.617977528090\n",
      "x = 0.618055555556\n",
      "x = 0.618025751073\n",
      "x = 0.618037135279\n",
      "x = 0.618032786885\n",
      "x = 0.618034447822\n",
      "x = 0.618033813400\n",
      "x = 0.618034055728\n",
      "x = 0.618033963167\n",
      "x = 0.618033998522\n"
     ]
    }
   ],
   "source": [
    "//%cflags: -I .\n",
    "#include <stdio.h>\n",
    "#include \"affichage.h\"\n",
    "\n",
    "int main() {\n",
    "    int a, b;\n",
    "    for (a = 0, b = 0 ; a + b < 30; a = a + 1, b = b + 5) { // Double variables\n",
    "        afficher_entier(a);\n",
    "        afficher_entier(b);\n",
    "    }\n",
    "    afficher_entier(a);\n",
    "    afficher_entier(b);\n",
    "    nouvelle_ligne();\n",
    "    \n",
    "    for (int c = 0; c < 10; ) { // Déclaration-affectation + pas de bloc affectation de fin d'itération\n",
    "        afficher_entier(c);\n",
    "        c += 2; // Il faut faire progresser la variable \"manuellement\" (sinon boucle infinie)\n",
    "    }\n",
    "    // Note : ici, c est local au bloc for (accessible dans le corps de la boucle mais pas en dehors)\n",
    "    // afficher_entier(c); // Génère une erreur !\n",
    "    nouvelle_ligne();\n",
    "    \n",
    "    // Un petit Fibonacci\n",
    "    long t; // Utilisé dans l'affectation\n",
    "    for (long n = 0, un1 = 1, un0 = 0 ; n < 20; t = un1, un1 = un1 + un0, un0 = t, n++) {\n",
    "        double x = (double) un0 / (double) un1; // On converti un0 et un1 en double sinon c'est une division entière\n",
    "        afficher_double_precis(x, 12);\n",
    "    }\n",
    "    \n",
    "    return 0;\n",
    "}"
   ]
  },
  {
   "cell_type": "markdown",
   "id": "thermal-alaska",
   "metadata": {},
   "source": [
    "**En règle générale, on essaye d'éviter ce genre de `for`, car c'est dur à lire et dur à débugger.**\n",
    "\n",
    "On se contentera donc des boucles avec une seule variable, une seule affectation et une seule instruction de fin d'itération.\n",
    "\n",
    "La forme de `for` que l'on utilisera le plus sera sans hésiter :\n",
    "```c\n",
    "for (int i = 0; i < N; i++) { ... }\n",
    "```"
   ]
  },
  {
   "cell_type": "markdown",
   "id": "beginning-partition",
   "metadata": {},
   "source": [
    "#### Petit exercice : somme des nombres entiers de 1 à $n$\n",
    "\n",
    "Compléter la cellule ci-dessous pour qu'elle réalise la somme des entiers de 1 à $n$, en utilisant une boucle `for`."
   ]
  },
  {
   "cell_type": "code",
   "execution_count": 11,
   "id": "sustainable-certificate",
   "metadata": {},
   "outputs": [
    {
     "name": "stdout",
     "output_type": "stream",
     "text": [
      "s = 0\n"
     ]
    }
   ],
   "source": [
    "//%cflags: -I.\n",
    "#include \"affichage.h\"\n",
    "\n",
    "int main() {\n",
    "    int n = 11; // Variable d'entrée à faire varier\n",
    "    int s; // Somme\n",
    "    \n",
    "    /* À COMPLÉTER */\n",
    "    \n",
    "    afficher_entier(s);\n",
    "}"
   ]
  },
  {
   "cell_type": "markdown",
   "id": "architectural-defensive",
   "metadata": {},
   "source": [
    "## À vous de jouer !\n",
    "\n",
    "Le contenu de ce classeur est suffisant pour écrire quelques petits algorithmes simples, histoire de prendre le langage en main.\n",
    "\n",
    "\n",
    "### 1. La factorielle itérative\n",
    "\n",
    "On rappelle que la fonction factorielle $\\mathrm{fact}$ est définie inductivement comme suit :\n",
    "$$\n",
    "\\left\\{\\begin{array}{ll}\n",
    "\\mathrm{fact}(0) = 1 & \\\\\n",
    "\\mathrm{fact}(n) = n \\times \\mathrm{fact}(n - 1) & \\forall n > 0\n",
    "\\end{array}\\right.\n",
    "$$\n",
    "\n",
    "Compléter le code C ci-dessous qui calcule de manière itérative la factorielle du nombre $n$ puis l'affiche."
   ]
  },
  {
   "cell_type": "code",
   "execution_count": 39,
   "id": "signal-bruce",
   "metadata": {
    "scrolled": true
   },
   "outputs": [
    {
     "name": "stdout",
     "output_type": "stream",
     "text": [
      "r = 1\n"
     ]
    }
   ],
   "source": [
    "//%cflags: -I.\n",
    "#include \"affichage.h\"\n",
    "\n",
    "int main() {\n",
    "    long n = 5;  // Nombre dont on veut la factorielle (à faire varier)\n",
    "    long r = 1;  // Résultat\n",
    "    \n",
    "    // Code de la factorielle\n",
    "    /** TODO **/\n",
    "    \n",
    "    // Affichage du résultat\n",
    "    afficher_entier(r);\n",
    "}"
   ]
  },
  {
   "cell_type": "markdown",
   "id": "saving-biodiversity",
   "metadata": {},
   "source": [
    "### 2. Le PGCD\n",
    "\n",
    "Le Plus Grand Commun Diviseur (PGCD) de deux nombres entiers $a$ et $b$ est le plus grand nombre (positif, non nul) qui divise simultanément $a$ et $b$.\n",
    "\n",
    "Le PGCD obéit à plusieurs règles, pour tout $a, b$ entiers relatifs non-nuls :\n",
    " 1. $\\mathrm{pgcd}(a,b) = \\mathrm{pgcd}(b,a)$\n",
    " 2. $\\mathrm{pgcd}(a,b) = \\mathrm{pgcd}(|a|,|b|)$\n",
    " 3. Si $a > b$, $\\mathrm{pgcd}(a,b) = \\mathrm{pgcd}(a - b, b)$\n",
    " 4. $\\mathrm{pgcd}(a,a) = a$\n",
    " \n",
    "On peut utiliser ces 4 règles pour calculer le PGCD de deux nombres entiers non-nuls quelconque. Pour cela :\n",
    " 1. Si $a$ (respectivement $b$) est négatif, on en prend l'opposé\n",
    " 2. Tant que $a$ et $b$ sont différents :\n",
    "   1. Si $a$ est plus grand que $b$, alors $a$ devient égal à la différence entre $a$ et $b$\n",
    "   2. Sinon, $b$ devient égal à la différence entre $b$ et $a$\n",
    " 3. Le résultat est $a$ (ou $b$, les deux doivent être égaux)\n",
    "\n",
    "Compléter le squelette de code ci-dessous pour réaliser le PGCD de deux nombre entiers non-nuls quelconque :"
   ]
  },
  {
   "cell_type": "code",
   "execution_count": 7,
   "id": "labeled-multimedia",
   "metadata": {},
   "outputs": [
    {
     "name": "stdout",
     "output_type": "stream",
     "text": [
      "a = 3\n"
     ]
    }
   ],
   "source": [
    "//%cflags: -I.\n",
    "#include \"affichage.h\"\n",
    "\n",
    "int main() {\n",
    "    int a = 711, b = 2733;\n",
    "    \n",
    "    // Vérifier que a est bien positif et en prendre l'opposé le cas échéant\n",
    "    /** TODO **/\n",
    "    \n",
    "    // Idem avec b\n",
    "    /** TODO **/\n",
    "    \n",
    "    // Calcul du PGCD\n",
    "    /** TODO **/\n",
    "    \n",
    "    // Affichage\n",
    "    afficher_entier(a);\n",
    "}"
   ]
  },
  {
   "cell_type": "markdown",
   "id": "removable-warehouse",
   "metadata": {},
   "source": [
    "### 3. La suite de Syracuse \n",
    "\n",
    "La suite de Syracuse est une suite d'entiers définie par la relation de récurrence suivante :\n",
    "$$\n",
    "u_{n+1} = \\left\\{\\begin{array}{lcl}\n",
    "\\frac{u_n}{2} & & \\text{si}~u_n~\\text{est pair} \\\\\n",
    "3 u_n + 1 & & \\text{si}~u_n~\\text{est impair}\n",
    "\\end{array}\\right.\n",
    "$$\n",
    "\n",
    "Compléter le squelette de code C ci-dessous pour afficher les $n$ premiers termes de la suite de Syracuse qui commence au terme $u_0$ donné :"
   ]
  },
  {
   "cell_type": "code",
   "execution_count": 12,
   "id": "different-track",
   "metadata": {
    "scrolled": true
   },
   "outputs": [],
   "source": [
    "//%cflags: -I.\n",
    "#include \"affichage.h\"\n",
    "\n",
    "int main() {\n",
    "    int n = 50;      // Nombre de termes à afficher\n",
    "    int u0 = 7141;   // Premier terme de la suite\n",
    "    /** TODO **/     // n-ième terme de la suite\n",
    "    \n",
    "    // Afficher les n premiers termes de la suite\n",
    "    /** TODO **/\n",
    "\n",
    "}"
   ]
  },
  {
   "cell_type": "markdown",
   "id": "dense-overhead",
   "metadata": {},
   "source": [
    "Vous l'aurez peut être remarqué, la suite de Syracuse finit par tourner autour des nombres 4, 2, 1. En fait, dès lors qu'on atteint l'un de ces 3 nombres, la suite se met à \"boucler\" indéfiniment. La [Conjecture de Syracuse](https://fr.wikipedia.org/wiki/Conjecture_de_Syracuse) (non résolue à ce jour) stipule que, peu importe le premier terme choisi $u_0$, la suite finit _toujours_ par boucler sur 4, 2, 1.\n",
    "\n",
    "Plutô que d'afficher les $n$ premiers termes de la suite, adapter le code ci-dessus pour qu'il afficher _tous_ les termes de la suite de Syracuse jusqu'à atteindre un 1."
   ]
  },
  {
   "cell_type": "code",
   "execution_count": 3,
   "id": "metropolitan-johnson",
   "metadata": {},
   "outputs": [],
   "source": [
    "//%cflags: -I.\n",
    "#include \"affichage.h\"\n",
    "\n",
    "int main() {\n",
    "    /** TODO **/\n",
    "}\n"
   ]
  },
  {
   "cell_type": "markdown",
   "id": "forty-dream",
   "metadata": {},
   "source": [
    "### 4. Détection de nombre premier\n",
    "\n",
    "Un nombre est dit premier s'il a exactement deux diviseurs, 1 et lui-même.\n",
    "\n",
    "Écrire l'algorithme qui à deux nombre $n$ et $p$ détermine si $n$ est _divisible_ par $p$ (autrement dit que la division euclidienne de $n$ par $p$ a un reste nul)."
   ]
  },
  {
   "cell_type": "code",
   "execution_count": 13,
   "id": "golden-change",
   "metadata": {},
   "outputs": [],
   "source": [
    "//%cflags: -I.\n",
    "#include \"affichage.h\"\n",
    "\n",
    "int main() {\n",
    "    int n = 121;\n",
    "    int p = 11;\n",
    "    \n",
    "    /** TODO **/\n",
    "}"
   ]
  },
  {
   "cell_type": "markdown",
   "id": "double-lunch",
   "metadata": {},
   "source": [
    "En utilisant des bouts du code ci-dessus, écrire l'algorithme qui détermine si un nombre $n$ est premier, autrement dit s'il n'a pas d'autre diviseurs que 1 et lui-même."
   ]
  },
  {
   "cell_type": "code",
   "execution_count": 14,
   "id": "median-channels",
   "metadata": {},
   "outputs": [],
   "source": [
    "//%cflags: -I.\n",
    "#include \"affichage.h\"\n",
    "\n",
    "int main() {\n",
    "    int n = 71839;\n",
    "    \n",
    "    /** TODO **/\n",
    "}"
   ]
  }
 ],
 "metadata": {
  "kernelspec": {
   "display_name": "C",
   "language": "c",
   "name": "c"
  },
  "language_info": {
   "file_extension": ".c",
   "mimetype": "text/plain",
   "name": "c"
  }
 },
 "nbformat": 4,
 "nbformat_minor": 5
}
