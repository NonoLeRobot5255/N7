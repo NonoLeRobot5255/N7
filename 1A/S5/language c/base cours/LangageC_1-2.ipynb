{
 "cells": [
  {
   "cell_type": "markdown",
   "id": "coordinate-sheep",
   "metadata": {},
   "source": [
    "*Ceci est le classeur numéro **2** de la matière Langage C du **1er semestre**, à réaliser dans le temps de la deuxième séance de Langage C.*\n",
    "\n",
    "Ce deuxième classeur contient les points suivants :\n",
    " - Sous-programmes\n",
    " - Pointeurs\n",
    " - Tableaux\n",
    "   \n",
    "<br>\n",
    "\n",
    "Il se termine avec quelques petits exercices de mise en pratique. (Ces exercices ne sont pas à rendre mais vous pouvez bien sûr les envoyer à votre encadrant.e de TP pour qu'iel y jette un oeil)."
   ]
  },
  {
   "cell_type": "markdown",
   "id": "sought-hampshire",
   "metadata": {},
   "source": [
    "## Les sous-programmes\n",
    "\n",
    "Le langage C permet de définir des _sous-programmes_. Contrairement à des langages comme ADA et Fortran, le C ne **fait pas** la différence entre une _procédure_ et une _fonction_.\n",
    "\n",
    "\n",
    "### Déclarations et implantations\n",
    "\n",
    "Un sous-programme est déclaré avec :\n",
    " * Un type de retour\n",
    " * Un nom (mêmes règles que pour les variables)\n",
    " * Une liste de paramètres, un paramètre étant composé d'un type et d'un identifiant\n",
    "\n",
    "Cela donne l'instruction suivante :\n",
    "```c\n",
    "<type> <nom>(<type1> <param1>, <type2> <param2> [...]);\n",
    "```\n",
    "\n",
    "L'ensemble de ces éléments forment la _signature_ du sous-programme.\n",
    "\n",
    "Le type de retour d'un sous-programme peut être le type spécial `void`, qui signifie \"aucune valeur retournée\". On pourrait donc considérer qu'un sous-programme qui retourne `void` est une procédure (mais l'inverse n'est pas nécessairement vrai). À noter aussi qu'un sous-programme peut tout à fait ne définir aucun paramètre, auquel cas on laisse les parenthèses avec rien entre."
   ]
  },
  {
   "cell_type": "code",
   "execution_count": 1,
   "id": "naked-thomas",
   "metadata": {},
   "outputs": [],
   "source": [
    "int mon_sous_programme(char a, float b); // Sous-programme qui prend 2 paramètres (un caractère et un flottant)\n",
    "                                         // et retourne un entier\n",
    "float pi(); // Sous-programme sans paramètre, qui retourne un flottant\n",
    "void ecrire(int i); // Sous-programme avec un paramètre entier, qui ne retourne rien\n",
    "void mystere(); // Sous-programme qui ne prend rien en entrée et ne donne rien en sortie\n",
    "\n",
    "int main() {} // (obligé d'avoir un symbole main pour Jupyter)"
   ]
  },
  {
   "cell_type": "markdown",
   "id": "ecological-bulgarian",
   "metadata": {},
   "source": [
    "Une fois déclaré, on donne _l'implantation_ d'un sous-programme en rappelant sa signature, et en remplaçant le point-virgule `;` par un bloc d'instructions :"
   ]
  },
  {
   "cell_type": "code",
   "execution_count": 10,
   "id": "normal-matthew",
   "metadata": {
    "scrolled": true
   },
   "outputs": [],
   "source": [
    "//%cflags: -I .\n",
    "#include \"affichage.h\"\n",
    "\n",
    "// Déclarations\n",
    "int mon_sous_programme(char a, float b);\n",
    "float pi();\n",
    "void ecrire(int i);\n",
    "void mystere(); \n",
    "\n",
    "// Implantations\n",
    "int mon_sous_programme(char a, float b) {\n",
    "    int x = (int) a + (int) b;\n",
    "    return x; // Retour de la fonction\n",
    "}\n",
    "\n",
    "float pi() {\n",
    "    return 3.1415;\n",
    "}\n",
    "\n",
    "void ecrire(int i) {\n",
    "    afficher_entier(i);\n",
    "}\n",
    "\n",
    "void mystere() {\n",
    "    puts(\"Des choses mystérieuses se passent\");\n",
    "}\n",
    "\n",
    "int main() {}"
   ]
  },
  {
   "cell_type": "markdown",
   "id": "subsequent-simon",
   "metadata": {},
   "source": [
    "Il faut savoir que le nom d'une fonction est _unique_, et est associé à une signature précise (cela n'est pas le cas en Java ou en C++ par exemple, qui autorisent la _surcharge_). Si l'implantation et la signature ne concordent pas sur le type de retour et les arguments, cela créera une erreur à la compilation."
   ]
  },
  {
   "cell_type": "code",
   "execution_count": 10,
   "id": "polar-instruction",
   "metadata": {
    "scrolled": true
   },
   "outputs": [
    {
     "name": "stderr",
     "output_type": "stream",
     "text": [
      "/tmp/tmp747hqnig.c:6:8: error: conflicting types for ‘pi’\n",
      "    6 | double pi() { // Mauvais type de retour\n",
      "      |        ^~\n",
      "/tmp/tmp747hqnig.c:4:7: note: previous declaration of ‘pi’ was here\n",
      "    4 | float pi();\n",
      "      |       ^~\n",
      "/tmp/tmp747hqnig.c:12:5: error: conflicting types for ‘ecrire’\n",
      "   12 | int ecrire(char x) { // Mauvais type pour l'argument\n",
      "      |     ^~~~~~\n",
      "/tmp/tmp747hqnig.c:10:5: note: previous declaration of ‘ecrire’ was here\n",
      "   10 | int ecrire(int x);\n",
      "      |     ^~~~~~\n",
      "/tmp/tmp747hqnig.c:18:6: error: conflicting types for ‘deux’\n",
      "   18 | void deux(char a) { // Mauvais nombre d'arguments\n",
      "      |      ^~~~\n",
      "/tmp/tmp747hqnig.c:16:6: note: previous declaration of ‘deux’ was here\n",
      "   16 | void deux(char a, char b);\n",
      "      |      ^~~~\n",
      "[C kernel] GCC exited with code 1, the executable will not be executed"
     ]
    }
   ],
   "source": [
    "//%cflags: -I .\n",
    "#include \"affichage.h\"\n",
    "\n",
    "float pi();\n",
    "\n",
    "double pi() { // Mauvais type de retour\n",
    "    return 3.1415;\n",
    "}\n",
    "\n",
    "int ecrire(int x);\n",
    "\n",
    "int ecrire(char x) { // Mauvais type pour l'argument\n",
    "    afficher_carac(x);\n",
    "}\n",
    "\n",
    "void deux(char a, char b);\n",
    "\n",
    "void deux(char a) { // Mauvais nombre d'arguments\n",
    "    afficher_carac(a);\n",
    "}"
   ]
  },
  {
   "cell_type": "markdown",
   "id": "criminal-school",
   "metadata": {},
   "source": [
    "Comme pour les variables, le C ne permet pas de _déclaration en avant_. À chaque ligne d'un fichier, les sous-programmes accessibles sont ceux qui ont été déclarés avant. Si la fonction existe mais est déclarée _après_, cela donne une erreur (parfois...).\n",
    "\n",
    "À noter par ailleurs qu'une implémentation seule vaut aussi déclaration (on pourrait appeler ça une \"déclaration-implantation\"). Il n'est donc pas généralement nécessaire de déclarer une fonction avant de l'implanter, ce qui permet de faire de la récursivité sans problème. La déclaration devient nécessaire lorsque l'on fait des modules ou lorsque l'on écrit des fonctions mutuellement récursives."
   ]
  },
  {
   "cell_type": "code",
   "execution_count": 5,
   "id": "swedish-arlington",
   "metadata": {},
   "outputs": [
    {
     "name": "stderr",
     "output_type": "stream",
     "text": [
      "/tmp/tmpacclni26.c: In function ‘fois_pi’:\n",
      "/tmp/tmpacclni26.c:8:16: warning: implicit declaration of function ‘pi’ [-Wimplicit-function-declaration]\n",
      "    8 |     return x * pi();\n",
      "      |                ^~\n",
      "/tmp/tmpacclni26.c: At top level:\n",
      "/tmp/tmpacclni26.c:11:7: error: conflicting types for ‘pi’\n",
      "   11 | float pi() {\n",
      "      |       ^~\n",
      "/tmp/tmpacclni26.c:8:16: note: previous implicit declaration of ‘pi’ was here\n",
      "    8 |     return x * pi();\n",
      "      |                ^~\n",
      "[C kernel] GCC exited with code 1, the executable will not be executed"
     ]
    }
   ],
   "source": [
    "//%cflags: -I .\n",
    "#include \"affichage.h\"\n",
    "\n",
    "// Déclaration de pi() avant son utilisation\n",
    "//float pi();  // Si on décommente le code compile\n",
    "\n",
    "float fois_pi(float x) {\n",
    "    return x * pi();\n",
    "}\n",
    "\n",
    "float pi() {\n",
    "    return 3.1415;\n",
    "}\n",
    "\n",
    "// \"Déclaration-implantation\" de fact, dont le bloc utilise fact (récursion)\n",
    "int fact(int n) {\n",
    "    if (n <= 1) {\n",
    "        return 1;\n",
    "    } else {\n",
    "        return n * fact(n - 1);\n",
    "    }\n",
    "}\n",
    "\n",
    "int main() {\n",
    "    afficher_flottant(fois_pi(2.0));\n",
    "    afficher_entier(fact(5));\n",
    "    return 0;\n",
    "}"
   ]
  },
  {
   "cell_type": "markdown",
   "id": "periodic-comparison",
   "metadata": {},
   "source": [
    "**Attention :** avoir une déclaration de fonction sans implantation conduit à une erreur à l'édition des liens, du type _undefined reference to xxx_. C'est une erreur difficile à traquer, car elle advient _après_ la compilation (le C autorise à appeler des fonctions qui ne sont déclarées nul part) ; soyez donc très vigilants et assurez-vous que toutes vos fonctions sont bien implémentées.\n",
    "\n",
    "\n",
    "### Appel de sous-programme\n",
    "\n",
    "Une fois déclaré/implanté, un sous-programme peut être _appelé_. Pour ce faire, on donne son nom et la liste des arguments correspondant à chaque paramètre du sous-programme :\n",
    "```c\n",
    "<sous-programme>(<argument 1>, <argument 2>);\n",
    "```\n",
    "\n",
    "Un argument doit être une expression valide. On peut donc y mettre des littéraux, des opérations, etc. À noter que si le sous-programme n'a pas de paramètres, on doit quand même mettre les parenthèses (dont l'intérieur est alors vide).\n",
    "\n",
    "Si le sous-programme retourne une valeur, son appel compte comme une expression valide, et peut donc être stocké dans une variable, combiné dans une expression, et même utilisé comme argument d'un autre appel de fonction !"
   ]
  },
  {
   "cell_type": "code",
   "execution_count": null,
   "id": "royal-headset",
   "metadata": {},
   "outputs": [],
   "source": [
    "//%cflags: -I .\n",
    "#include \"affichage.h\"\n",
    "\n",
    "int mon_sous_programme(char a, float b);\n",
    "float pi();\n",
    "void ecrire(int i);\n",
    "void mystere(); \n",
    "\n",
    "int mon_sous_programme(char a, float b) {\n",
    "    int x = (int) a + (int) b;\n",
    "    return x;\n",
    "}\n",
    "\n",
    "float pi() {\n",
    "    return 3.1415;\n",
    "}\n",
    "\n",
    "void ecrire(int i) {\n",
    "    afficher_entier(i);\n",
    "}\n",
    "\n",
    "void mystere() {\n",
    "    puts(\"Des choses mystérieuses se passent\");\n",
    "}\n",
    "\n",
    "int main() {\n",
    "    float x = 3.0;\n",
    "    int y = 27;\n",
    "    \n",
    "    // Appels de sous-programmes\n",
    "    mon_sous_programme('a', x);\n",
    "    ecrire((int) x + y);\n",
    "    \n",
    "    // Appels de sous-programmes sans arguments\n",
    "    pi();\n",
    "    mystere();\n",
    "    \n",
    "    // Appels de sous-programmes comme expressions\n",
    "    int z = mon_sous_programme('z', pi() * x);\n",
    "    ecrire(z);\n",
    "}"
   ]
  },
  {
   "cell_type": "markdown",
   "id": "sweet-august",
   "metadata": {},
   "source": [
    "#### Note : l'instruction `return`\n",
    "\n",
    "L'instruction spéciale `return` interrompt un sous-programme, et _retourne_ la valeur associée (si le sous-programme le permet). Concrètement, lors d'un appel de sous-programme, si l'instruction `return xxx` est atteinte, le sous-programme s'arrête et son appel est comme \"remplacé\" par la valeur de `xxx`.\n",
    "\n",
    "On peut donner un `return` sans valeur (dans un sous-programme qui ne retourne rien), auquel cas aucune valeur n'est transmise mais le sous-programme est interrompu."
   ]
  },
  {
   "cell_type": "code",
   "execution_count": 13,
   "id": "architectural-detector",
   "metadata": {},
   "outputs": [
    {
     "name": "stdout",
     "output_type": "stream",
     "text": [
      "avantcompare_0(37.9) = 1\n",
      "compare_0(-1.7e-4) = -1\n",
      "compare_0((float) 0) = 0\n"
     ]
    }
   ],
   "source": [
    "//%cflags: -I .\n",
    "#include \"affichage.h\"\n",
    "\n",
    "void test() {\n",
    "    afficher(\"avant\");\n",
    "    return;\n",
    "    afficher(\"après\"); // Code jamais atteint\n",
    "}\n",
    "\n",
    "int compare_0(float f) {\n",
    "    if (f > 0.0) {\n",
    "        return 1;\n",
    "    } else if (f < 0.0) {\n",
    "        return -1;\n",
    "    } else {\n",
    "        return 0;\n",
    "    }\n",
    "}\n",
    "\n",
    "int main() {\n",
    "    test();\n",
    "    afficher_entier(compare_0(37.9));\n",
    "    afficher_entier(compare_0(-1.7e-4));\n",
    "    afficher_entier(compare_0((float) 0));\n",
    "}"
   ]
  },
  {
   "cell_type": "markdown",
   "id": "heavy-telling",
   "metadata": {},
   "source": [
    "_Vous aurez peut-être remarqué que le sous-programme `main` (qui est effectivement un sous-programme (presque) comme les autres) ne présente pas d'instruction `return`. Il se trouve que c'est tout à fait admis par la plupart des compilateurs, et correspond implicitement à faire `return 0`._\n",
    "\n",
    "_En pratique cependant, il ne faut **jamais, jamais** faire ça. De manière général, si c'est implicite, c'est une mauvaise idée._\n",
    "\n",
    "_Dans la suite, nous mettrons le `return 0` à la fin du main._"
   ]
  },
  {
   "cell_type": "markdown",
   "id": "flexible-patch",
   "metadata": {},
   "source": [
    "### Programmation par contrats\n",
    "\n",
    "Un sous-programme doit exhiber un contrat, que l'on donne généralement au niveau de la déclaration/spécification (et que l'on rappelle parfois au niveau de l'implantation, même si c'est bien la déclaration que l'utilisateur va consulter).\n",
    "\n",
    "Pour rappel, un contrat se compose :\n",
    " - du nom de la fonction\n",
    " - d'une description de ce que fait la fonction\n",
    " - des paramètres avec leur utilité\n",
    " - de la valeur de retour (le cas échéant)\n",
    " - des pré et post conditions\n",
    " - des cas d'erreur (le cas échéant)\n",
    "\n",
    "On propose le patron suivant :\n",
    "```c\n",
    "  /**\n",
    "   * fact\n",
    "   * Cette fonction calcule la factorielle d'un nombre entier long.\n",
    "   *\n",
    "   * Paramètres :\n",
    "   *  n     entier dont on veut la factorielle\n",
    "   *\n",
    "   * Retour : n!, défini par 0! = 1 et pour tout n > 0, n! = n * (n - 1)!\n",
    "   *\n",
    "   * Pré-conditions : \n",
    "   *   - n >= 0\n",
    "   *   - n! < valeur maximale d'un entier long\n",
    "   *\n",
    "   * Post-conditions :\n",
    "   *   - résultat > 0\n",
    "   *   - si n > 1 alors résultat > 1\n",
    "   *\n",
    "   * Cas d'erreur : aucun\n",
    "   */\n",
    "```"
   ]
  },
  {
   "cell_type": "markdown",
   "id": "recognized-testing",
   "metadata": {},
   "source": [
    "#### Petit exercice : somme des entiers de 1 à $n$\n",
    "\n",
    "Spécifier (dans un contrat) puis écrire le sous-programme qui, pour un entier $n$ retourne la somme des entiers de 1 à $n$ (dont l'algorithme a été implanté dans le classeur précédent)."
   ]
  },
  {
   "cell_type": "code",
   "execution_count": 1,
   "id": "owned-isolation",
   "metadata": {},
   "outputs": [
    {
     "name": "stdout",
     "output_type": "stream",
     "text": [
      "somme(5) = 1377634112\n",
      "somme(10) = 10\n",
      "somme(21) = 10\n",
      "somme(140) = 10\n"
     ]
    }
   ],
   "source": [
    "//%cflags: -I .\n",
    "#include \"affichage.h\"\n",
    "\n",
    "/** CONTRAT À ÉCRIRE **/\n",
    "int somme(int n) {\n",
    "    /** À COMPLÉTER **/\n",
    "}\n",
    "\n",
    "\n",
    "int main() {\n",
    "    afficher_entier(somme(5));\n",
    "    afficher_entier(somme(10));\n",
    "    afficher_entier(somme(21));\n",
    "    afficher_entier(somme(140));\n",
    "    \n",
    "    return 0;\n",
    "}"
   ]
  },
  {
   "cell_type": "markdown",
   "id": "fuzzy-anatomy",
   "metadata": {},
   "source": [
    "## Les pointeurs\n",
    "\n",
    "Matériellement, une variable prend la forme d'un ensemble contigu d'emplacements mémoire, associés à des _adresses_. On peut accéder à l'adresse d'une variable `x` (ou plutôt du premier emplacement qu'elle occupe) à l'aide de l'opérateur unaire spéciale `&x`, appelé \"référencement\". Le résultat de cette opération est appelée _pointeur sur la variable `x`_.\n",
    "\n",
    "Cette adresse peut être manipulée comme n'importe quelle autre expression du langage (on dit qu'un pointeur est un _citoyen de première classe_), et en particulier être stockée dans une autre variable, passée en paramètre d'une fonction, etc. Si la variable `x` est de type `<type>`, alors un pointeur sur `x` est de type `<type>*` (notez l'étoile).\n",
    "\n",
    "Lorsqu'on a une adresse/un pointeur `p`, on peut accéder à l'emplacement mémoire associé à cette adresse en utilisant l'opérateur unaire spéciale `*p`, appelé \"déréférencement\". À noter que `*p` se comporte comme une variable. Notamment, on peut s'en servir dans une expression, et on peut s'en servir **à gauche d'une affectation** (auquel cas, ce qui est affecté est bien l'emplacement pointé par `p` !).\n",
    "\n",
    "De manière duale au référencement, si le type du pointeur `p` est `<type>*` alors le type de la valeur pointée est `<type>` (et on remarque que l'on ne peut pas déréférencer une variable qui n'est pas un pointeur)."
   ]
  },
  {
   "cell_type": "code",
   "execution_count": 10,
   "id": "honest-hartford",
   "metadata": {},
   "outputs": [
    {
     "name": "stdout",
     "output_type": "stream",
     "text": [
      "a2 = 777\n",
      "*p_b = $\n",
      "(*p_c) * 100 = 1.000000\n",
      "*p_b = +\n",
      "b = +\n",
      "***p_p_p_a = 777\n"
     ]
    }
   ],
   "source": [
    "//%cflags: -I .\n",
    "#include \"affichage.h\"\n",
    "\n",
    "int main() {\n",
    "    int a = 777;\n",
    "    char b = '$';\n",
    "    float c = 0.01;\n",
    "    \n",
    "    // Référencement\n",
    "    int* p_a = &a;\n",
    "    char* p_b = &b;\n",
    "    float* p_c = &c;\n",
    "    \n",
    "    // Déréférencement\n",
    "    int a2 = *p_a;\n",
    "    afficher_entier(a2);\n",
    "    \n",
    "    afficher_carac(*p_b); // p_b est une variable comme les autres, on peut l'utiliser dans des expressions !\n",
    "    \n",
    "    afficher_flottant((*p_c) * 100);\n",
    "    \n",
    "    // Affectation d'emplacement déréférencé\n",
    "    *p_b = '+'; // Légal\n",
    "    afficher_carac(*p_b);\n",
    "    afficher_carac(b); // p_b pointe sur b == l'emplacement *p_b et b sont les mêmes \n",
    "                       // (si on modifie l'un ça modifie l'autre)\n",
    "    \n",
    "    // Référencement imbriqués\n",
    "    int** p_p_a = &p_a; // p_a étant une variable, on peut pointer dessus...\n",
    "    int*** p_p_p_a = &p_p_a; // ...et ainsi de suite (notez le type qui gagne des étoiles à chaque fois)\n",
    "    \n",
    "    afficher_entier(***p_p_p_a); // On peut tout déréférencer d'un coup\n",
    "    // (en fait * est associatif, ceci est équivalent à *(*(*p_p_p_a)))\n",
    "    \n",
    "    // Déréférencement interdit\n",
    "    // afficher_entier(*a); // ERREUR: type incompatible !\n",
    "    \n",
    "    return 0;\n",
    "}"
   ]
  },
  {
   "cell_type": "markdown",
   "id": "revolutionary-feeding",
   "metadata": {},
   "source": [
    "L'intérêt des pointeurs est que l'on a accès à _l'emplacement_ de la variable, et pas seulement à la variable. Cela signifie qu'une mise à jour du contenu de l'emplacement sera \"répercutée\" entre tous les pointeurs. En quelques sortes, c'est comme si on avait \"partagé\" l'accès à une variable, en lecture et en écriture !"
   ]
  },
  {
   "cell_type": "code",
   "execution_count": 13,
   "id": "romance-signal",
   "metadata": {
    "scrolled": true
   },
   "outputs": [
    {
     "name": "stdout",
     "output_type": "stream",
     "text": [
      "a = 5\n",
      "*p_a1 = 5\n",
      "*p_a2 = 5\n",
      "a = 6\n",
      "*p_a1 = 6\n",
      "*p_a2 = 6\n",
      "a = 10\n",
      "*p_a1 = 10\n",
      "*p_a2 = 10\n"
     ]
    }
   ],
   "source": [
    "//%cflags: -I .\n",
    "#include \"affichage.h\"\n",
    "\n",
    "int main() {\n",
    "    int a = 5;\n",
    "    int* p_a1 = &a; // Un premier pointeur sur a\n",
    "    int* p_a2 = &a; // Un second pointeur sur a\n",
    "    \n",
    "    afficher_entier(a);\n",
    "    afficher_entier(*p_a1);\n",
    "    afficher_entier(*p_a2);\n",
    "    \n",
    "    // On modifie la variable directement\n",
    "    a = 6;\n",
    "    afficher_entier(a);\n",
    "    afficher_entier(*p_a1);\n",
    "    afficher_entier(*p_a2);\n",
    "    \n",
    "    // On modifie la variable en utilisant le pointeur\n",
    "    *p_a1 = 10;\n",
    "    afficher_entier(a);\n",
    "    afficher_entier(*p_a1);\n",
    "    afficher_entier(*p_a2);\n",
    "    \n",
    "    return 0;\n",
    "}"
   ]
  },
  {
   "cell_type": "markdown",
   "id": "everyday-address",
   "metadata": {},
   "source": [
    "Il existe une valeur spéciale pour les pointeurs, qui correspond à dire \"ne pointe sur rien\". Cette valeur est `NULL`. C'est à cette valeur qu'on initialise un pointeur qui n'est pas encore utilisé, et c'est aussi souvent le pointeur qu'on retourne lorsqu'une fonction s'est mal passée.\n",
    "\n",
    "En interne, NULL est une constante qui vaut 0. En fait, peu importe l'OS, peu importe le processeur, la mémoire ou autre, l'adresse 0 **n'est jamais une adresse valide**. C'est pour cela qu'on s'autorise à l'utiliser pour indiquer un pointeur qui ne pointe sur rien."
   ]
  },
  {
   "cell_type": "markdown",
   "id": "fitted-montreal",
   "metadata": {},
   "source": [
    "### Pointeurs comme paramètres\n",
    "\n",
    "Un intérêt majeur des pointeurs vient du fait que, en C, contrairement à ADA, **il n'y a pas de direction pour les paramètres** (in/out). Formellement, quand on appelle une fonction, la _valeur_ de chaque argument est _copiée_ puis donnée au bloc de code correspondant. Autrement dit, tous les paramètres sont en _in_ : toute modification apportée à un paramètre **n'est pas répercutée en dehors de la fonction**."
   ]
  },
  {
   "cell_type": "code",
   "execution_count": 6,
   "id": "fatty-senior",
   "metadata": {},
   "outputs": [
    {
     "name": "stdout",
     "output_type": "stream",
     "text": [
      "x = 21\n",
      "a = 22\n",
      "x = 21\n",
      "a = 6\n",
      "5 = 5\n"
     ]
    }
   ],
   "source": [
    "//%cflags: -I .\n",
    "#include \"affichage.h\"\n",
    "\n",
    "void ma_fonction(int a) {\n",
    "    a = a + 1; // Je modifie a\n",
    "    afficher_entier(a);\n",
    "}\n",
    "\n",
    "int main() {\n",
    "    int x = 21;\n",
    "    afficher_entier(x);\n",
    "    \n",
    "    ma_fonction(x);\n",
    "    afficher_entier(x); // x n'a pas changé, même si on fait +1 dans la fonction\n",
    "    \n",
    "    // Heureusement que c'est le cas, sinon quel est le sens de cette instruction ?\n",
    "    ma_fonction(5);\n",
    "    afficher_entier(5);\n",
    "    \n",
    "    return 0;\n",
    "}"
   ]
  },
  {
   "cell_type": "markdown",
   "id": "technological-athletics",
   "metadata": {},
   "source": [
    "Mais si on utilise un _pointeur_ comme paramètre, certes on ne peut pas changer le pointeur lui-même, mais on a accès à l'emplacement sur lequel il pointe, et on peut mettre à jour le contenu de cet emplacement !"
   ]
  },
  {
   "cell_type": "code",
   "execution_count": 16,
   "id": "detected-stable",
   "metadata": {
    "scrolled": true
   },
   "outputs": [
    {
     "name": "stdout",
     "output_type": "stream",
     "text": [
      "x = 21\n",
      "*p_a = 22\n",
      "x = 22\n"
     ]
    }
   ],
   "source": [
    "//%cflags: -I .\n",
    "#include \"affichage.h\"\n",
    "\n",
    "void ma_fonction(int* p_a) { // Pointeur\n",
    "    *p_a = *p_a + 1; // Je modifie **le contenu de l'emplacement pointé** (en utilisant ce même contenu)\n",
    "    afficher_entier(*p_a);\n",
    "}\n",
    "\n",
    "int main() {\n",
    "    int x = 21;\n",
    "    afficher_entier(x);\n",
    "    \n",
    "    ma_fonction(&x); // Je passe la référence\n",
    "    afficher_entier(x); // x a changé !!\n",
    "    \n",
    "    // ma_fonction attend un pointeur, l'instruction suivante cause une erreur de type\n",
    "    // ma_fonction(x);\n",
    "    \n",
    "    // Cette instruction n'est plus possible\n",
    "    // ma_fonction(5);\n",
    "    // ma_fonction(&5); // Ça non plus ça ne marche pas : & ne peut être utilisé que sur une variable\n",
    "    \n",
    "    return 0;\n",
    "}"
   ]
  },
  {
   "cell_type": "markdown",
   "id": "varied-absence",
   "metadata": {},
   "source": [
    "Pour résumer : si on veut modifier un paramètre de façon à ce que la mise à jour soit répercutée en dehors de la fonction (ce qui est analogue à un paramètre en mode _in-out_), on doit utiliser des pointeurs.\n",
    "\n",
    "Lorsqu'un paramètre est donné sous forme de pointeur, on parle de _passage par référence_. Sinon, on parle de _passage par valeur_."
   ]
  },
  {
   "cell_type": "markdown",
   "id": "pregnant-surge",
   "metadata": {},
   "source": [
    "#### Petit exercice : la division euclidienne\n",
    "\n",
    "Spécifier et écrire le sous programme qui, pour deux entiers $a$ et $b$, calcule le quotient et le reste de la division euclidienne de $a$ par $b$ (dont l'algorithme a été écrit dans le classeur précédent).\n",
    "\n",
    "Le quotient sera communiqué à l'appelant par _la valeur de retour_ du sous-programme, tandis que le reste sera communiqué _à l'aide d'un pointeur_. Si le pointeur en paramètre est `NULL`, alors on ne l'affecte pas (on considèrera que l'appelant n'a pas besoin du reste)."
   ]
  },
  {
   "cell_type": "code",
   "execution_count": 2,
   "id": "emerging-purchase",
   "metadata": {},
   "outputs": [
    {
     "name": "stderr",
     "output_type": "stream",
     "text": [
      "/tmp/tmpn0jdg_p9.c:5:26: warning: return type defaults to ‘int’ [-Wimplicit-int]\n",
      "    5 | /* TYPE À COMPLÉTER */ division(/** ARGUMENTS À COMPLÉTER */) {\n",
      "      |                        ^~~~~~~~\n"
     ]
    },
    {
     "name": "stdout",
     "output_type": "stream",
     "text": [
      "q = 0\n",
      "r = 0\n",
      "q = 0\n"
     ]
    }
   ],
   "source": [
    "//%cflags: -I .\n",
    "#include \"affichage.h\"\n",
    "\n",
    "/** CONTRAT À COMPLÉTER **/\n",
    "/* TYPE À COMPLÉTER */ division(/** ARGUMENTS À COMPLÉTER */) {\n",
    "    /** À COMPLÉTER **/\n",
    "}\n",
    "\n",
    "int main() {\n",
    "    int q, r;\n",
    "    \n",
    "    q = division(1287, 17, &r); // Je récupère le reste\n",
    "    afficher_entier(q);\n",
    "    afficher_entier(r);\n",
    "    \n",
    "    q = division(97813, 3, NULL); // Je m'en fiche du reste\n",
    "    afficher_entier(q);\n",
    "    \n",
    "    return 0;\n",
    "}"
   ]
  },
  {
   "cell_type": "markdown",
   "id": "fundamental-hands",
   "metadata": {},
   "source": [
    "## Les tableaux\n",
    "\n",
    "Un tableau est une succession contiguë d'emplacements mémoire qui permet de stocker plusieurs éléments d'un même type. En C, les tableaux ne sont pas vraiment des \"types\" à proprement parler (en fait, il s'agit de pointeurs, le pointeur sur la première case du tableau). Néanmoins, le langage présente quelques syntaxes spécifiques pour les manipuler.\n",
    "\n",
    "On peut déclarer un tableau d'éléments de type `<type>` et de taille `<taille>` avec l'instruction suivante :\n",
    "```\n",
    "    <type> mon_tableau[<taille>];\n",
    "```\n",
    "\n",
    "À noter que la taille d'un tableau défini ainsi **est nécessairement constante** (nous verrons au deuxième semestre comment faire des tableaux de taille dynamique).\n",
    "\n",
    "On peut initialiser un tableau (= donner des valeurs pour chaque emplacement) avec une liste de valeurs entre accolades, mais seulement au moment de la déclaration (on ne peut pas utiliser ça dans des affectations seules) :\n",
    "```\n",
    "    <type> mon_tableau[<taille>] = { <valeur 1>, <valeur 2>, ... };\n",
    "```\n",
    "\n",
    "Il est possible de donner moins de valeurs que la taille donnée, auquel cas les premières cases sont initialisées avec les valeurs, et les autres ne sont juste pas initialisées (impossible de donner plus de valeurs qu'attendues, par contre).\n",
    "\n",
    "Si on donne une initialisation au tableau, on peut omettre la taille, auquel cas la taille du tableau correspond au nombre de valeurs utilisées dans l'initialisation.\n",
    "\n",
    "On peut accéder aux emplacements du tableau avec le nom de la variable et l'indice de l'emplacement entre crochets (attention les indices commencent à 0). Il s'agit bien _d'emplacement_, que l'on peut donc utiliser dans des expressions ou à gauche d'affectations."
   ]
  },
  {
   "cell_type": "code",
   "execution_count": 7,
   "id": "green-master",
   "metadata": {},
   "outputs": [
    {
     "name": "stdout",
     "output_type": "stream",
     "text": [
      "tableau_car[1] = b\n",
      "tableau_car[1] = z\n",
      "tableau_entiers[3] + tableau_entiers[6] = 18\n",
      "tableau_f[0] + tableau_f[1] = 4.000000\n"
     ]
    }
   ],
   "source": [
    "//%cflags: -I .\n",
    "#include \"affichage.h\"\n",
    "\n",
    "int main() {\n",
    "    char tableau_car[3] = { 'a', 'b', 'c' }; // Tableau de 3 caractères initialisé\n",
    "    afficher_carac(tableau_car[1]);\n",
    "    tableau_car[1] = 'z'; // L'emplacement marche comme une variable en lecture et en écriture\n",
    "    afficher_carac(tableau_car[1]);\n",
    "    \n",
    "    int tableau_entiers[10]; // Tableau d'entiers de taille 10 (non-initialisé)\n",
    "    for (int i = 0; i < 10; i++) {\n",
    "        tableau_entiers[i] = i * 2; // On peut utiliser une expression comme indice !\n",
    "    }\n",
    "    afficher_entier(tableau_entiers[3] + tableau_entiers[6]);\n",
    "    \n",
    "    float tableau_f[] = { 1.5, 2.5 }; // Tableau de deux flottants\n",
    "    afficher_flottant(tableau_f[0] + tableau_f[1]);\n",
    "    \n",
    "    return 0;\n",
    "}"
   ]
  },
  {
   "cell_type": "markdown",
   "id": "fossil-giving",
   "metadata": {},
   "source": [
    "Attention, la validité d'un indice n'est pas vérifiée (ni à la compilation ni à l'exécution). Accéder à une case du tableau en dehors de l'intervalle défini est donc _dangereux_ (ça _pourrait_ planter, ou pas ; à voir laquelle de ces deux situations est pire)."
   ]
  },
  {
   "cell_type": "markdown",
   "id": "august-butterfly",
   "metadata": {},
   "source": [
    "### Tableaux comme paramètres\n",
    "\n",
    "Le C permet de passer des tableaux en paramètre de fonctions. On renseigne le type tableau du paramètre comme si on déclarait un tableau (`<type> xxx[]`). À noter qu'on ne donne pas de taille, car le compilateur ne fait aucune vérification sur la compatibilité des tableaux passés en paramètre (contrairement à Ada).\n",
    "\n",
    "Avoir un tableau en paramètre est absolument équivalent à avoir un pointeur en paramètre (qui pointe sur une succession d'emplacements). En particulier, **les tableaux en paramètre sont in-out par défaut**."
   ]
  },
  {
   "cell_type": "code",
   "execution_count": 38,
   "id": "unlimited-brazil",
   "metadata": {
    "scrolled": true
   },
   "outputs": [
    {
     "name": "stdout",
     "output_type": "stream",
     "text": [
      "tab[2] = 8\n",
      "tab[2] = 688\n"
     ]
    }
   ],
   "source": [
    "//%cflags: -I .\n",
    "#include \"affichage.h\"\n",
    "\n",
    "void somme(int a[]) {\n",
    "    a[2] = a[0] + a[1];\n",
    "}\n",
    "\n",
    "void somme2(int* a) { // Totalement équivalent\n",
    "    a[2] = a[0] + a[1];\n",
    "}\n",
    "\n",
    "int main() {\n",
    "    int tab[3] = { 3, 5, 0 };\n",
    "    somme(tab);\n",
    "    afficher_entier(tab[2]);\n",
    "    \n",
    "    tab[0] = 27;\n",
    "    tab[1] = 661;\n",
    "    somme2(tab);\n",
    "    afficher_entier(tab[2]);\n",
    "    \n",
    "    return 0;\n",
    "}"
   ]
  },
  {
   "cell_type": "markdown",
   "id": "embedded-disorder",
   "metadata": {},
   "source": [
    "On peut empêcher la direction _out_ des tableaux (et même des pointeurs, en fait) en utilisant le mot-clef `const`. Cela demande au compilateur de vérifier que les emplacements marqués n'apparaissent jamais à gauche d'une affectation."
   ]
  },
  {
   "cell_type": "code",
   "execution_count": 41,
   "id": "instructional-memory",
   "metadata": {
    "scrolled": true
   },
   "outputs": [
    {
     "name": "stdout",
     "output_type": "stream",
     "text": [
      "tab[2] = 7\n",
      "r = 15\n",
      "tab[2] = 7\n",
      "r = 695\n"
     ]
    }
   ],
   "source": [
    "//%cflags: -I .\n",
    "#include \"affichage.h\"\n",
    "\n",
    "int somme(const int a[]) {\n",
    "    //a[2] += a[0] + a[1]; // Illégal ! a apparaît à gauche d'une affectation !\n",
    "    return a[0] + a[1] + a[2];\n",
    "}\n",
    "\n",
    "int somme2(const int* a) {\n",
    "    //a[2] += a[0] + a[1]; // Illégal ! a apparaît à gauche d'une affectation !\n",
    "    return a[0] + a[1] + a[2];\n",
    "}\n",
    "\n",
    "int main() {\n",
    "    int tab[3] = { 3, 5, 7 };\n",
    "    int r = somme(tab);\n",
    "    afficher_entier(tab[2]);\n",
    "    afficher_entier(r);\n",
    "    \n",
    "    tab[0] = 27;\n",
    "    tab[1] = 661;\n",
    "    r = somme2(tab);\n",
    "    afficher_entier(tab[2]);\n",
    "    afficher_entier(r);\n",
    "    \n",
    "    return 0;\n",
    "}"
   ]
  },
  {
   "cell_type": "markdown",
   "id": "endangered-indie",
   "metadata": {},
   "source": [
    "À noter qu'en C la taille d'un tableau n'est pas stockée par défaut. Soit on connaît la taille à la compilation (parce qu'on a déclaré le tableau nous-même), soit on est obligé de manipuler la taille en plus (en variable ou en paramètre)."
   ]
  },
  {
   "cell_type": "code",
   "execution_count": 3,
   "id": "residential-tender",
   "metadata": {},
   "outputs": [
    {
     "name": "stdout",
     "output_type": "stream",
     "text": [
      "tab[taille - i - 1] = 2\n",
      "tab[taille - i - 1] = 11\n",
      "tab[taille - i - 1] = 7\n",
      "tab[taille - i - 1] = 3\n",
      "tab[taille - i - 1] = 1\n",
      "\n",
      "tab[taille - i - 1] = 7\n",
      "tab[taille - i - 1] = 3\n",
      "tab[taille - i - 1] = 1\n",
      "\n",
      "tab[taille - i - 1] = 32764\n",
      "tab[taille - i - 1] = -430839120\n",
      "tab[taille - i - 1] = 0\n",
      "tab[taille - i - 1] = 0\n",
      "tab[taille - i - 1] = 0\n",
      "tab[taille - i - 1] = 2\n",
      "tab[taille - i - 1] = 11\n",
      "tab[taille - i - 1] = 7\n",
      "tab[taille - i - 1] = 3\n",
      "tab[taille - i - 1] = 1\n",
      "\n"
     ]
    }
   ],
   "source": [
    "//%cflags: -I .\n",
    "#include \"affichage.h\"\n",
    "\n",
    "/**\n",
    " * afficher_tab\n",
    " * Affiche le tableau d'entiers de taille donnée.\n",
    " * \n",
    " * Paramètres :\n",
    " *   tab      tableau à afficher\n",
    " *   taille   taille du tableau\n",
    " *\n",
    " * Pré-conditions :\n",
    " *   - tab != NULL\n",
    " *   - tab contient au moins taille cases\n",
    " */\n",
    "void afficher_tab(int* tab, int taille) {\n",
    "    for (int i = 0; i < taille; i++) { // Je croise les doigts que l'utilisateur ne m'aie pas menti\n",
    "        afficher_entier(tab[taille - i - 1]);\n",
    "    }\n",
    "    nouvelle_ligne();\n",
    "}\n",
    "\n",
    "int main() {\n",
    "    int mon_tab[5] = { 1, 3, 7, 11, 2 };\n",
    "    \n",
    "    afficher_tab(mon_tab, 5); // Honnête\n",
    "    afficher_tab(mon_tab, 3); // Malhonnête mais ça respecte la pré-condition\n",
    "    afficher_tab(mon_tab, 10); // Potentiellement dangereux\n",
    "    \n",
    "    return 0;\n",
    "}"
   ]
  },
  {
   "cell_type": "markdown",
   "id": "applicable-yesterday",
   "metadata": {},
   "source": [
    "### Les chaînes de caractères\n",
    "\n",
    "En C, les chaînes de caractère sont en fait des _tableaux de caractères_. Comme le C ne stock pas la longueur des tableaux, les chaînes de caractère contiennent toujours une case en plus qui contient un 0 (`'\\0'`) et qui délimite sa fin. Le _contrat_ des fonctions manipulant des chaînes de caractères suppose toujours que la chaîne se trouve entre son début et le caractère 0 (il ne faut donc surtout pas le retirer où on risque de parcourir un tableau plus loin que sa taille). Cela signifie également que tout ce qui se trouve après le premier 0 est systématiquement ignoré.\n",
    "\n",
    "Comparé aux autres tableaux, les chaînes de caractères bénéficient de sucre syntaxique pour l'initialisation : on peut écrire `\"hello\"` directement au lieu d'écrire `{ 'h', 'e', 'l', 'l', 'o', '\\0' }` (ce qui serait la façon \"correcte\" de faire)."
   ]
  },
  {
   "cell_type": "code",
   "execution_count": 5,
   "id": "reserved-waste",
   "metadata": {
    "scrolled": false
   },
   "outputs": [
    {
     "name": "stdout",
     "output_type": "stream",
     "text": [
      "test = ma super chaîne de caractères\n",
      "test2 = chaîne pas trop longue\n",
      "test3 = cette chaine s'arrête ici\n",
      "test4 = c'est long !\n"
     ]
    }
   ],
   "source": [
    "//%cflags: -I .\n",
    "#include \"affichage.h\"\n",
    "\n",
    "int main() {\n",
    "    char test[] = \"ma super chaîne de caractères\"; // Longueur et caractère de terminaison implicite\n",
    "    afficher_chaine(test);\n",
    "    \n",
    "    char test2[100] = \"chaîne pas trop longue\"; // Chaîne plus courte que taille déclarée (légal)\n",
    "    afficher_chaine(test2);                     // (à noter que la taille du tableau est bien 100)\n",
    "    \n",
    "    char test3[] = \"cette chaine s'arrête ici\\0et tout le reste est ignoré\";\n",
    "    afficher_chaine(test3);\n",
    "    \n",
    "    char test4[] = { 'c', '\\'', 'e', 's', 't', ' ', 'l', 'o', 'n', 'g', ' ', '!', '\\0' };\n",
    "    afficher_chaine(test4);\n",
    "\n",
    "    return 0;\n",
    "}"
   ]
  },
  {
   "cell_type": "markdown",
   "id": "supported-blanket",
   "metadata": {},
   "source": [
    "## Exercices\n",
    "\n",
    "Mettons en application ce que l'on a vu dans ce classeur.\n",
    "\n",
    "<br>\n",
    "\n",
    "**Note :** dans la suite, nous utilisons un petit module de tests unitaires développé en interne (`libt`). Ce module ajoute des instructions spéciales :\n",
    " - `INITIALIZE_TESTS();` instruction à exécuter avant tout autre du module (au début du `main` en général)\n",
    " - `BEGIN_SECTION(\"ma-section\") ... END_SECTION()` délimite une _section_ (= une collection de tests) nommée \"ma-section\" (compte comme un bloc)\n",
    " - `BEGIN_TESTI(\"mon-test\") ... END_TEST` délimite un test unitaire (= un bout de code avec un oracle) nommé \"mon-test\" (compte comme un bloc)\n",
    " - `REPORT_TO_STDOUT` affiche le rapport des tests sur la sortie standard (sinon le moteur n'affiche rien !)\n",
    "\n",
    "Les oracles (= ce qui détermine si un test est validé ou non) sont les suivant :\n",
    " - `FAIL(msg)` échoue ave les message donné\n",
    " - `ASSERT(cond)` échoue si et seulement si la condition `cond` s'évalue à faux\n",
    " - `ASSERT_EQ(a, b)` échoue si et seulement si `a` et `b` sont _différents_\n",
    " - `ASSERT_EQ_F(a, b, eps)` échoue si et seulement si les _flottants_ `a` et `b` sont distant de plus de `eps`\n",
    " - `ASSERT_EQ_S(a, b)` échoue si et seulement si les _chaînes de caractère_ `a` et `b` sont différentes\n",
    "\n",
    "Il y a d'autres fonctionnalités, mais tout ceci est suffisant pour le moment !"
   ]
  },
  {
   "cell_type": "code",
   "execution_count": 1,
   "id": "certain-spoke",
   "metadata": {},
   "outputs": [
    {
     "name": "stdout",
     "output_type": "stream",
     "text": [
      "[Section ma-section_1 - RESULTS]\n",
      "( 3/ 3) test-3 FAILURE (/tmp/tmpv0ri3szs.c:25)\n",
      "\ttest incomplet\n",
      "TOTAL: #tests: 3, #signaled: 0, #timedout: 0, #failures: 1 (success ratio: 66.67%)\n",
      "\n"
     ]
    }
   ],
   "source": [
    "//%cflags: -I .\n",
    "//%ldflags: -L. -lt\n",
    "#include \"affichage.h\"\n",
    "#include \"tests.h\"\n",
    "\n",
    "int main() {\n",
    "INITIALIZE_TESTS();\n",
    "    \n",
    "BEGIN_SECTION(\"ma-section_1\")\n",
    "    int r = 1; // r locale à la section\n",
    "    \n",
    "    BEGIN_TESTI(\"test-1\")\n",
    "    int x = r * 2 + 1; // x locale au test\n",
    "    ASSERT_EQ(x, 3);\n",
    "    END_TEST\n",
    "    \n",
    "    BEGIN_TESTI(\"test-2\")\n",
    "    int x = r + r + 1;\n",
    "    int y = x * x;\n",
    "    ASSERT(x == 3); // On peut faire autant d'ASSERT qu'on veut\n",
    "    ASSERT(y == 9);\n",
    "    END_TEST\n",
    "    \n",
    "    BEGIN_TESTI(\"test-3\")\n",
    "    FAIL(\"test incomplet\")\n",
    "    END_TEST\n",
    "    \n",
    "    REPORT_TO_STDOUT\n",
    "\n",
    "END_SECTION()\n",
    "    \n",
    "    return 0;\n",
    "}"
   ]
  },
  {
   "cell_type": "markdown",
   "id": "massive-ocean",
   "metadata": {},
   "source": [
    "### 1. Le PGCD, le retour\n",
    "\n",
    "Compléter le code suivant en y intégrant un sous-programme qui calcule le PGCD. Vous devez déterminer vous-même la signature du sous-programme, l'implantation du sous-programme sera l'algorithme que vous avez écrit au classeur 1, exercice 2. Attention à bien respecter le contrat donné."
   ]
  },
  {
   "cell_type": "code",
   "execution_count": 28,
   "id": "black-conflict",
   "metadata": {},
   "outputs": [
    {
     "name": "stderr",
     "output_type": "stream",
     "text": [
      "/tmp/tmpl9vmu9z6.c: In function ‘main’:\n",
      "/tmp/tmpl9vmu9z6.c:30:13: warning: implicit declaration of function ‘pgcd’ [-Wimplicit-function-declaration]\n",
      "   30 |     int r = pgcd(24, 16);\n",
      "      |             ^~~~\n",
      "/tmp/tmpqd8zi5hy.out: symbol lookup error: /tmp/tmpl_0uir88.out: undefined symbol: pgcd\n",
      "[C kernel] Executable exited with code 127"
     ]
    }
   ],
   "source": [
    "//%cflags: -I .\n",
    "//%ldflags: -L. -lt\n",
    "#include \"affichage.h\"\n",
    "#include \"tests.h\"\n",
    "\n",
    "/**\n",
    " * pgcd\n",
    " * Calcule le PGCD de deux entiers relatifs.\n",
    " *\n",
    " * Paramètres :\n",
    " *   a    premier entier\n",
    " *   b    second entier\n",
    " *\n",
    " * Retour :\n",
    " *   d nombre entier positif tel que d est le plus grand nombre qui divise a et b\n",
    " *\n",
    " * Pré-conditions :\n",
    " *   - a et b non simultanément nuls\n",
    " *   - a et b peuvent être négatifs\n",
    " *\n",
    " * Erreurs : aucune\n",
    " */\n",
    "/** TODO **/\n",
    "\n",
    "int main() {\n",
    "    INITIALIZE_TESTS();\n",
    "\n",
    "    BEGIN_SECTION(\"pgcd\");\n",
    "        BEGIN_TESTI(\"pgcd-nominal-1\");\n",
    "        int r = pgcd(24, 16);\n",
    "        ASSERT_EQ(r, 8);\n",
    "        END_TEST;\n",
    "\n",
    "        BEGIN_TESTI(\"pgcd-nominal-2\");\n",
    "        int r = pgcd(22022, 770);\n",
    "        ASSERT_EQ(r, 154);\n",
    "        END_TEST;\n",
    "\n",
    "        BEGIN_TESTI(\"pgcd-neg-1\");\n",
    "        int r = pgcd(-15457, 4459);\n",
    "        ASSERT_EQ(r, 13);\n",
    "        END_TEST;\n",
    "\n",
    "        BEGIN_TESTI(\"pgcd-neg-2\");\n",
    "        int r = pgcd(45167, -31093);\n",
    "        ASSERT_EQ(r, 31);\n",
    "        END_TEST;\n",
    "\n",
    "        BEGIN_TESTI(\"pgcd-neg-3\");\n",
    "        int r = pgcd(-124579, -104377);\n",
    "        ASSERT_EQ(r, 3367);\n",
    "        END_TEST;\n",
    "\n",
    "        BEGIN_TESTI(\"pgcd-0-1\");\n",
    "        int r = pgcd(771, 0);\n",
    "        ASSERT_EQ(r, 771);\n",
    "        END_TEST;\n",
    "\n",
    "        BEGIN_TESTI(\"pgcd-0-2\");\n",
    "        int r = pgcd(0, -131);\n",
    "        ASSERT_EQ(r, 131);\n",
    "        END_TEST;\n",
    "\n",
    "        REPORT_TO_STDOUT;\n",
    "    END_SECTION()\n",
    "\n",
    "    return 0;\n",
    "}"
   ]
  },
  {
   "cell_type": "markdown",
   "id": "contained-winter",
   "metadata": {},
   "source": [
    "### 2. Moyenne d'un tableau\n",
    "\n",
    "Implanter une fonction qui réalise la moyenne des nombre réels donnés sous forme de tableau."
   ]
  },
  {
   "cell_type": "code",
   "execution_count": 6,
   "id": "forty-medium",
   "metadata": {},
   "outputs": [
    {
     "name": "stderr",
     "output_type": "stream",
     "text": [
      "/tmp/tmpef0hkroe.c: In function ‘main’:\n",
      "/tmp/tmpef0hkroe.c:30:21: warning: implicit declaration of function ‘moyenne’ [-Wimplicit-function-declaration]\n",
      "   30 |          double r = moyenne(tab, 3);\n",
      "      |                     ^~~~~~~\n",
      "/tmp/tmptkey6gf0.out: symbol lookup error: /tmp/tmpu0v5ocev.out: undefined symbol: moyenne\n",
      "[C kernel] Executable exited with code 127"
     ]
    }
   ],
   "source": [
    "//%cflags: -I .\n",
    "//%ldflags: -L. -lt\n",
    "#include \"affichage.h\"\n",
    "#include \"tests.h\"\n",
    "\n",
    "/**\n",
    " * moyenne\n",
    " * Calcule la moyenne des nombres réels donnés en paramètre, sous forme de tableau.\n",
    " *\n",
    " * Paramètres :\n",
    " *   tab     tableau de réels à moyenner\n",
    " *   taille  taille du tableau\n",
    " * \n",
    " * Retour :\n",
    " *   m = moyenne des taille éléments du tableau\n",
    " *\n",
    " * Pré-conditions :\n",
    " *   - taille > 0\n",
    " *   - taille effective du tableau >= taille\n",
    " *   - tab non null\n",
    " */\n",
    " /** TODO **/\n",
    " \n",
    " int main() {\n",
    "     INITIALIZE_TESTS();\n",
    "     \n",
    "     BEGIN_SECTION(\"moyenne\");\n",
    "         BEGIN_TESTI(\"moyenne-nominal-1\");\n",
    "         double tab[] = { 1.0, 2.0, 3.0 };\n",
    "         double r = moyenne(tab, 3);\n",
    "         ASSERT_EQ_F(r, 2.0, 1e-6);\n",
    "         END_TEST;\n",
    "         \n",
    "         BEGIN_TESTI(\"moyenne-nominal-2\");\n",
    "         double tab[] = { -2.0, 3.0, -5.0, 6.0 };\n",
    "         double r = moyenne(tab, 4);\n",
    "         ASSERT_EQ_F(r, 0.5, 1e-6);\n",
    "         END_TEST;\n",
    "         \n",
    "         BEGIN_TESTI(\"moyenne-moins-long\");\n",
    "         double tab[] = { 0.1, 0.2, 0.3, 0.4 };\n",
    "         double r = moyenne(tab, 3);\n",
    "         ASSERT_EQ_F(r, 0.2, 1e-6);\n",
    "         END_TEST;\n",
    "         \n",
    "         BEGIN_TESTI(\"moyenne-1\");\n",
    "         double tab[] = { 5.0 };\n",
    "         double r = moyenne(tab, 1);\n",
    "         ASSERT_EQ_F(r, 5.0, 1e-6);\n",
    "         END_TEST;\n",
    "         \n",
    "         REPORT_TO_STDOUT;\n",
    "     END_SECTION();\n",
    "     \n",
    "     return 0;\n",
    " }"
   ]
  },
  {
   "cell_type": "markdown",
   "id": "competitive-injury",
   "metadata": {},
   "source": [
    "### 3. Division euclidienne\n",
    "\n",
    "Spécifier (donner contrat et signature) et implanter une fonction qui réalise la division euclidienne de deux nombres entiers positifs. Cette fonction doit transmettre à l'appelant le _quotient **et** le reste_.\n",
    "\n",
    "Écrivez un jeu de tests unitaires pour tester la fonction écrite."
   ]
  },
  {
   "cell_type": "code",
   "execution_count": 26,
   "id": "considered-romantic",
   "metadata": {},
   "outputs": [
    {
     "name": "stdout",
     "output_type": "stream",
     "text": [
      "[Section division - RESULTS]\n",
      "( 1/ 1) mon-test FAILURE (/tmp/tmpu7hj53y1.c:14)\n",
      "\taucun test écrit\n",
      "TOTAL: #tests: 1, #signaled: 1, #timedout: 0, #failures: 0 (success ratio: 0.00%)\n",
      "\n"
     ]
    }
   ],
   "source": [
    "//%cflags: -I .\n",
    "//%ldflags: -L. -lt\n",
    "#include \"affichage.h\"\n",
    "#include \"tests.h\"\n",
    "\n",
    "/** TODO : division euclidienne **/\n",
    "\n",
    "int main() {\n",
    "    INITIALIZE_TESTS();\n",
    "\n",
    "    BEGIN_SECTION(\"division\");\n",
    "        /** TODO : tests unitaire **/\n",
    "        BEGIN_TESTI(\"mon-test\");\n",
    "        FAIL(\"aucun test écrit\");\n",
    "        END_TEST;\n",
    "\n",
    "        REPORT_TO_STDOUT;\n",
    "    END_SECTION();\n",
    "\n",
    "    return 0;\n",
    "}"
   ]
  },
  {
   "cell_type": "markdown",
   "id": "heard-concrete",
   "metadata": {},
   "source": [
    "### 4. Compteur de caractères (difficile)\n",
    "\n",
    "Écrire un sous-programme `compter` qui compte le nombre d'occurrences de chaque lettre d'une chaîne de caractère et le communique à l'appelant, en ignorant la casse (majuscules/minuscules). Le résultat est stocké dans un tableau, où la première case correspond au nombre de A, la deuxième au nombre de B, etc.\n",
    "\n",
    "Par exemple, appeler `compter` sur la chaîne `\"AaAbbC\"` donnera comme résultat `{ 3, 2, 1, 0, 0, ... }`.\n",
    "\n",
    "Écrire ensuite un sous-programme `somme` qui réalise la somme _élément par élément_ de deux tableaux d'entiers, en stockant le résultat dans le premier. Par exemple, la somme du tableau `{ 1, 2, 3, 4 }` avec le tableau `{ 1, 1, 1, 1 }` donne le tableau `{ 2, 3, 4, 5 }`.\n",
    "\n",
    "Écrire enfin un sous-programme `compter_accum` qui, étant donné un tableau qui stocke des occurrence de lettres et une chaîne de caractères, met à jour le tableau en ajoutant les occurrences de ladite chaîne de caractère."
   ]
  },
  {
   "cell_type": "code",
   "execution_count": 4,
   "id": "worthy-activity",
   "metadata": {},
   "outputs": [
    {
     "name": "stderr",
     "output_type": "stream",
     "text": [
      "/tmp/tmpky9j201z.c:13:85: error: expected declaration specifiers or ‘...’ before ‘)’ token\n",
      "   13 | void compter_accum(const char* chaine, /** À COMPLÉTER : TABLEAU D'OCCURRENCES **/) {\n",
      "      |                                                                                   ^\n",
      "/tmp/tmpky9j201z.c: In function ‘main’:\n",
      "/tmp/tmpky9j201z.c:36:9: warning: implicit declaration of function ‘compter_accum’ [-Wimplicit-function-declaration]\n",
      "   36 |         compter_accum(chaines[i], occurrences);\n",
      "      |         ^~~~~~~~~~~~~\n",
      "[C kernel] GCC exited with code 1, the executable will not be executed"
     ]
    }
   ],
   "source": [
    "//%cflags: -I .\n",
    "#include <stdio.h>\n",
    "#include \"affichage.h\"\n",
    "\n",
    "void compter(/** À COMPLÉTER **/) {\n",
    "    /** À COMPLÉTER **/\n",
    "}\n",
    "\n",
    "void somme(/** À COMPLÉTER **/) {\n",
    "    /** À COMPLÉTER **/\n",
    "}\n",
    "\n",
    "void compter_accum(const char* chaine, /** À COMPLÉTER : TABLEAU D'OCCURRENCES **/) {\n",
    "    /** À COMPLÉTER **/\n",
    "}\n",
    "\n",
    "int main() {\n",
    "    int occurrences[26]; // 26 lettres dans l'alphabet\n",
    "    for (int i = 0; i < 26; i++) {\n",
    "        occurrences[i] = 0; // On initialise\n",
    "    }\n",
    "    \n",
    "    // Chaînes à compter (tableau de chaînes de caractères dont la dernière case \n",
    "    // est NULL pour délimiter la fin)\n",
    "    char* chaines[] = {\n",
    "        \"Une premiere chaine\",\n",
    "        \"Une deuxieme chaine\",\n",
    "        \"Ici il y a des i à l'infini\",\n",
    "        \"Le Z est une lettre rare\",\n",
    "        NULL\n",
    "    };\n",
    "    \n",
    "    int i = 0;\n",
    "    while (chaines[i] != NULL) {\n",
    "        puts(chaines[i]);\n",
    "        compter_accum(chaines[i], occurrences);\n",
    "        i++;\n",
    "    }\n",
    "    \n",
    "    for (int i = 0; i < 26; i++) {\n",
    "        printf(\"#%c = %d, \", ((char) i) + 'A', occurrences[i]);\n",
    "    }\n",
    "    \n",
    "    return 0;\n",
    "}"
   ]
  }
 ],
 "metadata": {
  "kernelspec": {
   "display_name": "C",
   "language": "c",
   "name": "c"
  },
  "language_info": {
   "file_extension": ".c",
   "mimetype": "text/plain",
   "name": "c"
  }
 },
 "nbformat": 4,
 "nbformat_minor": 5
}
