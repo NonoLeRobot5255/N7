{
 "cells": [
  {
   "cell_type": "markdown",
   "id": "authorized-clear",
   "metadata": {},
   "source": [
    "*Ceci est le classeur numéro **3** de la matière Langage C du **1er semestre**, à réaliser dans le temps de la troisième séance de Langage C.*\n",
    "\n",
    "Ce troisième classeur contient les points suivants :\n",
    " - Types utilisateurs\n",
    " - Modules\n",
    " - Librairie standard\n",
    " - Mini-projet\n"
   ]
  },
  {
   "cell_type": "markdown",
   "id": "angry-sequence",
   "metadata": {},
   "source": [
    "## Les types utilisateur\n",
    "\n",
    "### Type alias\n",
    "\n",
    "Le C permet de créer des _alias_ (ou _synonymes_) pour un type. On peut alors utiliser un type ou un de ses alias indifféremment.\n",
    "\n",
    "La syntaxe est :\n",
    "```c\n",
    "    typedef <type existant> <nouvel alias>;\n",
    "```\n",
    "\n",
    "Cela est notamment pratique pour les types longs à écrire, et aussi si l'on est pas sûr du type et qu'on veut pouvoir le changer facilement (sans avoir à faire un rechercher-remplacer)."
   ]
  },
  {
   "cell_type": "code",
   "execution_count": 53,
   "id": "coated-volunteer",
   "metadata": {},
   "outputs": [
    {
     "name": "stdout",
     "output_type": "stream",
     "text": [
      "a = 1234681232\n",
      "a = 1234681232\n",
      "z = 113\n"
     ]
    }
   ],
   "source": [
    "//%cflags: -I .\n",
    "#include \"affichage.h\"\n",
    "\n",
    "typedef unsigned long long int ull_t; // On met souvent _t à la fin d'un nom de type, \n",
    "                                      // pour signifier que c'est un type\n",
    "typedef short entier_t; // Peut être que short n'est pas assez grand\n",
    "//typedef int entier_t; // On prépare d'autres alternatives (une seule à la fois)\n",
    "//typedef long entier_t;\n",
    "\n",
    "ull_t plus_2(ull_t x) {\n",
    "    return x + 2;\n",
    "}\n",
    "\n",
    "entier_t gros_calcul(entier_t x) {\n",
    "    entier_t a = 121, b = 34, c = 54;\n",
    "    entier_t y = a * x / b + c;\n",
    "    entier_t z = 2 * y - x;\n",
    "    return z;\n",
    "}\n",
    "\n",
    "int main() {\n",
    "    ull_t a = 1234681232L;\n",
    "    afficher_entier(a);\n",
    "    unsigned long long int b = a - 2; // Les types sont absolument identiques et interchangeables\n",
    "    a = plus_2(b);\n",
    "    afficher_entier(a);\n",
    "    \n",
    "    entier_t z = gros_calcul(1);\n",
    "    afficher_entier(z);\n",
    "    \n",
    "    return 0;\n",
    "}"
   ]
  },
  {
   "cell_type": "markdown",
   "id": "insured-porcelain",
   "metadata": {},
   "source": [
    "### Les énumérations\n",
    "\n",
    "Le C permet de définir des _énumérations_, autrement dit un type avec un ensemble fini de valeurs (appelées _littéraux_). On déclare une énumération avec le mot-clef `enum` et en donnant une liste de littéraux entre accolades. À noter que le nom effectif du type énumération est `enum <type>` (mais on peut faire disparaître le `enum` avec un alias). À part ça, le type ainsi défini s'utilise comme n'importe quel autre type."
   ]
  },
  {
   "cell_type": "code",
   "execution_count": 55,
   "id": "finnish-anniversary",
   "metadata": {},
   "outputs": [
    {
     "name": "stdout",
     "output_type": "stream",
     "text": [
      "La couleur n'est pas le bleu\n",
      "La couleur est bien le bleu\n"
     ]
    }
   ],
   "source": [
    "//%cflags: -I .\n",
    "#include \"affichage.h\"\n",
    "\n",
    "enum couleur {\n",
    "    rouge, bleu, vert, jaune\n",
    "}; // C'est une instruction, on oublie pas le point-virgule !\n",
    "\n",
    "void est_bleu(enum couleur c) {\n",
    "    if (c == bleu) {\n",
    "        puts(\"La couleur est bien le bleu\");\n",
    "    } else {\n",
    "        puts(\"La couleur n'est pas le bleu\");\n",
    "    }\n",
    "}\n",
    "\n",
    "int main() {\n",
    "    enum couleur c1 = rouge; // Le type est bien `enum couleur`\n",
    "    enum couleur c2 = bleu;\n",
    "    \n",
    "    est_bleu(c1);\n",
    "    est_bleu(c2);\n",
    "    \n",
    "    return 0;\n",
    "}"
   ]
  },
  {
   "cell_type": "markdown",
   "id": "mineral-loading",
   "metadata": {},
   "source": [
    "Dans les faits, les énumérations en C sont codées à l'aide d'entiers. En fait, un type énuméré n'est qu'un alias pour un type d'entiers, et les littéraux ne sont que des constantes entières. On peut même dire à C quelle valeur affecter à chaque littéral (par défaut, il affecte des nombres consécutifs en commençant par 0)."
   ]
  },
  {
   "cell_type": "code",
   "execution_count": 1,
   "id": "ordinary-pottery",
   "metadata": {},
   "outputs": [
    {
     "name": "stdout",
     "output_type": "stream",
     "text": [
      "c = 20\n",
      "rouge + 1 = 2\n",
      "violet = 21\n",
      "la couleur est le jaune\n",
      "la couleur est le vert\n",
      "la couleur est le ???\n"
     ]
    }
   ],
   "source": [
    "//%cflags: -I .\n",
    "#include \"affichage.h\"\n",
    "\n",
    "enum couleur {\n",
    "    rouge = 1, bleu = 5, vert = 10, jaune = 20, \n",
    "    violet /** pas de valeur : probablement 21 (successeur de 20) */\n",
    "};\n",
    "typedef enum couleur couleur; // alias \"couleur\" pour le type \"enum couleur\" pour que ça soit moins long à écrire\n",
    "\n",
    "void afficher_couleur(couleur c) {\n",
    "    switch (c) {\n",
    "        case rouge:\n",
    "            puts(\"la couleur est le rouge\");\n",
    "            break;\n",
    "        case bleu:\n",
    "            puts(\"la couleur est le bleu\");\n",
    "            break;\n",
    "        case vert:\n",
    "            puts(\"la couleur est le vert\");\n",
    "            break;\n",
    "        case jaune:\n",
    "            puts(\"la couleur est le jaune\");\n",
    "            break;\n",
    "        case violet:\n",
    "            puts(\"la couleur est le violet\");\n",
    "            break;\n",
    "        default: // default obligatoire sachant que la valeur pourraît être tout autre chose !\n",
    "            puts(\"la couleur est le ???\");\n",
    "    }\n",
    "}\n",
    "\n",
    "int main() {\n",
    "    couleur c = jaune; // Plus besoin du mot-clef enum\n",
    "    afficher_entier(c);\n",
    "    afficher_entier(rouge + 1); // Ça se comporte vraiment comme un entier\n",
    "    afficher_entier(violet);\n",
    "    \n",
    "    // Ce genre de tour de passe-passe est un peu dangereux...\n",
    "    afficher_couleur(c);\n",
    "    c -= 10;\n",
    "    afficher_couleur(c);\n",
    "    c += 1;\n",
    "    afficher_couleur(c);\n",
    "    \n",
    "    return 0;\n",
    "}"
   ]
  },
  {
   "cell_type": "markdown",
   "id": "intellectual-insulation",
   "metadata": {},
   "source": [
    "### Les enregistrements\n",
    "\n",
    "Un enregistrement permet de regrouper plusieurs valeurs qui ont plus de sens ensemble. En C, on définit les enregistrements avec le mot-clef `struct`, suivi de la déclaration de chaque champs (les valeurs regroupées). Comme pour les énumérations, le type d'un enregistrement est `struct <type>` (pour lequel on peut créer un alias). À part cela, un type enregistrement est un type comme les autres.\n",
    "\n",
    "On peut accéder aux champs d'une variable dont le type est un enregistrement avec la notation spéciale `.`. Un champ est un emplacement, donc on peut se servir d'un champ d'une variable comme une variable (dans une expression et/ou à gauche d'une affectation)."
   ]
  },
  {
   "cell_type": "code",
   "execution_count": 2,
   "id": "agricultural-awareness",
   "metadata": {},
   "outputs": [
    {
     "name": "stdout",
     "output_type": "stream",
     "text": [
      "m.devise = c\n",
      "m2.unites = 1\n",
      "m2.centimes = 5\n",
      "m.devise = c\n",
      "m2.devise = c\n",
      "m2.unites = 25\n",
      "m1.unites = 1\n"
     ]
    }
   ],
   "source": [
    "//%cflags: -I .\n",
    "#include \"affichage.h\"\n",
    "\n",
    "struct monnaie {\n",
    "    int unites;\n",
    "    int centimes;\n",
    "    char devise;\n",
    "};\n",
    "typedef struct monnaie monnaie; // Pour éviter de devoir écrire \"struct monnaie\" partout\n",
    "\n",
    "void afficher_devise(monnaie m) {\n",
    "    afficher_carac(m.devise); // Accès au champ \"devise\" en lecture\n",
    "    m.unites = 'a'; // Attention cette modification n'est par répercutée en dehors de la fonction \n",
    "                    // (paramètre in par défaut)\n",
    "}\n",
    "\n",
    "int main() {\n",
    "    monnaie m1;\n",
    "    m1.unites = 1;   // Accès au champ \"unites\" en écriture\n",
    "    m1.centimes = 5;\n",
    "    m1.devise = 'c';\n",
    "    afficher_devise(m1);\n",
    "    \n",
    "    // On peut initialiser un enregistrement avec un autre (ce qui en fait une copie)\n",
    "    monnaie m2 = m1;\n",
    "    afficher_entier(m2.unites);\n",
    "    afficher_entier(m2.centimes);\n",
    "    afficher_devise(m2);\n",
    "    afficher_carac(m2.devise);\n",
    "    m2.unites = 25;\n",
    "    afficher_entier(m2.unites);\n",
    "    afficher_entier(m1.unites);\n",
    "    \n",
    "    return 0;\n",
    "}"
   ]
  },
  {
   "cell_type": "markdown",
   "id": "universal-indiana",
   "metadata": {},
   "source": [
    "À noter que la notation `.` pour les enregistrements ne marche que si le type est directement un enregistrement. Si le type est un pointeur (`struct machin*`) il faut d'abord déréférencer la variable pour accéder au champ (`(*x).champ`). Cependant, accéder à un champ d'un pointeur sur un enregistrement est extrêmement courant, et il existe un raccourci qui fait le déréférencement et l'accès au champ d'un coup : la notation `->`."
   ]
  },
  {
   "cell_type": "code",
   "execution_count": 1,
   "id": "thrown-template",
   "metadata": {},
   "outputs": [
    {
     "name": "stdout",
     "output_type": "stream",
     "text": [
      "c.valeur = 10\n",
      "c.couleur = 0\n",
      "\n",
      "c.valeur = 11\n",
      "c.couleur = 0\n"
     ]
    }
   ],
   "source": [
    "//%cflags: -I .\n",
    "#include \"affichage.h\"\n",
    "\n",
    "enum couleur {\n",
    "    COEUR, PIQUE, CARREAU, TREFLE\n",
    "};\n",
    "typedef enum couleur couleur;\n",
    "\n",
    "struct carte {\n",
    "    int valeur;\n",
    "    couleur couleur;\n",
    "};\n",
    "typedef struct carte carte;\n",
    "\n",
    "void changer_valeur(carte* carte, int valeur) { // carte en out (en in-out mais on ne se sert pas du in)\n",
    "    carte->valeur = valeur;\n",
    "    // (*carte).valeur = valeur;     // < absolument équivalent\n",
    "}\n",
    "\n",
    "int main() {\n",
    "    carte c;\n",
    "    c.valeur = 10;\n",
    "    c.couleur = COEUR;\n",
    "    \n",
    "    afficher_entier(c.valeur);\n",
    "    afficher_entier(c.couleur);\n",
    "    \n",
    "    nouvelle_ligne();\n",
    "    \n",
    "    changer_valeur(&c, 11);\n",
    "    \n",
    "    afficher_entier(c.valeur);\n",
    "    afficher_entier(c.couleur);\n",
    "    \n",
    "    return 0;\n",
    "}"
   ]
  },
  {
   "cell_type": "markdown",
   "id": "instructional-portugal",
   "metadata": {},
   "source": [
    "#### Petit exercice : comptage de caractères\n",
    "\n",
    "Définir une énumération `enum type_cara` avec les littéraux `ESPACES`, `MINUSCULES`, `MAJUSCULES` et `CHIFFRES`.\n",
    "\n",
    "Définir un enregistrement `struct resultat` avec un champ `type` de type `enum type_cara` et un champ `valeur` de type `int`.\n",
    "\n",
    "Définir le sous-programme qui à une chaîne de caractères et un type de caractère associe un élément de type `struct resultat` dont le champ `type` est celui demandé, et dont le champ `valeur` contient le nombre de caractère du type demandé (donc nombre d'espaces, de minuscules, de majuscules ou de chiffres)."
   ]
  },
  {
   "cell_type": "code",
   "execution_count": 1,
   "id": "separated-consideration",
   "metadata": {},
   "outputs": [
    {
     "name": "stdout",
     "output_type": "stream",
     "text": [
      "[Section nominal - RESULTS]\n",
      "TOTAL: #tests: 4, #signaled: 0, #timedout: 0, #failures: 0 (success ratio: 100.00%)\n",
      "\n"
     ]
    }
   ],
   "source": [
    "//%cflags: -I .\n",
    "//%ldflags: -L. -lt\n",
    "#include \"affichage.h\"\n",
    "#include \"tests.h\"\n",
    "\n",
    "enum type_cara {\n",
    "    /** À COMPLÉTER **/\n",
    "};\n",
    "\n",
    "struct resultat {\n",
    "    /** À COMPLÉTER **/\n",
    "};\n",
    "\n",
    "struct resultat compter(const char* chaine, enum type_cara type) {\n",
    "    /** À COMPLÉTER **/\n",
    "}\n",
    "\n",
    "int main() {\n",
    "INITIALIZE_TESTS();\n",
    "    \n",
    "BEGIN_SECTION(\"nominal\")\n",
    "    struct resultat res;\n",
    "    char* chaine = \"J'ai 700 Copies A Corriger\";\n",
    "    \n",
    "    BEGIN_TESTI(\"compter-espaces\")\n",
    "    res = compter(chaine, ESPACES);\n",
    "    ASSERT_EQ(res.type, ESPACES);\n",
    "    ASSERT_EQ(res.valeur, 4);\n",
    "    END_TEST\n",
    "    \n",
    "    BEGIN_TESTI(\"compter-min\")\n",
    "    res = compter(chaine, MINUSCULES);\n",
    "    ASSERT_EQ(res.type, MINUSCULES);\n",
    "    ASSERT_EQ(res.valeur, 14);\n",
    "    END_TEST\n",
    "    \n",
    "    BEGIN_TESTI(\"compter-espaces\")\n",
    "    res = compter(chaine, MAJUSCULES);\n",
    "    ASSERT_EQ(res.type, MAJUSCULES);\n",
    "    ASSERT_EQ(res.valeur, 4);\n",
    "    END_TEST\n",
    "    \n",
    "    BEGIN_TESTI(\"compter-espaces\")\n",
    "    res = compter(chaine, CHIFFRES);\n",
    "    ASSERT_EQ(res.type, CHIFFRES);\n",
    "    ASSERT_EQ(res.valeur, 3);\n",
    "    END_TEST\n",
    "    \n",
    "    REPORT_TO_STDOUT\n",
    "\n",
    "END_SECTION()\n",
    "    \n",
    "    return 0;\n",
    "}"
   ]
  },
  {
   "cell_type": "markdown",
   "id": "pursuant-processing",
   "metadata": {},
   "source": [
    "## Les Modules\n",
    "\n",
    "Le C permet de découper son programme en plusieurs fichiers. Dans un projet, on trouve des fichier `.h` (headers) qui **ne sont pas compilés** et contiennent seulement des spécifications/déclarations (signatures de fonctions, types et alias) et des fichiers `.c` (sources) qui eux sont compilés et contiennent les _implantations_ correspondant aux headers.\n",
    "\n",
    "Un _module_ en C est informellement une paire de fichiers `.h`/`.c` correspondants. Par convention, on utilise le même nom de base (le module `truc` est donc la paire de fichiers `truc.h`/`truc.c`).\n",
    "\n",
    "---\n",
    "\n",
    "```c\n",
    "// truc.h\n",
    "...\n",
    "#include \"machin.h\" // Un header peut faire référence à un autre header \n",
    "                    // (s'il utilise un type de ce header par ex.)\n",
    "#include <stdio.h>  // Y compris des headers de la librairie standard\n",
    "   \n",
    "// Déclaration d'un type concret\n",
    "struct type_concret {\n",
    "    int x;\n",
    "    double y;\n",
    "};\n",
    "\n",
    "// Déclaration de fonction\n",
    "int ma_fonction(int a);\n",
    "...\n",
    "```\n",
    "---\n",
    "\n",
    "```c\n",
    "// truc.c\n",
    "...\n",
    "#include \"truc.h\" // En général on a besoin d'inclure le header correspondant\n",
    "#include <stdlib.h> // Inclusion \"privée\" du module\n",
    "\n",
    "// Implantation\n",
    "int ma_fonction(int a) {\n",
    "    return 2 * a + 1;\n",
    "}\n",
    "...\n",
    "\n",
    "```\n",
    "\n",
    "---\n",
    "\n",
    "Le fichier header est celui qui est importé dans les autres fichiers (avec la directive `#include`) pour rendre visible les déclarations du module. Les fichiers sources sont compilés séparéments, et mis en commun au moment de l'édition des liens (cf premier classeur)."
   ]
  },
  {
   "cell_type": "markdown",
   "id": "pointed-catalog",
   "metadata": {},
   "source": [
    "### Hiérarchie de modules et gardes\n",
    "\n",
    "_(dans la suite, on prendra comme exemple le (petit) ensemble de fichiers qui se trouve dans le dossier `classeur-3-exemples/include-erreur`, fourni avec ce classeur)_\n",
    "\n",
    "Il faut noter que, contrairement à un langage moderne tel qu'Ada ou Java, C ne propose pas un \"vrai\" système de modules avec espaces de nom et autres. En fait, tout ce que fait `#include` c'est de copier-coller le contenu du fichier donné dans le ficher courant (on peut s'en convaincre en demandant à GCC de donner le code une fois les directives \"dépliées\", avec `gcc -E truc.c`). Le mécanisme `.h`/`.c` est donc une _convention_ plus qu'autre chose (même si 99.999% du code C existant la suit).\n",
    "\n",
    "Un inconvéniant de ce système est que l'on peut facilement se retrouver à importer (= copier-coller) plusieurs fois le même header dans un fichier, par exemple :"
   ]
  },
  {
   "cell_type": "markdown",
   "id": "geological-effectiveness",
   "metadata": {},
   "source": [
    "<center>\n",
    "<img width=\"25%\" src=\"data:image/svg+xml;base64,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\" />\n",
    "</center>"
   ]
  },
  {
   "cell_type": "markdown",
   "id": "martial-strap",
   "metadata": {},
   "source": [
    "Comme `#include` ne fait vraiment que copier-coller le contenu du fichier, `main.c` se retrouve avec deux copies de `machin.h` (celle qui vient du `#include \"machin.h\"` dans `main.c` et celle qui vient du `#include \"machin.h\"` dans `truc.h`, lui-même inclus dans `main.c` avec `#include \"truc.h\"`).\n",
    "\n",
    "Le problème est que le C n'autorise pas de déclarer plusieurs fois la même fonction ; lorsqu'on essaye de compiler `main.c` (essayez de faire `gcc -c main.c`), le compilateur renvoit des erreurs de type \"redefinition of\" ou \"conflicting types\"...\n",
    "\n",
    "Pour pallier ça, on utilise la structure suivante, que l'on appelle une _garde_ :\n",
    "```c\n",
    "/** tout début du fichier, avant tout autre instruction ! */\n",
    "#ifndef TRUC_H\n",
    "#define TRUC_H\n",
    "\n",
    "... /** contenu du fichier **/\n",
    "    \n",
    "#endif\n",
    "/** ne rien mettre après */\n",
    "```\n",
    "\n",
    "À la compilation, la directive `#ifndef XXX ... #endif` est remplacée par son contenu si et seulement si le symbole `XXX` n'a pas encore été défini. La directive `#define XXX` quant à elle, définit le symbole `XXX`. Autrement dit, dès qu'on rentre dans le corps du `#ifndef`, on définit le symbole, et donc on s'assure qu'on ne rentrera pas de nouveau dans ce corps : le corps n'est copié qu'une seule fois !\n",
    "\n",
    "Pour reprendre l'exemple de tout à l'heure (_cf dossier `classeur-3-exemples/include-correct`_, dans lequel vous pouvez essayer de faire `gcc -c main.c` de nouveau), le début de `main.c` se présente ainsi :\n",
    "```c\n",
    "#include \"machin.h\"\n",
    "#include \"truc.h\"\n",
    "```\n",
    "\n",
    "Voici ce qui se passe à la compilation, avec des gardes dans chaque header :\n",
    "  1. Le compilateur rencontre la directive `#include \"machin.h\"`, il \"rentre\" dans le fichier `machin.h`.\n",
    "  2. Le compilateur rencontre la directive `#ifndef MACHIN_H\"` ; à ce moment, le symbole `MACHIN_H` n'est pas défini, donc il rentre dans le corps du `#ifndef`.\n",
    "  3. Le compilateur rencontre la directive `#define MACHIN_H` ; le symbole `MACHIN_H` devient défini.\n",
    "  4. Le compilateur copie-colle le contenu de `machin.h` (puis \"sort\" du fichier `machin.h`).\n",
    "  5. Le compilateur rencontre la directive `#include \"truc.h\"`, il \"rentre\" dans le fichier `truc.h`.\n",
    "  6. Le compilateur rencontre la directive `#ifndef TRUC_H` ; à ce moment, le symbole `TRUC_H` n'est pas défini, donc il rendre dans le corps du `#ifndef`.\n",
    "  7. Le compilateur rencontre la directive `#define TRUC_H` ; le symbole `TRUC_H` devient défini.\n",
    "  8. Le compilateur rencontre la directive `#include \"machin.h\"`, il \"rentre\" dans le fichier `machin.h`.\n",
    "  9. Le compilateur rencontre la directive `#ifndef MACHIN_H` ; à ce moment, le symbole `MACHIN_H` **est bien défini !** (il l'a été à l'étape 3). Le compilateur saute donc directement au `#endif` correspondant, et le contenu du fichier **n'est pas copié**.\n",
    "  \n",
    "**On a bien le contenu de `machin.h` qui a été copié _une seule fois_, alors qu'il a été inclus plusieurs fois !**\n",
    "\n",
    "<br>\n",
    "\n",
    "Pour résumer : la garde permet de s'assurer que les fichiers `.h` ne sont copiés qu'une seule fois, pour ne pas avoir de conflits. **Elle est absolument obligatoire. `.h` = garde. Pas d'exception.**"
   ]
  },
  {
   "cell_type": "markdown",
   "id": "comic-conflict",
   "metadata": {},
   "source": [
    "<u>Note :</u> on peut globalement utiliser le symbole que l'on veut, mais la tradition veut qu'on mette le nom du module puis `_H`, tout en majuscule. Concrètement, les lettres, chiffres et underscore sont autorisés, et il faut juste éviter que le nom du symbole n'existe déjà."
   ]
  },
  {
   "cell_type": "markdown",
   "id": "organized-ireland",
   "metadata": {},
   "source": [
    "## Quelques fonctionnalités de la librairie standard\n",
    "\n",
    "Le langage C présente \"nativement\" (= sans installation additionnelle) un certain nombre de fonctionnalités, regroupées dans divers modules sous le terme \"librairie standard\". Parmi ces modules, on trouve :\n",
    "  - [`stdbool.h`](https://cplusplus.com/reference/cstdbool/) : définition et opérations sur les booléens\n",
    "  - [`stdlib.h`](https://cplusplus.com/reference/cstdlib/) : ensemble de fonctionnalités pratiques autour de la mémoire, et aussi pour transformer des chaînes en nombre, générer des nombres aléatoires, manipuler le flot du programme...\n",
    "  - [`stdio.h`](https://cplusplus.com/reference/cstdio/) : fonctionnalités d'entrée/sortie (IO = Input Output)\n",
    "  - [`string.h`](https://cplusplus.com/reference/cstring/) : fonctionnalités autour des chaînes de caractère\n",
    "  \n",
    "Nous vous encourageons à explorer un peu ces modules par vous-même. Dans cette section, nous allons présenter quelques fonctionnalités basiques."
   ]
  },
  {
   "cell_type": "markdown",
   "id": "radio-survival",
   "metadata": {},
   "source": [
    "### Les fonctions `putchar` et `puts`\n",
    "\n",
    "La fonction [`putchar`](https://cplusplus.com/reference/cstdio/putchar/) affiche un caractère sur la sortie standard. La fonction [`puts`](https://cplusplus.com/reference/cstdio/puts/), elle, affiche une chaîne de caractères (plus un retour à la ligne)."
   ]
  },
  {
   "cell_type": "code",
   "execution_count": 5,
   "id": "above-dakota",
   "metadata": {},
   "outputs": [
    {
     "name": "stdout",
     "output_type": "stream",
     "text": [
      "ab\n",
      "J'aime le C\n",
      "C'est un très bon\n",
      "langage, bien meilleur que\n",
      "Python\n",
      "abcdefghijklmnopqrstuvwxyz\n"
     ]
    }
   ],
   "source": [
    "#include <stdio.h> // Les fonctions se trouvent dans le module stdio\n",
    "\n",
    "int main() {\n",
    "    putchar('a');\n",
    "    putchar('b');\n",
    "    putchar('\\n');\n",
    "    \n",
    "    puts(\"J'aime le C\");\n",
    "    puts(\"C'est un très bon\\nlangage, bien meilleur que\\nPython\");\n",
    "    \n",
    "    for (char c = 'a'; c <= 'z'; c++) { // Attention il faut bien que 'a' < 'z' sinon ça ne finit pas\n",
    "        putchar(c);\n",
    "    }\n",
    "    putchar('\\n');\n",
    "    \n",
    "    return 0;\n",
    "}"
   ]
  },
  {
   "cell_type": "markdown",
   "id": "frank-passion",
   "metadata": {},
   "source": [
    "### La fonction `printf`\n",
    "\n",
    "La fonction [`printf`](https://cplusplus.com/reference/cstdio/printf/) permet d'afficher une \"chaîne de caractères formattée\" sur la sortie standard (= le terminal). Une chaîne formattée est concrètement un texte à trou. La fonction prend en paramètre le texte à trou, et la valeur à substituer pour chaque trou. Cela permet de facilement afficher des phrases à parties variables, des valeurs d'expressions, etc.\n",
    "\n",
    "Par exemple, on peut afficher une chaîne statique :\n",
    "```c\n",
    "printf(\"Ceci est une chaîne sans trou\");\n",
    "```\n",
    "\n",
    "Les trous sont identifiés par des symboles pourcent `%`, suivi d'une lettre qui indique le type du trou :\n",
    "```c\n",
    "printf(\"Il y a un trou de type entier : %d\\n\", 151 + 293);\n",
    "printf(\"Il y a un trou de type flottant : %f\\n\", 1.0 / 0.00213);\n",
    "```\n",
    "\n",
    "On peut avoir autant de trou qu'on veut, de tous les types qu'on veut :\n",
    "```c\n",
    "printf(\"Des trous : %d, %c, %f, %s\\n\", 151, 'a', 0.1, \"<<>>\");\n",
    "```\n",
    "\n",
    "Il existe plein de types de trous (pour tous les types basiques de C), et certains types de trou acceptent des configurations diverses. Par exemple, on peut indiquer la précision à donner pour un nombre flottant :\n",
    "```c\n",
    "printf(\"Un nombre pas précis : %.1f\\nUn nombre très précis : %.10f\\n\", sqrt2, sqrt2);\n",
    "```\n",
    "\n",
    "Le fonctionnement détaillé de la fonction et les divers types de trous disponibles sont décrits [dans la documentation](https://cplusplus.com/reference/cstdio/printf/)."
   ]
  },
  {
   "cell_type": "code",
   "execution_count": 3,
   "id": "passing-architect",
   "metadata": {},
   "outputs": [
    {
     "name": "stdout",
     "output_type": "stream",
     "text": [
      "Ceci est une chaîne sans trou\n",
      "Il y a un trou de type entier : 444\n",
      "Il y a un trou de type flottant : 469.483568\n",
      "Des trous : 151, a, 0.100000, <<>>\n",
      "Un nombre pas précis : 1.4\n",
      "Un nombre très précis : 1.4142135624\n"
     ]
    }
   ],
   "source": [
    "#include <stdio.h>\n",
    "\n",
    "int main() {\n",
    "    printf(\"Ceci est une chaîne sans trou\");\n",
    "    printf(\"\\n\"); // Par défaut pas de retour à la ligne avec printf ; donc j'en ajoute un pour la présentation\n",
    "    \n",
    "    printf(\"Il y a un trou de type entier : %d\\n\", 151 + 293);\n",
    "    printf(\"Il y a un trou de type flottant : %f\\n\", 1.0 / 0.00213);\n",
    "    \n",
    "    printf(\"Des trous : %d, %c, %f, %s\\n\", 151, 'a', 0.1, \"<<>>\");\n",
    "    \n",
    "    double sqrt2 = 1.41421356237;\n",
    "    printf(\"Un nombre pas précis : %.1f\\nUn nombre très précis : %.10f\\n\", sqrt2, sqrt2);\n",
    "    return 0;\n",
    "}"
   ]
  },
  {
   "cell_type": "markdown",
   "id": "printable-marathon",
   "metadata": {},
   "source": [
    "*Note :* vous l'aurez sans doute compris, les fonctions du module `affichage` se basent principalement sur `printf` !"
   ]
  },
  {
   "cell_type": "markdown",
   "id": "overhead-forestry",
   "metadata": {},
   "source": [
    "### Le module `math.h`\n",
    "\n",
    "Le module [`math.h`](https://cplusplus.com/reference/cmath/) est un module séparé de la librairie standard, qui contient tout un tas de fonctions pour faire du calcul avancé. Attention, comme c'est un module à part, il faut ajouter une librairie à l'édition des liens (en ajoutant `-lm` dans les options de GCC)."
   ]
  },
  {
   "cell_type": "code",
   "execution_count": 24,
   "id": "dutch-zambia",
   "metadata": {},
   "outputs": [
    {
     "name": "stdout",
     "output_type": "stream",
     "text": [
      "exp(1) = 2.718282\n",
      "f(-10.00) = -6.712146e+00\n",
      "f( -9.00) = -6.519768e+00\n",
      "f( -8.00) = -6.335496e+00\n",
      "f( -7.00) = -6.168701e+00\n",
      "f( -6.00) = -6.038467e+00\n",
      "f( -5.00) = -5.988386e+00\n",
      "f( -4.00) = -6.138403e+00\n",
      "f( -3.00) = -6.954749e+00\n",
      "f( -2.00) = -1.319860e+01\n",
      "f( -1.00) = +4.659792e+00\n",
      "f( +0.00) = +0.000000e+00\n",
      "f( +1.00) = +5.600992e-01\n",
      "f( +2.00) = +6.711503e-01\n",
      "f( +3.00) = +7.701270e-01\n",
      "f( +4.00) = +8.599126e-01\n",
      "f( +5.00) = +9.421367e-01\n",
      "f( +6.00) = +1.018225e+00\n",
      "f( +7.00) = +1.089280e+00\n",
      "f( +8.00) = +1.156139e+00\n",
      "f( +9.00) = +1.219443e+00\n",
      "f(+10.00) = +1.279690e+00\n"
     ]
    }
   ],
   "source": [
    "// On intègre la librairie math (simplement appelée m) pour l'édition des liens\n",
    "//%ldflags: -lm\n",
    "#include <stdlib.h>\n",
    "#include <stdio.h>\n",
    "#include <math.h>     // le module math\n",
    "\n",
    "double f(double x) {\n",
    "    return sqrt(fabs(x)) / (1.0 + atan(x));\n",
    "}\n",
    "\n",
    "int main() {\n",
    "    printf(\"exp(1) = %.6f\\n\", exp(1.0));\n",
    "    \n",
    "    for (int i = -10; i <= 10; i++) {\n",
    "        double x = (double) i;\n",
    "        printf(\"f(%+6.2f) = %+e\\n\", x, f(x));\n",
    "    }\n",
    "    return 0;\n",
    "}"
   ]
  },
  {
   "cell_type": "markdown",
   "id": "identified-depression",
   "metadata": {},
   "source": [
    "## Mini-projet : nombres complexes et ensemble de Mandelbrot\n",
    "\n",
    "Le but final de ce projet est d'implémenter un petit algorithme qui permet de constituer l'ensemble de Mandelbrot.\n",
    "\n",
    "### Présentation générale\n",
    "\n",
    "La _suite de Mandelbrot_ est la suite $(z_n) \\in \\mathbb{C}^\\mathbb{N}$ de [nombres complexes](https://fr.wikipedia.org/wiki/Nombre_complexe) définie par récurrence ainsi :\n",
    "$$\n",
    "\\left\\{\\begin{array}{l}\n",
    "z_0 = 0 \\\\\n",
    "z_{n+1} = z_n^2 + c\n",
    "\\end{array}\\right.\n",
    "$$\n",
    "\n",
    "Pour un $c \\in \\mathbb{C}$ donné.\n",
    "\n",
    "L'[_ensemble de Mandelbrot_](https://fr.wikipedia.org/wiki/Ensemble_de_Mandelbrot) est l'ensemble des nombres complexes $c$ tels que la suite de Mandelbrot soit bornée. Par un tour de passe-passe mathématique, on peut démontrer que s'il existe $N \\in \\mathbb{N}$ tel que $|z_N| > 2$ ($|z|$ étant le _module_ du nombre complexe $z$), alors la suite est divergente. On note $N(c)$ la _vitesse de divergence_ de la suite $(z_n)$ pour le paramètre $c$ (on peut considérer que $N(c) = \\infty$ si $(z_n)$ est bornée pour ce $c$ là).\n",
    "\n",
    "On peut alors calculer $N(c)$ en tout point du plan complexe. En affectant une couleur à $N(c)$ (noir si $\\infty$ et choisie dans une échelle judicieusement adaptée sinon), on peut donner une représentation graphique de l'ensemble de Mandelbrot."
   ]
  },
  {
   "cell_type": "markdown",
   "id": "expected-opposition",
   "metadata": {},
   "source": [
    "<table><tr>\n",
    "    <td><img style=\"object-fit:contain;\" src=\"mandelbrot/mandel_1.png\" /></td>\n",
    "    <td><img style=\"object-fit:contain;\" src=\"mandelbrot/mandel_2.png\" /></td>\n",
    "    <td><img style=\"object-fit:contain;\" src=\"mandelbrot/mandel_3.png\" /></td></tr><tr>\n",
    "    <td><img style=\"object-fit:contain;\" src=\"mandelbrot/mandel_4.png\" /></td>\n",
    "    <td><img style=\"object-fit:contain;\" src=\"mandelbrot/mandel_5.png\" /></td>\n",
    "    <td><img style=\"object-fit:contain;\" src=\"mandelbrot/mandel_6.png\" /></td>\n",
    "</tr></table>"
   ]
  },
  {
   "cell_type": "markdown",
   "id": "processed-constant",
   "metadata": {},
   "source": [
    "Comme on le voit sur les images ci-dessus (obtenue par divers zoom sur une implémentation de ce projet), l'ensemble de Mandelbrot présente une structure fractale riche et étonnante, avec des tourbillons, des \"îles\", et cette figure de la \"tique\" qui se répète à l'infini.\n",
    "\n",
    "<br>\n",
    "\n",
    "L'objectif de ce projet est de compléter le visualisateur donné pour qu'il affiche la fractale de Mandelbrot. Le gros du travail (affichage et rendu) a été fait, il ne manque que l'algorithme qui calcule la vitesse de divergence !"
   ]
  },
  {
   "cell_type": "markdown",
   "id": "anonymous-registration",
   "metadata": {},
   "source": [
    "### Fourniture et travail demandé\n",
    "\n",
    "Vous trouverez sur Moodle une archive contenant le projet. Ce projet se compose d'un grand nombre de modules relativement compliqués, auquel vous n'aurez pas à toucher. Les modules/fichiers qui nous intéressent sont les suivants :\n",
    "  - `complexe.h/complexe.c` : module définissant les nombres complexes, à compléter\n",
    "  - `mandelbrot.h/mandelbrot.c` : module spécifiant l'algorithme de calcul de la vitesse de divergence, à compléter\n",
    "  - `test_complexe.c` : fichier de test pour le module `complexe`, fourni\n",
    "\n",
    "Le projet se déroule comme suit :\n",
    "  1. Créer le module `complexe` avec la spécification donnée (ci-dessous)\n",
    "  2. Lancer les tests sur le module complexe\n",
    "  3. Compléter le module `mandelbrot` avec l'algorithme spécifié (ci-dessous)\n",
    "  4. Lancer le visualisateur et explorer l'ensemble de Mandelbrot !"
   ]
  },
  {
   "cell_type": "markdown",
   "id": "based-server",
   "metadata": {},
   "source": [
    "#### Le module `complexe`\n",
    "\n",
    "Écrire la spécification (`.h`) et l'implantation (`.c`) du module `complexe`. Des morceaux de fichier vous ont été fournis, mais il manque beaucoup de choses !\n",
    "\n",
    "<br>\n",
    "\n",
    "> **ATTENTION :** vous ***DEVEZ*** respecter les noms et l'ordre des arguments donnés dans le sujet. Sans cela, le programme ne compilera pas !\n",
    "\n",
    "<br>\n",
    "\n",
    "Voici les étapes à réaliser :\n",
    " 1. Définir le _type utilisateur_ `complexe_t` qui représente un nombre complexe. Utiliser un alias pour que le type qui apparaisse dans le code soit bien `complexe_t`.\n",
    " 2. Spécifier (= donner contrat et signature) et implanter les fonctions :\n",
    "   - `reelle`, qui à un nombre complexe associe sa partie réelle\n",
    "   - `imaginaire`, qui à un nombre complexe associe sa partie imaginaire\n",
    " 3. Spécifier et implanter les procédures :\n",
    "   - `set_reelle`, qui modifie la partie réelle du nombre complexe donné avec le nombre réel donné (dans cet ordre)\n",
    "   - `set_imaginaire`, qui modifie la partie imaginaire du nombre complexe donné avec le nombre réel donné (dans cet ordre)\n",
    "   - `init`, qui modifie la partie réelle et la partie imaginaire du nombre complexe donné avec les deux réels donnés (partie réelle puis imaginaire, dans cet ordre)\n",
    " 4. Implanter la procédure `copie` spécifiée dans `complexe.h`, qui modifie le nombre complexe donné de façon à ce que ses composantes soient les même que l'autre nombre passé en paramètre.\n",
    " 5. Implanter les procédures dont les contrats sont données dans `complexe.h` :\n",
    "   - `conjugue` : calcule le [conjugué](https://fr.wikipedia.org/wiki/Conjugu%C3%A9) d'un nombre complexe\n",
    "   - `ajouter` : réalise l'addition de deux nombres complexes\n",
    "   - `soustraire` : réalise la soustraction de deux nombres complexes\n",
    "   - `multiplier` : réalise la multiplication de deux nombre complexes\n",
    "   - `echelle` : multiplie un nombre complexe par un nombre réel\n",
    " 6. Implanter la procédure `puissance` spécifiée dans le `.h`. Attention au contrat.\n",
    " 7. Spécifier et implanter les fonctions :\n",
    "   - `module_carre`, qui calcule le carré du [module](https://fr.wikipedia.org/wiki/Module_d%27un_nombre_complexe) du complexe donné en paramètre\n",
    "   - `module`, qui calcule le [module](https://fr.wikipedia.org/wiki/Module_d%27un_nombre_complexe) du complexe donné en paramètre (on pourra s'aider de la librairie `math`)\n",
    "   - `argument`, qui calcule l'[argument](https://fr.wikipedia.org/wiki/Argument_d%27un_nombre_complexe) du complexe donné en paramètre (on pourra s'aider de la librairie `math`) ; attention au contrat de cette fonction\n",
    "\n",
    "Nous vous fournissons un script qui teste (grossièrement) la conformance de votre `.h` à la spécification demandée (`test_struct`), ainsi qu'une batterie de _tests unitaires_ pour tester le module `complexe` (`test_complexe.c`). **Il ne vous est pas autorisé de les modifier**.\n",
    "\n",
    "Lorsque votre module `complexe` est terminé, vous pouvez le tester en réalisant les étapes suivantes (dans un terminal à l'endroit où se trouve le code) :\n",
    "```\n",
    "> make test\n",
    "> make runtest\n",
    "```\n",
    "\n",
    "(bien sûr, on ne peut faire `make runtest` que si `make test` n'a pas renvoyé d'erreur)\n",
    "\n",
    "L'exécution de `make runtest` lance les tests et vous donne le résultat (il sauvegarde aussi ces résultats dans un CSV, pour une version synthétique). Si vous avez 0 échecs, vous pouvez passer à l'étape suivante !"
   ]
  },
  {
   "cell_type": "markdown",
   "id": "foster-checklist",
   "metadata": {},
   "source": [
    "#### Le module `mandelbrot`\n",
    "\n",
    "Le module `mandelbrot` (composé du header `mandelbrot.h` et du fichier source `mandelbrot.c`) contient l'algorithme de calcul de la vitesse de divergence de la suite de Mandelbrot. Cet algorithme est à implémenter dans la fonction `mandelbrot`, dont le contrat exhaustif et la signature sont données dans le fichier header.\n",
    "\n",
    "La fonction `mandelbrot` prend en paramètre :\n",
    "  - `z0` le terme initial de la suite de Mandelbrot (a priori $0 + 0 i$ mais la fonction doit pouvoir marcher avec n'importe quelle valeur)\n",
    "  - `c` le terme constant de la suite, qui varie en fonction d'où l'on se trouve dans le plan complexe\n",
    "  - `seuil` le seuil à partir duquel on considère que la suite est divergente\n",
    "  - `maxit` le nombre maximal d'itération à effectuer avant de conclure que la suite est convergente\n",
    "\n",
    "L'algorithme marche comme suit :\n",
    "  1. On calcule un à un les termes de la suite de Mandelbrot (en suivant la relation de récurrence présentée plus haut)\n",
    "  2. Dès que le module du terme actuel dépasse `seuil`, on s'arrête\n",
    "  3. Dès que le nombre d'itérations effectuées dépasse `maxit`, on s'arrête\n",
    "  4. On retourne le nombre d'itérations effectuées (qui doit donc se trouver entre 0 et `maxit` inclus)\n",
    "\n",
    "<br>\n",
    "\n",
    "Une fois cet algorithme implémenté, on peut compiler et lancer l'outil :\n",
    "```\n",
    "> make\n",
    "> ./mandelbrot\n",
    "```\n",
    "\n",
    "L'outil ouvre une fenêtre et réalise le rendu de la fractale de Mandelbrot en utilisant votre algorithme ! Vous devez voir apparaître la fameuse \"tique\" de Mandelbrot.\n",
    "\n",
    "On peut faire un click gauche à un endroit pour zoomer dessus, ou un click droit pour dé-zoomer. On peut aussi déplacer l'image vers le haut, le bas, la gauche ou la droite en utilisant les flèches directionnelles du clavier. On peut faire varier la luminosité de l'image avec P (plus) et M (moins), ce qui est pratique quand on arrive dans des zones \"très lumineuses\".\n",
    "\n",
    "Enfin, il suffit de faire Q ou Échap (ou de clicker sur la croix) pour quitter la fenêtre.\n",
    "\n",
    "À noter que la fenêtre traque la souris et affiche les coordonnées complexes de sa position dans l'image. Les mensurations du repère sont par ailleurs affichées en bas à droite de la fenêtre.\n",
    "\n",
    "<br>\n",
    "\n",
    "À noter qu'on peut configurer l'outil au lancement en utilisant divers arguments. La liste et la description des arguments acceptés par l'outil est accessible en faisant `./mandelbrot --help`.\n",
    "\n",
    "En particulier, dans un premier temps, il peut être utile de réduire la taille de la fenêtre (pour qu'il y ait moins à calculer et donc obtenir une image plus vite, bien que moins détaillée). On peut choisir une fenêtre en 600 par 800 avec les options `-h 600 -w 800`.\n",
    "\n",
    "On peut aussi réduire le nombre d'itérations maximal pour l'algorithme (plus il est bas et plus l'algorithme termine rapidement ; par contre, il perd aussi beaucoup en précision...). Dans un premier temps par exemple, on peut se limiter à 1000 itérations, avec `-i 1000`.\n",
    "\n",
    "Cela donne, pour cet exemple de configuration :\n",
    "```\n",
    "> ./mandelbrot -h 600 -w 800 -i 1000\n",
    "```"
   ]
  },
  {
   "cell_type": "markdown",
   "id": "twelve-aggregate",
   "metadata": {},
   "source": [
    "### Modalités de rendu et d'évaluation\n",
    "\n",
    "Le rendu se fait **sur Moodle**, sur la page de la matière à l'endroit indiqué. Il ne doit y avoir **qu'un seul rendu par groupe**. Pour nous permettre d'identifier qui a travaillé sur le projet, vous **devez impérativement compléter le fichier A-COMPLETER.txt**.\n",
    "\n",
    "Vous devrez déposer sur Moodle une **archive .tar.gz** que l'on obtient en utilisant le script fourni, `creer_rendu`. Pour cela, vous pouvez simplement faire : `./creer_rendu` ou `make rendu`. La commande crée un fichier `rendu.tar.gz`, que vous n'avez plus qu'à déposer sur Moodle.\n",
    "\n",
    "Pour votre information, l'archive contiendra les fichiers `complexe.h`, `complexe.c`, `mandelbrot.c` et `A-COMPLETER.txt` _et rien d'autre_. Il ne vous est pas permis de rendre des fichiers additionnels ou d'autres fichiers que vous auriez modifié.\n",
    "\n",
    "Lors de la correction, les fichiers sont placés dans un environnement contrôlé (le même que celui qui vous est fourni, en fait) et testé dans ces conditions.\n",
    "\n",
    "<br>\n",
    "\n",
    "**Nous attendons de vous que :**\n",
    "  1. **vous respectiez scrupuleusement les consignes énoncées dans cette partie (utilisation du script, complétion de A-COMPLETER.txt)**\n",
    "  2. **les fichiers rendus compilent _sans erreur_ dans l'environnement (celui des machines de l'ENSEEIHT)**\n",
    "  \n",
    "En cas de non respect de l'une de ces deux règles, **la note sera automatiquement mise à 0**.\n",
    "\n",
    "Par ailleurs, notez que **l'utilisation de modèles de langage (ChatGPT, Copilot, etc.) est strictement interdite, de même que la recopie depuis un autre groupe**. Tout triche entraînera des sanctions.\n",
    "\n",
    "<br>\n",
    "\n",
    "Les rendus sont compilés, testés et examinés par votre intervenant de TP. Ils sont évalués selon 3 critères principaux :\n",
    "  1. Fonctionnalité du code\n",
    "  2. Respect des consignes\n",
    "  3. Qualité du code\n",
    "\n",
    "Pour avoir le maximum de points, il faut notamment que la compilation n'entraîne aucun warning (les options `-Wall -Wextra -pedantic` sont utilisées), et que _tous les tests unitaires_ passent. Les contrats doivent être complets et exhaustifs (et respecter la spécification présentée dans le sujet du projet), et le code doit respecter les bonnes pratiques de la programmation que vous devez maîtriser (indentation correcte, nom de variable qui a du sens, utilisation des bonnes structures, etc.)."
   ]
  },
  {
   "cell_type": "markdown",
   "id": "above-zealand",
   "metadata": {},
   "source": [
    "> **Pour toute question, s'adresser à votre encadrant de TP. Des informations complémentaires (réponses à des questions courantes, dates de rendu) peuvent se trouver sur la page Moodle de la matière, à consulter de temps à autres pour ne rien rater !**"
   ]
  }
 ],
 "metadata": {
  "kernelspec": {
   "display_name": "C",
   "language": "c",
   "name": "c"
  },
  "language_info": {
   "file_extension": ".c",
   "mimetype": "text/plain",
   "name": "c"
  }
 },
 "nbformat": 4,
 "nbformat_minor": 5
}
